{
 "cells": [
  {
   "cell_type": "code",
   "execution_count": 227,
   "metadata": {},
   "outputs": [],
   "source": [
    "import time #import time module\n",
    "import datetime #import datetime module (functions)\n",
    "import pandas as pd"
   ]
  },
  {
   "cell_type": "code",
   "execution_count": 228,
   "metadata": {},
   "outputs": [],
   "source": [
    "ticker = 'AAPL'\n",
    "period1 = int(time.mktime(datetime.datetime(2022, 12, 1, 23, 59).timetuple()))\n",
    "period2 = int(time.mktime(datetime.datetime.now().timetuple()))\n",
    "interval = '1d'\n",
    "\n",
    "query_string = f'https://query1.finance.yahoo.com/v7/finance/download/{ticker}?period1={period1}&period2={period2}&interval={interval}&events=history&includeAdjustedClose=true'\n",
    "\n",
    "df = pd.read_csv(query_string)"
   ]
  },
  {
   "cell_type": "code",
   "execution_count": 229,
   "metadata": {},
   "outputs": [
    {
     "data": {
      "text/plain": [
       "'https://query1.finance.yahoo.com/v7/finance/download/AAPL?period1=1669919340&period2=1718031872&interval=1d&events=history&includeAdjustedClose=true'"
      ]
     },
     "execution_count": 229,
     "metadata": {},
     "output_type": "execute_result"
    }
   ],
   "source": [
    "query_string"
   ]
  },
  {
   "cell_type": "code",
   "execution_count": 230,
   "metadata": {},
   "outputs": [
    {
     "data": {
      "text/plain": [
       "time.struct_time(tm_year=2024, tm_mon=6, tm_mday=10, tm_hour=20, tm_min=34, tm_sec=32, tm_wday=0, tm_yday=162, tm_isdst=-1)"
      ]
     },
     "execution_count": 230,
     "metadata": {},
     "output_type": "execute_result"
    }
   ],
   "source": [
    "datetime.datetime.now().timetuple()"
   ]
  },
  {
   "cell_type": "code",
   "execution_count": 231,
   "metadata": {},
   "outputs": [],
   "source": [
    "date = df"
   ]
  },
  {
   "cell_type": "code",
   "execution_count": 232,
   "metadata": {},
   "outputs": [
    {
     "data": {
      "text/html": [
       "<div>\n",
       "<style scoped>\n",
       "    .dataframe tbody tr th:only-of-type {\n",
       "        vertical-align: middle;\n",
       "    }\n",
       "\n",
       "    .dataframe tbody tr th {\n",
       "        vertical-align: top;\n",
       "    }\n",
       "\n",
       "    .dataframe thead th {\n",
       "        text-align: right;\n",
       "    }\n",
       "</style>\n",
       "<table border=\"1\" class=\"dataframe\">\n",
       "  <thead>\n",
       "    <tr style=\"text-align: right;\">\n",
       "      <th></th>\n",
       "      <th>Date</th>\n",
       "      <th>Open</th>\n",
       "      <th>High</th>\n",
       "      <th>Low</th>\n",
       "      <th>Close</th>\n",
       "      <th>Adj Close</th>\n",
       "      <th>Volume</th>\n",
       "    </tr>\n",
       "  </thead>\n",
       "  <tbody>\n",
       "    <tr>\n",
       "      <th>0</th>\n",
       "      <td>2022-12-01</td>\n",
       "      <td>148.210007</td>\n",
       "      <td>149.130005</td>\n",
       "      <td>146.610001</td>\n",
       "      <td>148.309998</td>\n",
       "      <td>147.098129</td>\n",
       "      <td>71250400</td>\n",
       "    </tr>\n",
       "    <tr>\n",
       "      <th>1</th>\n",
       "      <td>2022-12-02</td>\n",
       "      <td>145.960007</td>\n",
       "      <td>148.000000</td>\n",
       "      <td>145.649994</td>\n",
       "      <td>147.809998</td>\n",
       "      <td>146.602249</td>\n",
       "      <td>65447400</td>\n",
       "    </tr>\n",
       "    <tr>\n",
       "      <th>2</th>\n",
       "      <td>2022-12-05</td>\n",
       "      <td>147.770004</td>\n",
       "      <td>150.919998</td>\n",
       "      <td>145.770004</td>\n",
       "      <td>146.630005</td>\n",
       "      <td>145.431900</td>\n",
       "      <td>68826400</td>\n",
       "    </tr>\n",
       "    <tr>\n",
       "      <th>3</th>\n",
       "      <td>2022-12-06</td>\n",
       "      <td>147.070007</td>\n",
       "      <td>147.300003</td>\n",
       "      <td>141.919998</td>\n",
       "      <td>142.910004</td>\n",
       "      <td>141.742264</td>\n",
       "      <td>64727200</td>\n",
       "    </tr>\n",
       "    <tr>\n",
       "      <th>4</th>\n",
       "      <td>2022-12-07</td>\n",
       "      <td>142.190002</td>\n",
       "      <td>143.369995</td>\n",
       "      <td>140.000000</td>\n",
       "      <td>140.940002</td>\n",
       "      <td>139.788361</td>\n",
       "      <td>69721100</td>\n",
       "    </tr>\n",
       "    <tr>\n",
       "      <th>...</th>\n",
       "      <td>...</td>\n",
       "      <td>...</td>\n",
       "      <td>...</td>\n",
       "      <td>...</td>\n",
       "      <td>...</td>\n",
       "      <td>...</td>\n",
       "      <td>...</td>\n",
       "    </tr>\n",
       "    <tr>\n",
       "      <th>377</th>\n",
       "      <td>2024-06-04</td>\n",
       "      <td>194.639999</td>\n",
       "      <td>195.320007</td>\n",
       "      <td>193.029999</td>\n",
       "      <td>194.350006</td>\n",
       "      <td>194.350006</td>\n",
       "      <td>47471400</td>\n",
       "    </tr>\n",
       "    <tr>\n",
       "      <th>378</th>\n",
       "      <td>2024-06-05</td>\n",
       "      <td>195.399994</td>\n",
       "      <td>196.899994</td>\n",
       "      <td>194.869995</td>\n",
       "      <td>195.869995</td>\n",
       "      <td>195.869995</td>\n",
       "      <td>54156800</td>\n",
       "    </tr>\n",
       "    <tr>\n",
       "      <th>379</th>\n",
       "      <td>2024-06-06</td>\n",
       "      <td>195.690002</td>\n",
       "      <td>196.500000</td>\n",
       "      <td>194.169998</td>\n",
       "      <td>194.479996</td>\n",
       "      <td>194.479996</td>\n",
       "      <td>41181800</td>\n",
       "    </tr>\n",
       "    <tr>\n",
       "      <th>380</th>\n",
       "      <td>2024-06-07</td>\n",
       "      <td>194.649994</td>\n",
       "      <td>196.940002</td>\n",
       "      <td>194.139999</td>\n",
       "      <td>196.889999</td>\n",
       "      <td>196.889999</td>\n",
       "      <td>53044700</td>\n",
       "    </tr>\n",
       "    <tr>\n",
       "      <th>381</th>\n",
       "      <td>2024-06-10</td>\n",
       "      <td>197.199997</td>\n",
       "      <td>197.280106</td>\n",
       "      <td>194.830002</td>\n",
       "      <td>195.499802</td>\n",
       "      <td>195.499802</td>\n",
       "      <td>19057688</td>\n",
       "    </tr>\n",
       "  </tbody>\n",
       "</table>\n",
       "<p>382 rows × 7 columns</p>\n",
       "</div>"
      ],
      "text/plain": [
       "           Date        Open        High         Low       Close   Adj Close  \\\n",
       "0    2022-12-01  148.210007  149.130005  146.610001  148.309998  147.098129   \n",
       "1    2022-12-02  145.960007  148.000000  145.649994  147.809998  146.602249   \n",
       "2    2022-12-05  147.770004  150.919998  145.770004  146.630005  145.431900   \n",
       "3    2022-12-06  147.070007  147.300003  141.919998  142.910004  141.742264   \n",
       "4    2022-12-07  142.190002  143.369995  140.000000  140.940002  139.788361   \n",
       "..          ...         ...         ...         ...         ...         ...   \n",
       "377  2024-06-04  194.639999  195.320007  193.029999  194.350006  194.350006   \n",
       "378  2024-06-05  195.399994  196.899994  194.869995  195.869995  195.869995   \n",
       "379  2024-06-06  195.690002  196.500000  194.169998  194.479996  194.479996   \n",
       "380  2024-06-07  194.649994  196.940002  194.139999  196.889999  196.889999   \n",
       "381  2024-06-10  197.199997  197.280106  194.830002  195.499802  195.499802   \n",
       "\n",
       "       Volume  \n",
       "0    71250400  \n",
       "1    65447400  \n",
       "2    68826400  \n",
       "3    64727200  \n",
       "4    69721100  \n",
       "..        ...  \n",
       "377  47471400  \n",
       "378  54156800  \n",
       "379  41181800  \n",
       "380  53044700  \n",
       "381  19057688  \n",
       "\n",
       "[382 rows x 7 columns]"
      ]
     },
     "execution_count": 232,
     "metadata": {},
     "output_type": "execute_result"
    }
   ],
   "source": [
    "date"
   ]
  },
  {
   "cell_type": "code",
   "execution_count": 233,
   "metadata": {},
   "outputs": [
    {
     "data": {
      "text/html": [
       "<div>\n",
       "<style scoped>\n",
       "    .dataframe tbody tr th:only-of-type {\n",
       "        vertical-align: middle;\n",
       "    }\n",
       "\n",
       "    .dataframe tbody tr th {\n",
       "        vertical-align: top;\n",
       "    }\n",
       "\n",
       "    .dataframe thead th {\n",
       "        text-align: right;\n",
       "    }\n",
       "</style>\n",
       "<table border=\"1\" class=\"dataframe\">\n",
       "  <thead>\n",
       "    <tr style=\"text-align: right;\">\n",
       "      <th></th>\n",
       "      <th>Date</th>\n",
       "      <th>Open</th>\n",
       "      <th>High</th>\n",
       "      <th>Low</th>\n",
       "      <th>Close</th>\n",
       "      <th>Adj Close</th>\n",
       "      <th>Volume</th>\n",
       "    </tr>\n",
       "  </thead>\n",
       "  <tbody>\n",
       "    <tr>\n",
       "      <th>0</th>\n",
       "      <td>2022-12-01</td>\n",
       "      <td>148.210007</td>\n",
       "      <td>149.130005</td>\n",
       "      <td>146.610001</td>\n",
       "      <td>148.309998</td>\n",
       "      <td>147.098129</td>\n",
       "      <td>71250400</td>\n",
       "    </tr>\n",
       "    <tr>\n",
       "      <th>1</th>\n",
       "      <td>2022-12-02</td>\n",
       "      <td>145.960007</td>\n",
       "      <td>148.000000</td>\n",
       "      <td>145.649994</td>\n",
       "      <td>147.809998</td>\n",
       "      <td>146.602249</td>\n",
       "      <td>65447400</td>\n",
       "    </tr>\n",
       "    <tr>\n",
       "      <th>2</th>\n",
       "      <td>2022-12-05</td>\n",
       "      <td>147.770004</td>\n",
       "      <td>150.919998</td>\n",
       "      <td>145.770004</td>\n",
       "      <td>146.630005</td>\n",
       "      <td>145.431900</td>\n",
       "      <td>68826400</td>\n",
       "    </tr>\n",
       "    <tr>\n",
       "      <th>3</th>\n",
       "      <td>2022-12-06</td>\n",
       "      <td>147.070007</td>\n",
       "      <td>147.300003</td>\n",
       "      <td>141.919998</td>\n",
       "      <td>142.910004</td>\n",
       "      <td>141.742264</td>\n",
       "      <td>64727200</td>\n",
       "    </tr>\n",
       "    <tr>\n",
       "      <th>4</th>\n",
       "      <td>2022-12-07</td>\n",
       "      <td>142.190002</td>\n",
       "      <td>143.369995</td>\n",
       "      <td>140.000000</td>\n",
       "      <td>140.940002</td>\n",
       "      <td>139.788361</td>\n",
       "      <td>69721100</td>\n",
       "    </tr>\n",
       "    <tr>\n",
       "      <th>...</th>\n",
       "      <td>...</td>\n",
       "      <td>...</td>\n",
       "      <td>...</td>\n",
       "      <td>...</td>\n",
       "      <td>...</td>\n",
       "      <td>...</td>\n",
       "      <td>...</td>\n",
       "    </tr>\n",
       "    <tr>\n",
       "      <th>377</th>\n",
       "      <td>2024-06-04</td>\n",
       "      <td>194.639999</td>\n",
       "      <td>195.320007</td>\n",
       "      <td>193.029999</td>\n",
       "      <td>194.350006</td>\n",
       "      <td>194.350006</td>\n",
       "      <td>47471400</td>\n",
       "    </tr>\n",
       "    <tr>\n",
       "      <th>378</th>\n",
       "      <td>2024-06-05</td>\n",
       "      <td>195.399994</td>\n",
       "      <td>196.899994</td>\n",
       "      <td>194.869995</td>\n",
       "      <td>195.869995</td>\n",
       "      <td>195.869995</td>\n",
       "      <td>54156800</td>\n",
       "    </tr>\n",
       "    <tr>\n",
       "      <th>379</th>\n",
       "      <td>2024-06-06</td>\n",
       "      <td>195.690002</td>\n",
       "      <td>196.500000</td>\n",
       "      <td>194.169998</td>\n",
       "      <td>194.479996</td>\n",
       "      <td>194.479996</td>\n",
       "      <td>41181800</td>\n",
       "    </tr>\n",
       "    <tr>\n",
       "      <th>380</th>\n",
       "      <td>2024-06-07</td>\n",
       "      <td>194.649994</td>\n",
       "      <td>196.940002</td>\n",
       "      <td>194.139999</td>\n",
       "      <td>196.889999</td>\n",
       "      <td>196.889999</td>\n",
       "      <td>53044700</td>\n",
       "    </tr>\n",
       "    <tr>\n",
       "      <th>381</th>\n",
       "      <td>2024-06-10</td>\n",
       "      <td>197.199997</td>\n",
       "      <td>197.280106</td>\n",
       "      <td>194.830002</td>\n",
       "      <td>195.499802</td>\n",
       "      <td>195.499802</td>\n",
       "      <td>19057688</td>\n",
       "    </tr>\n",
       "  </tbody>\n",
       "</table>\n",
       "<p>382 rows × 7 columns</p>\n",
       "</div>"
      ],
      "text/plain": [
       "           Date        Open        High         Low       Close   Adj Close  \\\n",
       "0    2022-12-01  148.210007  149.130005  146.610001  148.309998  147.098129   \n",
       "1    2022-12-02  145.960007  148.000000  145.649994  147.809998  146.602249   \n",
       "2    2022-12-05  147.770004  150.919998  145.770004  146.630005  145.431900   \n",
       "3    2022-12-06  147.070007  147.300003  141.919998  142.910004  141.742264   \n",
       "4    2022-12-07  142.190002  143.369995  140.000000  140.940002  139.788361   \n",
       "..          ...         ...         ...         ...         ...         ...   \n",
       "377  2024-06-04  194.639999  195.320007  193.029999  194.350006  194.350006   \n",
       "378  2024-06-05  195.399994  196.899994  194.869995  195.869995  195.869995   \n",
       "379  2024-06-06  195.690002  196.500000  194.169998  194.479996  194.479996   \n",
       "380  2024-06-07  194.649994  196.940002  194.139999  196.889999  196.889999   \n",
       "381  2024-06-10  197.199997  197.280106  194.830002  195.499802  195.499802   \n",
       "\n",
       "       Volume  \n",
       "0    71250400  \n",
       "1    65447400  \n",
       "2    68826400  \n",
       "3    64727200  \n",
       "4    69721100  \n",
       "..        ...  \n",
       "377  47471400  \n",
       "378  54156800  \n",
       "379  41181800  \n",
       "380  53044700  \n",
       "381  19057688  \n",
       "\n",
       "[382 rows x 7 columns]"
      ]
     },
     "execution_count": 233,
     "metadata": {},
     "output_type": "execute_result"
    }
   ],
   "source": [
    "df"
   ]
  },
  {
   "cell_type": "code",
   "execution_count": 234,
   "metadata": {},
   "outputs": [],
   "source": [
    "import matplotlib.pyplot as plt"
   ]
  },
  {
   "cell_type": "code",
   "execution_count": 235,
   "metadata": {},
   "outputs": [
    {
     "data": {
      "text/plain": [
       "[<matplotlib.lines.Line2D at 0x1d6b4e0f4c0>]"
      ]
     },
     "execution_count": 235,
     "metadata": {},
     "output_type": "execute_result"
    },
    {
     "data": {
      "image/png": "[encoded data removed]",
      "text/plain": [
       "<Figure size 640x480 with 1 Axes>"
      ]
     },
     "metadata": {},
     "output_type": "display_data"
    }
   ],
   "source": [
    "plt.plot(df['Close'])"
   ]
  },
  {
   "cell_type": "code",
   "execution_count": 236,
   "metadata": {},
   "outputs": [],
   "source": [
    "df = df[['Date', 'Close']]"
   ]
  },
  {
   "cell_type": "code",
   "execution_count": 237,
   "metadata": {},
   "outputs": [
    {
     "data": {
      "text/html": [
       "<div>\n",
       "<style scoped>\n",
       "    .dataframe tbody tr th:only-of-type {\n",
       "        vertical-align: middle;\n",
       "    }\n",
       "\n",
       "    .dataframe tbody tr th {\n",
       "        vertical-align: top;\n",
       "    }\n",
       "\n",
       "    .dataframe thead th {\n",
       "        text-align: right;\n",
       "    }\n",
       "</style>\n",
       "<table border=\"1\" class=\"dataframe\">\n",
       "  <thead>\n",
       "    <tr style=\"text-align: right;\">\n",
       "      <th></th>\n",
       "      <th>Date</th>\n",
       "      <th>Close</th>\n",
       "    </tr>\n",
       "  </thead>\n",
       "  <tbody>\n",
       "    <tr>\n",
       "      <th>0</th>\n",
       "      <td>2022-12-01</td>\n",
       "      <td>148.309998</td>\n",
       "    </tr>\n",
       "    <tr>\n",
       "      <th>1</th>\n",
       "      <td>2022-12-02</td>\n",
       "      <td>147.809998</td>\n",
       "    </tr>\n",
       "    <tr>\n",
       "      <th>2</th>\n",
       "      <td>2022-12-05</td>\n",
       "      <td>146.630005</td>\n",
       "    </tr>\n",
       "    <tr>\n",
       "      <th>3</th>\n",
       "      <td>2022-12-06</td>\n",
       "      <td>142.910004</td>\n",
       "    </tr>\n",
       "    <tr>\n",
       "      <th>4</th>\n",
       "      <td>2022-12-07</td>\n",
       "      <td>140.940002</td>\n",
       "    </tr>\n",
       "    <tr>\n",
       "      <th>...</th>\n",
       "      <td>...</td>\n",
       "      <td>...</td>\n",
       "    </tr>\n",
       "    <tr>\n",
       "      <th>377</th>\n",
       "      <td>2024-06-04</td>\n",
       "      <td>194.350006</td>\n",
       "    </tr>\n",
       "    <tr>\n",
       "      <th>378</th>\n",
       "      <td>2024-06-05</td>\n",
       "      <td>195.869995</td>\n",
       "    </tr>\n",
       "    <tr>\n",
       "      <th>379</th>\n",
       "      <td>2024-06-06</td>\n",
       "      <td>194.479996</td>\n",
       "    </tr>\n",
       "    <tr>\n",
       "      <th>380</th>\n",
       "      <td>2024-06-07</td>\n",
       "      <td>196.889999</td>\n",
       "    </tr>\n",
       "    <tr>\n",
       "      <th>381</th>\n",
       "      <td>2024-06-10</td>\n",
       "      <td>195.499802</td>\n",
       "    </tr>\n",
       "  </tbody>\n",
       "</table>\n",
       "<p>382 rows × 2 columns</p>\n",
       "</div>"
      ],
      "text/plain": [
       "           Date       Close\n",
       "0    2022-12-01  148.309998\n",
       "1    2022-12-02  147.809998\n",
       "2    2022-12-05  146.630005\n",
       "3    2022-12-06  142.910004\n",
       "4    2022-12-07  140.940002\n",
       "..          ...         ...\n",
       "377  2024-06-04  194.350006\n",
       "378  2024-06-05  195.869995\n",
       "379  2024-06-06  194.479996\n",
       "380  2024-06-07  196.889999\n",
       "381  2024-06-10  195.499802\n",
       "\n",
       "[382 rows x 2 columns]"
      ]
     },
     "execution_count": 237,
     "metadata": {},
     "output_type": "execute_result"
    }
   ],
   "source": [
    "df"
   ]
  },
  {
   "cell_type": "code",
   "execution_count": 238,
   "metadata": {},
   "outputs": [],
   "source": [
    "def str_to_datetime(s):\n",
    "  split = s.split('-')\n",
    "  year, month, day = int(split[0]), int(split[1]), int(split[2])\n",
    "  return datetime.datetime(year=year, month=month, day=day)\n"
   ]
  },
  {
   "cell_type": "code",
   "execution_count": 239,
   "metadata": {},
   "outputs": [
    {
     "name": "stderr",
     "output_type": "stream",
     "text": [
      "C:\\Users\\acer\\AppData\\Local\\Temp\\ipykernel_21832\\2565755782.py:1: SettingWithCopyWarning: \n",
      "A value is trying to be set on a copy of a slice from a DataFrame.\n",
      "Try using .loc[row_indexer,col_indexer] = value instead\n",
      "\n",
      "See the caveats in the documentation: https://pandas.pydata.org/pandas-docs/stable/user_guide/indexing.html#returning-a-view-versus-a-copy\n",
      "  df['Date'] = df['Date'].apply(str_to_datetime)\n"
     ]
    },
    {
     "data": {
      "text/plain": [
       "0     2022-12-01\n",
       "1     2022-12-02\n",
       "2     2022-12-05\n",
       "3     2022-12-06\n",
       "4     2022-12-07\n",
       "         ...    \n",
       "377   2024-06-04\n",
       "378   2024-06-05\n",
       "379   2024-06-06\n",
       "380   2024-06-07\n",
       "381   2024-06-10\n",
       "Name: Date, Length: 382, dtype: datetime64[ns]"
      ]
     },
     "execution_count": 239,
     "metadata": {},
     "output_type": "execute_result"
    }
   ],
   "source": [
    "df['Date'] = df['Date'].apply(str_to_datetime)\n",
    "df['Date']"
   ]
  },
  {
   "cell_type": "code",
   "execution_count": 240,
   "metadata": {},
   "outputs": [
    {
     "data": {
      "text/html": [
       "<div>\n",
       "<style scoped>\n",
       "    .dataframe tbody tr th:only-of-type {\n",
       "        vertical-align: middle;\n",
       "    }\n",
       "\n",
       "    .dataframe tbody tr th {\n",
       "        vertical-align: top;\n",
       "    }\n",
       "\n",
       "    .dataframe thead th {\n",
       "        text-align: right;\n",
       "    }\n",
       "</style>\n",
       "<table border=\"1\" class=\"dataframe\">\n",
       "  <thead>\n",
       "    <tr style=\"text-align: right;\">\n",
       "      <th></th>\n",
       "      <th>Close</th>\n",
       "    </tr>\n",
       "    <tr>\n",
       "      <th>Date</th>\n",
       "      <th></th>\n",
       "    </tr>\n",
       "  </thead>\n",
       "  <tbody>\n",
       "    <tr>\n",
       "      <th>2022-12-01</th>\n",
       "      <td>148.309998</td>\n",
       "    </tr>\n",
       "    <tr>\n",
       "      <th>2022-12-02</th>\n",
       "      <td>147.809998</td>\n",
       "    </tr>\n",
       "    <tr>\n",
       "      <th>2022-12-05</th>\n",
       "      <td>146.630005</td>\n",
       "    </tr>\n",
       "    <tr>\n",
       "      <th>2022-12-06</th>\n",
       "      <td>142.910004</td>\n",
       "    </tr>\n",
       "    <tr>\n",
       "      <th>2022-12-07</th>\n",
       "      <td>140.940002</td>\n",
       "    </tr>\n",
       "    <tr>\n",
       "      <th>...</th>\n",
       "      <td>...</td>\n",
       "    </tr>\n",
       "    <tr>\n",
       "      <th>2024-06-04</th>\n",
       "      <td>194.350006</td>\n",
       "    </tr>\n",
       "    <tr>\n",
       "      <th>2024-06-05</th>\n",
       "      <td>195.869995</td>\n",
       "    </tr>\n",
       "    <tr>\n",
       "      <th>2024-06-06</th>\n",
       "      <td>194.479996</td>\n",
       "    </tr>\n",
       "    <tr>\n",
       "      <th>2024-06-07</th>\n",
       "      <td>196.889999</td>\n",
       "    </tr>\n",
       "    <tr>\n",
       "      <th>2024-06-10</th>\n",
       "      <td>195.499802</td>\n",
       "    </tr>\n",
       "  </tbody>\n",
       "</table>\n",
       "<p>382 rows × 1 columns</p>\n",
       "</div>"
      ],
      "text/plain": [
       "                 Close\n",
       "Date                  \n",
       "2022-12-01  148.309998\n",
       "2022-12-02  147.809998\n",
       "2022-12-05  146.630005\n",
       "2022-12-06  142.910004\n",
       "2022-12-07  140.940002\n",
       "...                ...\n",
       "2024-06-04  194.350006\n",
       "2024-06-05  195.869995\n",
       "2024-06-06  194.479996\n",
       "2024-06-07  196.889999\n",
       "2024-06-10  195.499802\n",
       "\n",
       "[382 rows x 1 columns]"
      ]
     },
     "execution_count": 240,
     "metadata": {},
     "output_type": "execute_result"
    }
   ],
   "source": [
    "df.index = df.pop('Date')  # index by date\n",
    "df"
   ]
  },
  {
   "cell_type": "code",
   "execution_count": 241,
   "metadata": {},
   "outputs": [],
   "source": [
    "dt = date['Date'].iloc[3] # get the 4th date"
   ]
  },
  {
   "cell_type": "code",
   "execution_count": 242,
   "metadata": {},
   "outputs": [
    {
     "data": {
      "text/plain": [
       "'2022-12-06'"
      ]
     },
     "execution_count": 242,
     "metadata": {},
     "output_type": "execute_result"
    }
   ],
   "source": [
    "dt"
   ]
  },
  {
   "cell_type": "code",
   "execution_count": 243,
   "metadata": {},
   "outputs": [],
   "source": [
    "curr = str(datetime.datetime.now()-datetime.timedelta(days=4)) # get the current date"
   ]
  },
  {
   "cell_type": "code",
   "execution_count": 244,
   "metadata": {},
   "outputs": [
    {
     "data": {
      "text/plain": [
       "'2024-06-06 20:34:34.201417'"
      ]
     },
     "execution_count": 244,
     "metadata": {},
     "output_type": "execute_result"
    }
   ],
   "source": [
    "curr"
   ]
  },
  {
   "cell_type": "code",
   "execution_count": 245,
   "metadata": {},
   "outputs": [],
   "source": [
    "curr = curr[0:10] #trimmed the current vaiable to date and not time"
   ]
  },
  {
   "cell_type": "code",
   "execution_count": 246,
   "metadata": {},
   "outputs": [
    {
     "data": {
      "text/html": [
       "<div>\n",
       "<style scoped>\n",
       "    .dataframe tbody tr th:only-of-type {\n",
       "        vertical-align: middle;\n",
       "    }\n",
       "\n",
       "    .dataframe tbody tr th {\n",
       "        vertical-align: top;\n",
       "    }\n",
       "\n",
       "    .dataframe thead th {\n",
       "        text-align: right;\n",
       "    }\n",
       "</style>\n",
       "<table border=\"1\" class=\"dataframe\">\n",
       "  <thead>\n",
       "    <tr style=\"text-align: right;\">\n",
       "      <th></th>\n",
       "      <th>Target Date</th>\n",
       "      <th>Target-3</th>\n",
       "      <th>Target-2</th>\n",
       "      <th>Target-1</th>\n",
       "      <th>Target</th>\n",
       "    </tr>\n",
       "  </thead>\n",
       "  <tbody>\n",
       "    <tr>\n",
       "      <th>0</th>\n",
       "      <td>2022-12-06</td>\n",
       "      <td>148.309998</td>\n",
       "      <td>147.809998</td>\n",
       "      <td>146.630005</td>\n",
       "      <td>142.910004</td>\n",
       "    </tr>\n",
       "    <tr>\n",
       "      <th>1</th>\n",
       "      <td>2022-12-07</td>\n",
       "      <td>147.809998</td>\n",
       "      <td>146.630005</td>\n",
       "      <td>142.910004</td>\n",
       "      <td>140.940002</td>\n",
       "    </tr>\n",
       "    <tr>\n",
       "      <th>2</th>\n",
       "      <td>2022-12-08</td>\n",
       "      <td>146.630005</td>\n",
       "      <td>142.910004</td>\n",
       "      <td>140.940002</td>\n",
       "      <td>142.649994</td>\n",
       "    </tr>\n",
       "    <tr>\n",
       "      <th>3</th>\n",
       "      <td>2022-12-09</td>\n",
       "      <td>142.910004</td>\n",
       "      <td>140.940002</td>\n",
       "      <td>142.649994</td>\n",
       "      <td>142.160004</td>\n",
       "    </tr>\n",
       "    <tr>\n",
       "      <th>4</th>\n",
       "      <td>2022-12-12</td>\n",
       "      <td>140.940002</td>\n",
       "      <td>142.649994</td>\n",
       "      <td>142.160004</td>\n",
       "      <td>144.490005</td>\n",
       "    </tr>\n",
       "    <tr>\n",
       "      <th>...</th>\n",
       "      <td>...</td>\n",
       "      <td>...</td>\n",
       "      <td>...</td>\n",
       "      <td>...</td>\n",
       "      <td>...</td>\n",
       "    </tr>\n",
       "    <tr>\n",
       "      <th>372</th>\n",
       "      <td>2024-05-31</td>\n",
       "      <td>189.990005</td>\n",
       "      <td>190.289993</td>\n",
       "      <td>191.289993</td>\n",
       "      <td>192.250000</td>\n",
       "    </tr>\n",
       "    <tr>\n",
       "      <th>373</th>\n",
       "      <td>2024-06-03</td>\n",
       "      <td>190.289993</td>\n",
       "      <td>191.289993</td>\n",
       "      <td>192.250000</td>\n",
       "      <td>194.029999</td>\n",
       "    </tr>\n",
       "    <tr>\n",
       "      <th>374</th>\n",
       "      <td>2024-06-04</td>\n",
       "      <td>191.289993</td>\n",
       "      <td>192.250000</td>\n",
       "      <td>194.029999</td>\n",
       "      <td>194.350006</td>\n",
       "    </tr>\n",
       "    <tr>\n",
       "      <th>375</th>\n",
       "      <td>2024-06-05</td>\n",
       "      <td>192.250000</td>\n",
       "      <td>194.029999</td>\n",
       "      <td>194.350006</td>\n",
       "      <td>195.869995</td>\n",
       "    </tr>\n",
       "    <tr>\n",
       "      <th>376</th>\n",
       "      <td>2024-06-06</td>\n",
       "      <td>194.029999</td>\n",
       "      <td>194.350006</td>\n",
       "      <td>195.869995</td>\n",
       "      <td>194.479996</td>\n",
       "    </tr>\n",
       "  </tbody>\n",
       "</table>\n",
       "<p>377 rows × 5 columns</p>\n",
       "</div>"
      ],
      "text/plain": [
       "    Target Date    Target-3    Target-2    Target-1      Target\n",
       "0    2022-12-06  148.309998  147.809998  146.630005  142.910004\n",
       "1    2022-12-07  147.809998  146.630005  142.910004  140.940002\n",
       "2    2022-12-08  146.630005  142.910004  140.940002  142.649994\n",
       "3    2022-12-09  142.910004  140.940002  142.649994  142.160004\n",
       "4    2022-12-12  140.940002  142.649994  142.160004  144.490005\n",
       "..          ...         ...         ...         ...         ...\n",
       "372  2024-05-31  189.990005  190.289993  191.289993  192.250000\n",
       "373  2024-06-03  190.289993  191.289993  192.250000  194.029999\n",
       "374  2024-06-04  191.289993  192.250000  194.029999  194.350006\n",
       "375  2024-06-05  192.250000  194.029999  194.350006  195.869995\n",
       "376  2024-06-06  194.029999  194.350006  195.869995  194.479996\n",
       "\n",
       "[377 rows x 5 columns]"
      ]
     },
     "execution_count": 246,
     "metadata": {},
     "output_type": "execute_result"
    }
   ],
   "source": [
    "import numpy as np\n",
    "\n",
    "def df_to_windowed_df(dataframe, first_date_str, last_date_str, n=3):\n",
    "  first_date = str_to_datetime(first_date_str)\n",
    "  last_date  = str_to_datetime(last_date_str)\n",
    "\n",
    "  target_date = first_date\n",
    "  \n",
    "  dates = []\n",
    "  X, Y = [], []\n",
    "\n",
    "  last_time = False\n",
    "  while True:\n",
    "    df_subset = dataframe.loc[:target_date].tail(n+1)\n",
    "    \n",
    "    if len(df_subset) != n+1:\n",
    "      print(f'Error: Window of size {n} is too large for date {target_date}')\n",
    "      return\n",
    "\n",
    "    values = df_subset['Close'].to_numpy()\n",
    "    x, y = values[:-1], values[-1]\n",
    "\n",
    "    dates.append(target_date)\n",
    "    X.append(x)\n",
    "    Y.append(y)\n",
    "\n",
    "    next_week = dataframe.loc[target_date:target_date+datetime.timedelta(days=7)]\n",
    "    next_datetime_str = str(next_week.head(2).tail(1).index.values[0])\n",
    "    next_date_str = next_datetime_str.split('T')[0]\n",
    "    year_month_day = next_date_str.split('-')\n",
    "    year, month, day = year_month_day\n",
    "    next_date = datetime.datetime(day=int(day), month=int(month), year=int(year))\n",
    "    \n",
    "    if last_time:\n",
    "      break\n",
    "    \n",
    "    target_date = next_date\n",
    "\n",
    "    if target_date == last_date:\n",
    "      last_time = True\n",
    "    \n",
    "  ret_df = pd.DataFrame({})\n",
    "  ret_df['Target Date'] = dates\n",
    "  \n",
    "  X = np.array(X)\n",
    "  for i in range(0, n):\n",
    "    X[:, i]\n",
    "    ret_df[f'Target-{n-i}'] = X[:, i]\n",
    "  \n",
    "  ret_df['Target'] = Y\n",
    "\n",
    "  return ret_df\n",
    "\n",
    "windowed_df = df_to_windowed_df(df, \n",
    "                                dt, \n",
    "                                curr, \n",
    "                                n=3)\n",
    "windowed_df"
   ]
  },
  {
   "cell_type": "code",
   "execution_count": 247,
   "metadata": {},
   "outputs": [
    {
     "data": {
      "text/plain": [
       "((377,), (377, 3), (377,))"
      ]
     },
     "execution_count": 247,
     "metadata": {},
     "output_type": "execute_result"
    }
   ],
   "source": [
    "def windowed_df_to_date_X_y(windowed_dataframe): #split the dataset into index, features, and target\n",
    "  df_as_np = windowed_dataframe.to_numpy()\n",
    "\n",
    "  dates = df_as_np[:, 0]\n",
    "\n",
    "  middle_matrix = df_as_np[:, 1:-1]\n",
    "  X = middle_matrix.reshape((len(dates), middle_matrix.shape[1]))\n",
    "\n",
    "  Y = df_as_np[:, -1]\n",
    "\n",
    "  return dates, X.astype(np.float32), Y.astype(np.float32)\n",
    "\n",
    "dates, X, y = windowed_df_to_date_X_y(windowed_df)\n",
    "\n",
    "dates.shape, X.shape, y.shape"
   ]
  },
  {
   "cell_type": "code",
   "execution_count": 248,
   "metadata": {},
   "outputs": [
    {
     "data": {
      "text/plain": [
       "<matplotlib.legend.Legend at 0x1d69f2900d0>"
      ]
     },
     "execution_count": 248,
     "metadata": {},
     "output_type": "execute_result"
    },
    {
     "data": {
      "image/png": "[encoded data removed]",
      "text/plain": [
       "<Figure size 640x480 with 1 Axes>"
      ]
     },
     "metadata": {},
     "output_type": "display_data"
    }
   ],
   "source": [
    "q_80 = int(len(dates) * .8) #defining the train, validation, and test sets of the data for 80 and 90 \n",
    "q_90 = int(len(dates) * .9)\n",
    "\n",
    "dates_train, X_train, y_train = dates[:q_80], X[:q_80], y[:q_80]\n",
    "\n",
    "dates_val, X_val, y_val = dates[q_80:q_90], X[q_80:q_90], y[q_80:q_90] #backpropagation \n",
    "dates_test, X_test, y_test = dates[q_90:], X[q_90:], y[q_90:] #to find error by comparing with the actual value\n",
    "\n",
    "plt.plot(dates_train, y_train)\n",
    "plt.plot(dates_val, y_val)\n",
    "plt.plot(dates_test, y_test)\n",
    "\n",
    "plt.legend(['Train', 'Validation', 'Test'])"
   ]
  },
  {
   "cell_type": "code",
   "execution_count": 249,
   "metadata": {},
   "outputs": [],
   "source": [
    "import tensorflow as tf\n",
    "from tensorflow import keras\n"
   ]
  },
  {
   "cell_type": "code",
   "execution_count": 250,
   "metadata": {},
   "outputs": [
    {
     "name": "stdout",
     "output_type": "stream",
     "text": [
      "Epoch 1/100\n",
      "10/10 [==============================] - 14s 298ms/step - loss: 29909.7812 - mean_absolute_error: 171.9167 - val_loss: 30232.8281 - val_mean_absolute_error: 173.8056\n",
      "Epoch 2/100\n",
      "10/10 [==============================] - 0s 15ms/step - loss: 29753.7480 - mean_absolute_error: 171.4604 - val_loss: 29980.7754 - val_mean_absolute_error: 173.0790\n",
      "Epoch 3/100\n",
      "10/10 [==============================] - 0s 15ms/step - loss: 29382.2520 - mean_absolute_error: 170.3774 - val_loss: 29362.1406 - val_mean_absolute_error: 171.2825\n",
      "Epoch 4/100\n",
      "10/10 [==============================] - 0s 22ms/step - loss: 28500.8047 - mean_absolute_error: 167.7703 - val_loss: 28063.1719 - val_mean_absolute_error: 167.4476\n",
      "Epoch 5/100\n",
      "10/10 [==============================] - 0s 22ms/step - loss: 26902.1699 - mean_absolute_error: 162.9268 - val_loss: 26015.9941 - val_mean_absolute_error: 161.2188\n",
      "Epoch 6/100\n",
      "10/10 [==============================] - 0s 18ms/step - loss: 24668.7383 - mean_absolute_error: 155.9001 - val_loss: 23521.2910 - val_mean_absolute_error: 153.2868\n",
      "Epoch 7/100\n",
      "10/10 [==============================] - 0s 18ms/step - loss: 22069.3027 - mean_absolute_error: 147.3409 - val_loss: 20684.2168 - val_mean_absolute_error: 143.7351\n",
      "Epoch 8/100\n",
      "10/10 [==============================] - 0s 29ms/step - loss: 19117.5801 - mean_absolute_error: 136.9430 - val_loss: 17485.7461 - val_mean_absolute_error: 132.1412\n",
      "Epoch 9/100\n",
      "10/10 [==============================] - 0s 20ms/step - loss: 15857.2793 - mean_absolute_error: 124.4152 - val_loss: 14027.5244 - val_mean_absolute_error: 118.3347\n",
      "Epoch 10/100\n",
      "10/10 [==============================] - 0s 17ms/step - loss: 12402.3350 - mean_absolute_error: 109.7008 - val_loss: 10505.6797 - val_mean_absolute_error: 102.3780\n",
      "Epoch 11/100\n",
      "10/10 [==============================] - 0s 27ms/step - loss: 9024.2217 - mean_absolute_error: 92.8754 - val_loss: 7167.4570 - val_mean_absolute_error: 84.5164\n",
      "Epoch 12/100\n",
      "10/10 [==============================] - 0s 21ms/step - loss: 5935.2627 - mean_absolute_error: 74.5685 - val_loss: 4343.1069 - val_mean_absolute_error: 65.7166\n",
      "Epoch 13/100\n",
      "10/10 [==============================] - 0s 23ms/step - loss: 3480.6714 - mean_absolute_error: 55.5979 - val_loss: 2218.9539 - val_mean_absolute_error: 46.8457\n",
      "Epoch 14/100\n",
      "10/10 [==============================] - 0s 16ms/step - loss: 1764.3759 - mean_absolute_error: 37.8320 - val_loss: 905.1205 - val_mean_absolute_error: 29.6764\n",
      "Epoch 15/100\n",
      "10/10 [==============================] - 0s 16ms/step - loss: 839.8262 - mean_absolute_error: 25.7467 - val_loss: 270.5683 - val_mean_absolute_error: 15.6887\n",
      "Epoch 16/100\n",
      "10/10 [==============================] - 0s 14ms/step - loss: 447.5157 - mean_absolute_error: 18.7865 - val_loss: 66.9106 - val_mean_absolute_error: 6.5175\n",
      "Epoch 17/100\n",
      "10/10 [==============================] - 0s 31ms/step - loss: 361.3835 - mean_absolute_error: 16.0434 - val_loss: 26.9704 - val_mean_absolute_error: 4.0230\n",
      "Epoch 18/100\n",
      "10/10 [==============================] - 0s 24ms/step - loss: 354.6470 - mean_absolute_error: 15.1726 - val_loss: 24.4335 - val_mean_absolute_error: 4.2393\n",
      "Epoch 19/100\n",
      "10/10 [==============================] - 0s 24ms/step - loss: 359.5582 - mean_absolute_error: 15.0444 - val_loss: 24.4381 - val_mean_absolute_error: 4.2669\n",
      "Epoch 20/100\n",
      "10/10 [==============================] - 0s 14ms/step - loss: 358.3214 - mean_absolute_error: 15.0615 - val_loss: 24.6147 - val_mean_absolute_error: 4.1384\n",
      "Epoch 21/100\n",
      "10/10 [==============================] - 0s 14ms/step - loss: 356.2415 - mean_absolute_error: 15.1974 - val_loss: 26.5745 - val_mean_absolute_error: 4.0162\n",
      "Epoch 22/100\n",
      "10/10 [==============================] - 0s 14ms/step - loss: 354.6211 - mean_absolute_error: 15.3773 - val_loss: 28.9350 - val_mean_absolute_error: 4.0677\n",
      "Epoch 23/100\n",
      "10/10 [==============================] - 0s 13ms/step - loss: 354.7975 - mean_absolute_error: 15.5267 - val_loss: 30.9554 - val_mean_absolute_error: 4.1132\n",
      "Epoch 24/100\n",
      "10/10 [==============================] - 0s 26ms/step - loss: 354.8641 - mean_absolute_error: 15.5762 - val_loss: 30.7745 - val_mean_absolute_error: 4.1094\n",
      "Epoch 25/100\n",
      "10/10 [==============================] - 0s 25ms/step - loss: 355.1096 - mean_absolute_error: 15.5161 - val_loss: 29.1849 - val_mean_absolute_error: 4.0738\n",
      "Epoch 26/100\n",
      "10/10 [==============================] - 1s 58ms/step - loss: 354.6152 - mean_absolute_error: 15.4875 - val_loss: 29.4360 - val_mean_absolute_error: 4.0798\n",
      "Epoch 27/100\n",
      "10/10 [==============================] - 0s 39ms/step - loss: 354.7956 - mean_absolute_error: 15.4686 - val_loss: 29.3686 - val_mean_absolute_error: 4.0782\n",
      "Epoch 28/100\n",
      "10/10 [==============================] - 0s 48ms/step - loss: 354.6021 - mean_absolute_error: 15.4831 - val_loss: 29.7469 - val_mean_absolute_error: 4.0869\n",
      "Epoch 29/100\n",
      "10/10 [==============================] - 0s 30ms/step - loss: 354.8715 - mean_absolute_error: 15.5335 - val_loss: 30.2921 - val_mean_absolute_error: 4.0990\n",
      "Epoch 30/100\n",
      "10/10 [==============================] - 0s 31ms/step - loss: 354.7019 - mean_absolute_error: 15.4693 - val_loss: 28.3158 - val_mean_absolute_error: 4.0516\n",
      "Epoch 31/100\n",
      "10/10 [==============================] - 0s 14ms/step - loss: 354.5593 - mean_absolute_error: 15.4425 - val_loss: 29.0538 - val_mean_absolute_error: 4.0704\n",
      "Epoch 32/100\n",
      "10/10 [==============================] - 0s 13ms/step - loss: 354.9124 - mean_absolute_error: 15.4355 - val_loss: 28.4590 - val_mean_absolute_error: 4.0554\n",
      "Epoch 33/100\n",
      "10/10 [==============================] - 0s 15ms/step - loss: 354.6761 - mean_absolute_error: 15.4610 - val_loss: 28.9880 - val_mean_absolute_error: 4.0688\n",
      "Epoch 34/100\n",
      "10/10 [==============================] - 0s 22ms/step - loss: 354.4733 - mean_absolute_error: 15.4478 - val_loss: 29.0002 - val_mean_absolute_error: 4.0691\n",
      "Epoch 35/100\n",
      "10/10 [==============================] - 0s 20ms/step - loss: 354.6850 - mean_absolute_error: 15.4808 - val_loss: 29.5544 - val_mean_absolute_error: 4.0823\n",
      "Epoch 36/100\n",
      "10/10 [==============================] - 0s 13ms/step - loss: 354.7239 - mean_absolute_error: 15.4394 - val_loss: 27.9435 - val_mean_absolute_error: 4.0413\n",
      "Epoch 37/100\n",
      "10/10 [==============================] - 0s 12ms/step - loss: 354.7688 - mean_absolute_error: 15.3601 - val_loss: 27.1093 - val_mean_absolute_error: 4.0248\n",
      "Epoch 38/100\n",
      "10/10 [==============================] - 0s 10ms/step - loss: 354.6539 - mean_absolute_error: 15.3454 - val_loss: 27.4832 - val_mean_absolute_error: 4.0305\n",
      "Epoch 39/100\n",
      "10/10 [==============================] - 0s 10ms/step - loss: 354.1454 - mean_absolute_error: 15.4022 - val_loss: 29.3373 - val_mean_absolute_error: 4.0770\n",
      "Epoch 40/100\n",
      "10/10 [==============================] - 0s 10ms/step - loss: 354.2938 - mean_absolute_error: 15.5234 - val_loss: 31.0899 - val_mean_absolute_error: 4.1153\n",
      "Epoch 41/100\n",
      "10/10 [==============================] - 0s 10ms/step - loss: 355.3548 - mean_absolute_error: 15.6554 - val_loss: 33.3707 - val_mean_absolute_error: 4.1959\n",
      "Epoch 42/100\n",
      "10/10 [==============================] - 0s 11ms/step - loss: 355.3695 - mean_absolute_error: 15.6068 - val_loss: 29.9435 - val_mean_absolute_error: 4.0906\n",
      "Epoch 43/100\n",
      "10/10 [==============================] - 0s 24ms/step - loss: 354.7434 - mean_absolute_error: 15.5509 - val_loss: 30.1919 - val_mean_absolute_error: 4.0960\n",
      "Epoch 44/100\n",
      "10/10 [==============================] - 0s 25ms/step - loss: 355.0118 - mean_absolute_error: 15.4357 - val_loss: 27.6404 - val_mean_absolute_error: 4.0320\n",
      "Epoch 45/100\n",
      "10/10 [==============================] - 0s 12ms/step - loss: 354.5629 - mean_absolute_error: 15.4360 - val_loss: 28.7972 - val_mean_absolute_error: 4.0630\n",
      "Epoch 46/100\n",
      "10/10 [==============================] - 0s 11ms/step - loss: 354.5258 - mean_absolute_error: 15.4976 - val_loss: 29.6581 - val_mean_absolute_error: 4.0833\n",
      "Epoch 47/100\n",
      "10/10 [==============================] - 0s 10ms/step - loss: 353.7909 - mean_absolute_error: 15.4039 - val_loss: 27.2943 - val_mean_absolute_error: 4.0255\n",
      "Epoch 48/100\n",
      "10/10 [==============================] - 0s 14ms/step - loss: 353.8133 - mean_absolute_error: 15.3355 - val_loss: 27.1757 - val_mean_absolute_error: 4.0231\n",
      "Epoch 49/100\n",
      "10/10 [==============================] - 0s 13ms/step - loss: 353.7739 - mean_absolute_error: 15.3376 - val_loss: 27.8335 - val_mean_absolute_error: 4.0357\n",
      "Epoch 50/100\n",
      "10/10 [==============================] - 0s 11ms/step - loss: 353.4952 - mean_absolute_error: 15.3992 - val_loss: 28.3972 - val_mean_absolute_error: 4.0508\n",
      "Epoch 51/100\n",
      "10/10 [==============================] - 0s 13ms/step - loss: 353.2954 - mean_absolute_error: 15.3995 - val_loss: 27.9086 - val_mean_absolute_error: 4.0370\n",
      "Epoch 52/100\n",
      "10/10 [==============================] - 0s 14ms/step - loss: 352.9268 - mean_absolute_error: 15.3526 - val_loss: 27.7770 - val_mean_absolute_error: 4.0321\n",
      "Epoch 53/100\n",
      "10/10 [==============================] - 0s 11ms/step - loss: 352.5135 - mean_absolute_error: 15.4119 - val_loss: 29.5297 - val_mean_absolute_error: 4.0762\n",
      "Epoch 54/100\n",
      "10/10 [==============================] - 0s 11ms/step - loss: 351.9313 - mean_absolute_error: 15.4537 - val_loss: 29.6788 - val_mean_absolute_error: 4.0765\n",
      "Epoch 55/100\n",
      "10/10 [==============================] - 0s 12ms/step - loss: 351.8945 - mean_absolute_error: 15.4198 - val_loss: 28.5686 - val_mean_absolute_error: 4.0486\n",
      "Epoch 56/100\n",
      "10/10 [==============================] - 0s 14ms/step - loss: 351.6927 - mean_absolute_error: 15.2755 - val_loss: 26.8359 - val_mean_absolute_error: 4.0033\n",
      "Epoch 57/100\n",
      "10/10 [==============================] - 0s 13ms/step - loss: 349.3688 - mean_absolute_error: 15.2055 - val_loss: 27.2399 - val_mean_absolute_error: 4.0037\n",
      "Epoch 58/100\n",
      "10/10 [==============================] - 0s 10ms/step - loss: 346.7244 - mean_absolute_error: 15.3096 - val_loss: 30.8854 - val_mean_absolute_error: 4.0862\n",
      "Epoch 59/100\n",
      "10/10 [==============================] - 0s 14ms/step - loss: 340.1762 - mean_absolute_error: 15.3034 - val_loss: 31.9696 - val_mean_absolute_error: 4.0956\n",
      "Epoch 60/100\n",
      "10/10 [==============================] - 0s 11ms/step - loss: 319.4353 - mean_absolute_error: 14.9006 - val_loss: 40.5593 - val_mean_absolute_error: 4.6772\n",
      "Epoch 61/100\n",
      "10/10 [==============================] - 0s 14ms/step - loss: 261.6585 - mean_absolute_error: 13.8213 - val_loss: 37.3326 - val_mean_absolute_error: 4.5710\n",
      "Epoch 62/100\n",
      "10/10 [==============================] - 0s 10ms/step - loss: 157.5491 - mean_absolute_error: 10.4839 - val_loss: 17.3235 - val_mean_absolute_error: 3.1434\n",
      "Epoch 63/100\n",
      "10/10 [==============================] - 0s 12ms/step - loss: 73.3911 - mean_absolute_error: 6.7802 - val_loss: 19.2431 - val_mean_absolute_error: 3.7232\n",
      "Epoch 64/100\n",
      "10/10 [==============================] - 0s 19ms/step - loss: 40.8593 - mean_absolute_error: 5.3164 - val_loss: 40.2512 - val_mean_absolute_error: 5.6333\n",
      "Epoch 65/100\n",
      "10/10 [==============================] - 0s 10ms/step - loss: 31.9796 - mean_absolute_error: 4.8579 - val_loss: 7.9681 - val_mean_absolute_error: 2.0669\n",
      "Epoch 66/100\n",
      "10/10 [==============================] - 0s 12ms/step - loss: 28.2187 - mean_absolute_error: 4.4641 - val_loss: 18.1641 - val_mean_absolute_error: 3.6728\n",
      "Epoch 67/100\n",
      "10/10 [==============================] - 0s 11ms/step - loss: 21.2045 - mean_absolute_error: 3.8287 - val_loss: 14.5906 - val_mean_absolute_error: 3.1261\n",
      "Epoch 68/100\n",
      "10/10 [==============================] - 0s 11ms/step - loss: 19.3311 - mean_absolute_error: 3.6061 - val_loss: 9.5709 - val_mean_absolute_error: 2.3280\n",
      "Epoch 69/100\n",
      "10/10 [==============================] - 0s 11ms/step - loss: 11.5824 - mean_absolute_error: 2.7560 - val_loss: 12.2063 - val_mean_absolute_error: 2.7909\n",
      "Epoch 70/100\n",
      "10/10 [==============================] - 0s 14ms/step - loss: 10.5700 - mean_absolute_error: 2.6258 - val_loss: 9.8958 - val_mean_absolute_error: 2.4198\n",
      "Epoch 71/100\n",
      "10/10 [==============================] - 0s 14ms/step - loss: 9.3713 - mean_absolute_error: 2.4410 - val_loss: 8.5888 - val_mean_absolute_error: 2.2083\n",
      "Epoch 72/100\n",
      "10/10 [==============================] - 0s 11ms/step - loss: 9.2258 - mean_absolute_error: 2.4476 - val_loss: 15.6790 - val_mean_absolute_error: 3.2203\n",
      "Epoch 73/100\n",
      "10/10 [==============================] - 0s 10ms/step - loss: 8.7610 - mean_absolute_error: 2.3444 - val_loss: 7.9348 - val_mean_absolute_error: 2.1174\n",
      "Epoch 74/100\n",
      "10/10 [==============================] - 0s 12ms/step - loss: 8.4426 - mean_absolute_error: 2.2455 - val_loss: 8.0171 - val_mean_absolute_error: 2.1226\n",
      "Epoch 75/100\n",
      "10/10 [==============================] - 0s 10ms/step - loss: 8.1053 - mean_absolute_error: 2.2532 - val_loss: 7.9519 - val_mean_absolute_error: 2.1240\n",
      "Epoch 76/100\n",
      "10/10 [==============================] - 0s 13ms/step - loss: 7.7264 - mean_absolute_error: 2.2073 - val_loss: 9.9571 - val_mean_absolute_error: 2.4337\n",
      "Epoch 77/100\n",
      "10/10 [==============================] - 0s 10ms/step - loss: 7.6506 - mean_absolute_error: 2.2258 - val_loss: 8.6816 - val_mean_absolute_error: 2.2528\n",
      "Epoch 78/100\n",
      "10/10 [==============================] - 0s 9ms/step - loss: 7.4312 - mean_absolute_error: 2.1476 - val_loss: 11.8347 - val_mean_absolute_error: 2.7410\n",
      "Epoch 79/100\n",
      "10/10 [==============================] - 0s 13ms/step - loss: 8.1336 - mean_absolute_error: 2.2867 - val_loss: 7.6721 - val_mean_absolute_error: 2.1002\n",
      "Epoch 80/100\n",
      "10/10 [==============================] - 0s 13ms/step - loss: 7.9261 - mean_absolute_error: 2.2021 - val_loss: 10.1519 - val_mean_absolute_error: 2.4581\n",
      "Epoch 81/100\n",
      "10/10 [==============================] - 0s 12ms/step - loss: 7.2468 - mean_absolute_error: 2.1308 - val_loss: 7.3386 - val_mean_absolute_error: 2.0401\n",
      "Epoch 82/100\n",
      "10/10 [==============================] - 0s 13ms/step - loss: 7.6929 - mean_absolute_error: 2.2060 - val_loss: 7.1404 - val_mean_absolute_error: 2.0144\n",
      "Epoch 83/100\n",
      "10/10 [==============================] - 0s 14ms/step - loss: 7.4577 - mean_absolute_error: 2.1358 - val_loss: 7.8733 - val_mean_absolute_error: 2.1196\n",
      "Epoch 84/100\n",
      "10/10 [==============================] - 0s 13ms/step - loss: 6.8697 - mean_absolute_error: 2.0532 - val_loss: 8.0970 - val_mean_absolute_error: 2.1607\n",
      "Epoch 85/100\n",
      "10/10 [==============================] - 0s 23ms/step - loss: 6.8329 - mean_absolute_error: 2.0235 - val_loss: 6.9261 - val_mean_absolute_error: 1.9753\n",
      "Epoch 86/100\n",
      "10/10 [==============================] - 0s 16ms/step - loss: 6.9493 - mean_absolute_error: 2.0889 - val_loss: 10.7984 - val_mean_absolute_error: 2.5970\n",
      "Epoch 87/100\n",
      "10/10 [==============================] - 0s 15ms/step - loss: 6.6144 - mean_absolute_error: 1.9988 - val_loss: 8.7702 - val_mean_absolute_error: 2.2764\n",
      "Epoch 88/100\n",
      "10/10 [==============================] - 0s 15ms/step - loss: 6.5092 - mean_absolute_error: 2.0113 - val_loss: 15.0180 - val_mean_absolute_error: 3.1870\n",
      "Epoch 89/100\n",
      "10/10 [==============================] - 0s 12ms/step - loss: 8.7892 - mean_absolute_error: 2.3143 - val_loss: 7.7670 - val_mean_absolute_error: 2.0319\n",
      "Epoch 90/100\n",
      "10/10 [==============================] - 0s 17ms/step - loss: 10.9736 - mean_absolute_error: 2.6903 - val_loss: 7.4803 - val_mean_absolute_error: 2.0102\n",
      "Epoch 91/100\n",
      "10/10 [==============================] - 0s 18ms/step - loss: 10.4946 - mean_absolute_error: 2.6426 - val_loss: 14.2645 - val_mean_absolute_error: 3.1224\n",
      "Epoch 92/100\n",
      "10/10 [==============================] - 0s 17ms/step - loss: 9.3547 - mean_absolute_error: 2.4547 - val_loss: 11.4689 - val_mean_absolute_error: 2.6972\n",
      "Epoch 93/100\n",
      "10/10 [==============================] - 0s 16ms/step - loss: 8.3792 - mean_absolute_error: 2.3255 - val_loss: 9.1064 - val_mean_absolute_error: 2.2432\n",
      "Epoch 94/100\n",
      "10/10 [==============================] - 0s 16ms/step - loss: 8.6096 - mean_absolute_error: 2.3561 - val_loss: 7.7827 - val_mean_absolute_error: 2.1217\n",
      "Epoch 95/100\n",
      "10/10 [==============================] - 0s 17ms/step - loss: 8.0937 - mean_absolute_error: 2.1910 - val_loss: 20.3886 - val_mean_absolute_error: 3.9024\n",
      "Epoch 96/100\n",
      "10/10 [==============================] - 0s 17ms/step - loss: 7.8689 - mean_absolute_error: 2.2143 - val_loss: 7.4815 - val_mean_absolute_error: 2.0855\n",
      "Epoch 97/100\n",
      "10/10 [==============================] - 0s 14ms/step - loss: 6.5180 - mean_absolute_error: 2.0197 - val_loss: 8.8815 - val_mean_absolute_error: 2.2818\n",
      "Epoch 98/100\n",
      "10/10 [==============================] - 0s 14ms/step - loss: 7.0565 - mean_absolute_error: 2.0382 - val_loss: 6.7643 - val_mean_absolute_error: 1.9568\n",
      "Epoch 99/100\n",
      "10/10 [==============================] - 0s 13ms/step - loss: 6.7617 - mean_absolute_error: 2.0347 - val_loss: 7.2534 - val_mean_absolute_error: 2.0439\n",
      "Epoch 100/100\n",
      "10/10 [==============================] - 0s 17ms/step - loss: 6.2517 - mean_absolute_error: 1.9695 - val_loss: 9.0212 - val_mean_absolute_error: 2.3181\n"
     ]
    },
    {
     "data": {
      "text/plain": [
       "<keras.src.callbacks.History at 0x1d6b5ff5660>"
      ]
     },
     "execution_count": 250,
     "metadata": {},
     "output_type": "execute_result"
    }
   ],
   "source": [
    "model = keras.Sequential([keras.layers.Input((3, 1)), #input layer for training data set, 3 features one output\n",
    "                    tf.keras.layers.Bidirectional(keras.layers.LSTM(64)), #maintains context (long term memory)\n",
    "                    keras.layers.Dense(32, activation='relu'),  #neuron activation function\n",
    "                    keras.layers.Dense(32, activation='relu'), #output layer\n",
    "                    keras.layers.Dense(1)]) # RELU - if val(x) > 0 then x will remain as it is but if val(x) < 0 then x will be converted to 0\n",
    "# model = keras.Sequential([\n",
    "#     keras.layers.Input((3, 1)),  # Input layer for training data set, 3 features one output\n",
    "#     keras.layers.LSTM(64, return_sequences=True),  # First LSTM layer\n",
    "#     keras.layers.LSTM(64),  # Second LSTM layer\n",
    "#     keras.layers.Dense(32, activation='relu'),  # Neuron activation function\n",
    "#     keras.layers.Dense(32, activation='relu'),  # Output layer\n",
    "#     keras.layers.Dense(1)  # Final output layer\n",
    "# ])\n",
    "\n",
    "model.compile(loss='mse', #shows the mean sq error (avg of the sq of the difference between the predicted and actual value)\n",
    "              optimizer=tf.keras.optimizers.Adam(learning_rate=0.001), \n",
    "              metrics=['mean_absolute_error']) #shows the mean absolute error (avg of the difference bw the predicted and actual value)\n",
    "\n",
    "model.fit(X_train, y_train, validation_data=(X_val, y_val), epochs=100)"
   ]
  },
  {
   "cell_type": "code",
   "execution_count": 251,
   "metadata": {},
   "outputs": [
    {
     "name": "stdout",
     "output_type": "stream",
     "text": [
      "10/10 [==============================] - 1s 4ms/step\n"
     ]
    },
    {
     "data": {
      "text/plain": [
       "<matplotlib.legend.Legend at 0x1d6ba7d0400>"
      ]
     },
     "execution_count": 251,
     "metadata": {},
     "output_type": "execute_result"
    },
    {
     "data": {
      "image/png": "[encoded data removed]",
      "text/plain": [
       "<Figure size 640x480 with 1 Axes>"
      ]
     },
     "metadata": {},
     "output_type": "display_data"
    }
   ],
   "source": [
    "train_predictions = model.predict(X_train).flatten() #predicting the closing price of the 4th day using the closing price of the last three days\n",
    "\n",
    "plt.plot(dates_train, train_predictions)\n",
    "plt.plot(dates_train, y_train)\n",
    "plt.legend(['Training Predictions', 'Training Observations'])"
   ]
  },
  {
   "cell_type": "code",
   "execution_count": 252,
   "metadata": {},
   "outputs": [
    {
     "name": "stdout",
     "output_type": "stream",
     "text": [
      "2/2 [==============================] - 0s 7ms/step\n"
     ]
    },
    {
     "data": {
      "text/plain": [
       "<matplotlib.legend.Legend at 0x1d6ba941420>"
      ]
     },
     "execution_count": 252,
     "metadata": {},
     "output_type": "execute_result"
    },
    {
     "data": {
      "image/png": "[encoded data removed]",
      "text/plain": [
       "<Figure size 640x480 with 1 Axes>"
      ]
     },
     "metadata": {},
     "output_type": "display_data"
    }
   ],
   "source": [
    "val_predictions = model.predict(X_val).flatten()\n",
    "\n",
    "plt.plot(dates_val, val_predictions)\n",
    "plt.plot(dates_val, y_val)\n",
    "plt.legend(['Validation Predictions', 'Validation Observations'])"
   ]
  },
  {
   "cell_type": "code",
   "execution_count": 253,
   "metadata": {},
   "outputs": [
    {
     "name": "stdout",
     "output_type": "stream",
     "text": [
      "2/2 [==============================] - 0s 6ms/step\n"
     ]
    },
    {
     "data": {
      "text/plain": [
       "<matplotlib.legend.Legend at 0x1d6baa2a470>"
      ]
     },
     "execution_count": 253,
     "metadata": {},
     "output_type": "execute_result"
    },
    {
     "data": {
      "image/png": "[encoded data removed]",
      "text/plain": [
       "<Figure size 640x480 with 1 Axes>"
      ]
     },
     "metadata": {},
     "output_type": "display_data"
    }
   ],
   "source": [
    "test_predictions = model.predict(X_test).flatten()\n",
    "\n",
    "plt.plot(dates_test, test_predictions)\n",
    "plt.plot(dates_test, y_test)\n",
    "plt.legend(['Testing Predictions', 'Testing Observations'])"
   ]
  },
  {
   "cell_type": "code",
   "execution_count": 254,
   "metadata": {},
   "outputs": [
    {
     "data": {
      "text/plain": [
       "array([Timestamp('2024-04-15 00:00:00'), Timestamp('2024-04-16 00:00:00'),\n",
       "       Timestamp('2024-04-17 00:00:00'), Timestamp('2024-04-18 00:00:00'),\n",
       "       Timestamp('2024-04-19 00:00:00'), Timestamp('2024-04-22 00:00:00'),\n",
       "       Timestamp('2024-04-23 00:00:00'), Timestamp('2024-04-24 00:00:00'),\n",
       "       Timestamp('2024-04-25 00:00:00'), Timestamp('2024-04-26 00:00:00'),\n",
       "       Timestamp('2024-04-29 00:00:00'), Timestamp('2024-04-30 00:00:00'),\n",
       "       Timestamp('2024-05-01 00:00:00'), Timestamp('2024-05-02 00:00:00'),\n",
       "       Timestamp('2024-05-03 00:00:00'), Timestamp('2024-05-06 00:00:00'),\n",
       "       Timestamp('2024-05-07 00:00:00'), Timestamp('2024-05-08 00:00:00'),\n",
       "       Timestamp('2024-05-09 00:00:00'), Timestamp('2024-05-10 00:00:00'),\n",
       "       Timestamp('2024-05-13 00:00:00'), Timestamp('2024-05-14 00:00:00'),\n",
       "       Timestamp('2024-05-15 00:00:00'), Timestamp('2024-05-16 00:00:00'),\n",
       "       Timestamp('2024-05-17 00:00:00'), Timestamp('2024-05-20 00:00:00'),\n",
       "       Timestamp('2024-05-21 00:00:00'), Timestamp('2024-05-22 00:00:00'),\n",
       "       Timestamp('2024-05-23 00:00:00'), Timestamp('2024-05-24 00:00:00'),\n",
       "       Timestamp('2024-05-28 00:00:00'), Timestamp('2024-05-29 00:00:00'),\n",
       "       Timestamp('2024-05-30 00:00:00'), Timestamp('2024-05-31 00:00:00'),\n",
       "       Timestamp('2024-06-03 00:00:00'), Timestamp('2024-06-04 00:00:00'),\n",
       "       Timestamp('2024-06-05 00:00:00'), Timestamp('2024-06-06 00:00:00')],\n",
       "      dtype=object)"
      ]
     },
     "execution_count": 254,
     "metadata": {},
     "output_type": "execute_result"
    }
   ],
   "source": [
    "dates_test"
   ]
  },
  {
   "cell_type": "code",
   "execution_count": 255,
   "metadata": {},
   "outputs": [
    {
     "data": {
      "text/plain": [
       "array([177.72643, 175.00533, 171.21622, 169.20174, 168.07027, 166.15314,\n",
       "       166.30287, 167.42366, 169.44786, 170.7187 , 170.44673, 173.72514,\n",
       "       172.29108, 170.52109, 173.33592, 182.3489 , 183.76532, 183.727  ,\n",
       "       184.15256, 185.4623 , 184.91396, 186.61769, 188.07817, 189.58705,\n",
       "       190.12085, 190.15019, 190.7388 , 191.57414, 191.14389, 188.7553 ,\n",
       "       189.58588, 190.2528 , 190.39188, 190.94043, 191.5732 , 192.50159,\n",
       "       192.91512, 193.52516], dtype=float32)"
      ]
     },
     "execution_count": 255,
     "metadata": {},
     "output_type": "execute_result"
    }
   ],
   "source": [
    "test_predictions"
   ]
  },
  {
   "cell_type": "code",
   "execution_count": 256,
   "metadata": {},
   "outputs": [
    {
     "data": {
      "text/html": [
       "<div>\n",
       "<style scoped>\n",
       "    .dataframe tbody tr th:only-of-type {\n",
       "        vertical-align: middle;\n",
       "    }\n",
       "\n",
       "    .dataframe tbody tr th {\n",
       "        vertical-align: top;\n",
       "    }\n",
       "\n",
       "    .dataframe thead th {\n",
       "        text-align: right;\n",
       "    }\n",
       "</style>\n",
       "<table border=\"1\" class=\"dataframe\">\n",
       "  <thead>\n",
       "    <tr style=\"text-align: right;\">\n",
       "      <th></th>\n",
       "      <th>Close</th>\n",
       "    </tr>\n",
       "    <tr>\n",
       "      <th>Date</th>\n",
       "      <th></th>\n",
       "    </tr>\n",
       "  </thead>\n",
       "  <tbody>\n",
       "    <tr>\n",
       "      <th>2022-12-01</th>\n",
       "      <td>148.309998</td>\n",
       "    </tr>\n",
       "    <tr>\n",
       "      <th>2022-12-02</th>\n",
       "      <td>147.809998</td>\n",
       "    </tr>\n",
       "    <tr>\n",
       "      <th>2022-12-05</th>\n",
       "      <td>146.630005</td>\n",
       "    </tr>\n",
       "    <tr>\n",
       "      <th>2022-12-06</th>\n",
       "      <td>142.910004</td>\n",
       "    </tr>\n",
       "    <tr>\n",
       "      <th>2022-12-07</th>\n",
       "      <td>140.940002</td>\n",
       "    </tr>\n",
       "    <tr>\n",
       "      <th>...</th>\n",
       "      <td>...</td>\n",
       "    </tr>\n",
       "    <tr>\n",
       "      <th>2024-06-04</th>\n",
       "      <td>194.350006</td>\n",
       "    </tr>\n",
       "    <tr>\n",
       "      <th>2024-06-05</th>\n",
       "      <td>195.869995</td>\n",
       "    </tr>\n",
       "    <tr>\n",
       "      <th>2024-06-06</th>\n",
       "      <td>194.479996</td>\n",
       "    </tr>\n",
       "    <tr>\n",
       "      <th>2024-06-07</th>\n",
       "      <td>196.889999</td>\n",
       "    </tr>\n",
       "    <tr>\n",
       "      <th>2024-06-10</th>\n",
       "      <td>195.499802</td>\n",
       "    </tr>\n",
       "  </tbody>\n",
       "</table>\n",
       "<p>382 rows × 1 columns</p>\n",
       "</div>"
      ],
      "text/plain": [
       "                 Close\n",
       "Date                  \n",
       "2022-12-01  148.309998\n",
       "2022-12-02  147.809998\n",
       "2022-12-05  146.630005\n",
       "2022-12-06  142.910004\n",
       "2022-12-07  140.940002\n",
       "...                ...\n",
       "2024-06-04  194.350006\n",
       "2024-06-05  195.869995\n",
       "2024-06-06  194.479996\n",
       "2024-06-07  196.889999\n",
       "2024-06-10  195.499802\n",
       "\n",
       "[382 rows x 1 columns]"
      ]
     },
     "execution_count": 256,
     "metadata": {},
     "output_type": "execute_result"
    }
   ],
   "source": [
    "df"
   ]
  },
  {
   "cell_type": "code",
   "execution_count": 257,
   "metadata": {},
   "outputs": [
    {
     "data": {
      "text/plain": [
       "374    194.350006\n",
       "375    195.869995\n",
       "376    194.479996\n",
       "Name: Target, dtype: float64"
      ]
     },
     "execution_count": 257,
     "metadata": {},
     "output_type": "execute_result"
    }
   ],
   "source": [
    "req = windowed_df.tail(3) #input the last three days closing price to predict the closing price of the 4th day\n",
    "req['Target']"
   ]
  },
  {
   "cell_type": "code",
   "execution_count": 258,
   "metadata": {},
   "outputs": [],
   "source": [
    "inp = tuple(req['Target'])"
   ]
  },
  {
   "cell_type": "code",
   "execution_count": 259,
   "metadata": {},
   "outputs": [
    {
     "data": {
      "text/plain": [
       "(194.350006, 195.869995, 194.479996)"
      ]
     },
     "execution_count": 259,
     "metadata": {},
     "output_type": "execute_result"
    }
   ],
   "source": [
    "inp"
   ]
  },
  {
   "cell_type": "code",
   "execution_count": 260,
   "metadata": {},
   "outputs": [
    {
     "name": "stdout",
     "output_type": "stream",
     "text": [
      "1/1 [==============================] - 0s 46ms/step\n"
     ]
    }
   ],
   "source": [
    "npin = np.asarray(inp) #convert the input into an array\n",
    "rs = npin.reshape(1, -1)\n",
    "stk_pred = model.predict(rs)"
   ]
  },
  {
   "cell_type": "code",
   "execution_count": 261,
   "metadata": {},
   "outputs": [
    {
     "data": {
      "text/plain": [
       "array([[193.24088]], dtype=float32)"
      ]
     },
     "execution_count": 261,
     "metadata": {},
     "output_type": "execute_result"
    }
   ],
   "source": [
    "stk_pred #predicted closing price of the 4th day"
   ]
  },
  {
   "cell_type": "code",
   "execution_count": 262,
   "metadata": {},
   "outputs": [],
   "source": [
    "today = float(stk_pred) #convert the predicted value into a float"
   ]
  },
  {
   "cell_type": "code",
   "execution_count": 263,
   "metadata": {},
   "outputs": [
    {
     "data": {
      "text/plain": [
       "193.24087524414062"
      ]
     },
     "execution_count": 263,
     "metadata": {},
     "output_type": "execute_result"
    }
   ],
   "source": [
    "today"
   ]
  },
  {
   "cell_type": "code",
   "execution_count": 264,
   "metadata": {},
   "outputs": [],
   "source": [
    "req1 = windowed_df.tail(2) #input the last two days closing price to predict the closing price of the 3rd day\n",
    "tom = list(req1['Target'])"
   ]
  },
  {
   "cell_type": "code",
   "execution_count": 265,
   "metadata": {},
   "outputs": [],
   "source": [
    "tom = tom + [today,]"
   ]
  },
  {
   "cell_type": "code",
   "execution_count": 266,
   "metadata": {},
   "outputs": [
    {
     "data": {
      "text/plain": [
       "[195.869995, 194.479996, 193.24087524414062]"
      ]
     },
     "execution_count": 266,
     "metadata": {},
     "output_type": "execute_result"
    }
   ],
   "source": [
    "tom"
   ]
  },
  {
   "cell_type": "code",
   "execution_count": 267,
   "metadata": {},
   "outputs": [],
   "source": [
    "tom1 = tuple(tom)"
   ]
  },
  {
   "cell_type": "code",
   "execution_count": 268,
   "metadata": {},
   "outputs": [
    {
     "data": {
      "text/plain": [
       "(195.869995, 194.479996, 193.24087524414062)"
      ]
     },
     "execution_count": 268,
     "metadata": {},
     "output_type": "execute_result"
    }
   ],
   "source": [
    "tom1"
   ]
  },
  {
   "cell_type": "code",
   "execution_count": 269,
   "metadata": {},
   "outputs": [
    {
     "name": "stdout",
     "output_type": "stream",
     "text": [
      "1/1 [==============================] - 0s 24ms/step\n"
     ]
    }
   ],
   "source": [
    "npin = np.asarray(tom1)\n",
    "rs = npin.reshape(1, -1)\n",
    "tom_pred = model.predict(rs)"
   ]
  },
  {
   "cell_type": "code",
   "execution_count": 270,
   "metadata": {},
   "outputs": [],
   "source": [
    "Tomorrow_Pred = float(tom_pred)"
   ]
  },
  {
   "cell_type": "code",
   "execution_count": 271,
   "metadata": {},
   "outputs": [
    {
     "data": {
      "text/plain": [
       "192.53367614746094"
      ]
     },
     "execution_count": 271,
     "metadata": {},
     "output_type": "execute_result"
    }
   ],
   "source": [
    "Tomorrow_Pred"
   ]
  }
 ],
 "metadata": {
  "kernelspec": {
   "display_name": "Python 3",
   "language": "python",
   "name": "python3"
  },
  "language_info": {
   "codemirror_mode": {
    "name": "ipython",
    "version": 3
   },
   "file_extension": ".py",
   "mimetype": "text/x-python",
   "name": "python",
   "nbconvert_exporter": "python",
   "pygments_lexer": "ipython3",
   "version": "3.10.9"
  },
  "orig_nbformat": 4
 },
 "nbformat": 4,
 "nbformat_minor": 2
}
