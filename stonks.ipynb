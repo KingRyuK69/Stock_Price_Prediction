{
 "cells": [
  {
   "cell_type": "code",
   "execution_count": 1,
   "metadata": {},
   "outputs": [],
   "source": [
    "import time\n",
    "import datetime\n",
    "import pandas as pd"
   ]
  },
  {
   "cell_type": "code",
   "execution_count": 2,
   "metadata": {},
   "outputs": [],
   "source": [
    "ticker = 'AAPL'\n",
    "period1 = int(time.mktime(datetime.datetime(2022, 12, 1, 23, 59).timetuple()))\n",
    "period2 = int(time.mktime(datetime.datetime.now().timetuple()))\n",
    "interval = '1d'\n",
    "\n",
    "query_string = f'https://query1.finance.yahoo.com/v7/finance/download/{ticker}?period1={period1}&period2={period2}&interval={interval}&events=history&includeAdjustedClose=true'\n",
    "\n",
    "df = pd.read_csv(query_string)"
   ]
  },
  {
   "cell_type": "code",
   "execution_count": 3,
   "metadata": {},
   "outputs": [
    {
     "data": {
      "text/plain": [
       "'https://query1.finance.yahoo.com/v7/finance/download/AAPL?period1=1669919340&period2=1718030716&interval=1d&events=history&includeAdjustedClose=true'"
      ]
     },
     "execution_count": 3,
     "metadata": {},
     "output_type": "execute_result"
    }
   ],
   "source": [
    "query_string"
   ]
  },
  {
   "cell_type": "code",
   "execution_count": 4,
   "metadata": {},
   "outputs": [
    {
     "data": {
      "text/plain": [
       "time.struct_time(tm_year=2024, tm_mon=6, tm_mday=10, tm_hour=20, tm_min=15, tm_sec=17, tm_wday=0, tm_yday=162, tm_isdst=-1)"
      ]
     },
     "execution_count": 4,
     "metadata": {},
     "output_type": "execute_result"
    }
   ],
   "source": [
    "datetime.datetime.now().timetuple()"
   ]
  },
  {
   "cell_type": "code",
   "execution_count": 5,
   "metadata": {},
   "outputs": [],
   "source": [
    "date = df"
   ]
  },
  {
   "cell_type": "code",
   "execution_count": 6,
   "metadata": {},
   "outputs": [
    {
     "data": {
      "text/html": [
       "<div>\n",
       "<style scoped>\n",
       "    .dataframe tbody tr th:only-of-type {\n",
       "        vertical-align: middle;\n",
       "    }\n",
       "\n",
       "    .dataframe tbody tr th {\n",
       "        vertical-align: top;\n",
       "    }\n",
       "\n",
       "    .dataframe thead th {\n",
       "        text-align: right;\n",
       "    }\n",
       "</style>\n",
       "<table border=\"1\" class=\"dataframe\">\n",
       "  <thead>\n",
       "    <tr style=\"text-align: right;\">\n",
       "      <th></th>\n",
       "      <th>Date</th>\n",
       "      <th>Open</th>\n",
       "      <th>High</th>\n",
       "      <th>Low</th>\n",
       "      <th>Close</th>\n",
       "      <th>Adj Close</th>\n",
       "      <th>Volume</th>\n",
       "    </tr>\n",
       "  </thead>\n",
       "  <tbody>\n",
       "    <tr>\n",
       "      <th>0</th>\n",
       "      <td>2022-12-01</td>\n",
       "      <td>148.210007</td>\n",
       "      <td>149.130005</td>\n",
       "      <td>146.610001</td>\n",
       "      <td>148.309998</td>\n",
       "      <td>147.098160</td>\n",
       "      <td>71250400</td>\n",
       "    </tr>\n",
       "    <tr>\n",
       "      <th>1</th>\n",
       "      <td>2022-12-02</td>\n",
       "      <td>145.960007</td>\n",
       "      <td>148.000000</td>\n",
       "      <td>145.649994</td>\n",
       "      <td>147.809998</td>\n",
       "      <td>146.602219</td>\n",
       "      <td>65447400</td>\n",
       "    </tr>\n",
       "    <tr>\n",
       "      <th>2</th>\n",
       "      <td>2022-12-05</td>\n",
       "      <td>147.770004</td>\n",
       "      <td>150.919998</td>\n",
       "      <td>145.770004</td>\n",
       "      <td>146.630005</td>\n",
       "      <td>145.431900</td>\n",
       "      <td>68826400</td>\n",
       "    </tr>\n",
       "    <tr>\n",
       "      <th>3</th>\n",
       "      <td>2022-12-06</td>\n",
       "      <td>147.070007</td>\n",
       "      <td>147.300003</td>\n",
       "      <td>141.919998</td>\n",
       "      <td>142.910004</td>\n",
       "      <td>141.742279</td>\n",
       "      <td>64727200</td>\n",
       "    </tr>\n",
       "    <tr>\n",
       "      <th>4</th>\n",
       "      <td>2022-12-07</td>\n",
       "      <td>142.190002</td>\n",
       "      <td>143.369995</td>\n",
       "      <td>140.000000</td>\n",
       "      <td>140.940002</td>\n",
       "      <td>139.788391</td>\n",
       "      <td>69721100</td>\n",
       "    </tr>\n",
       "    <tr>\n",
       "      <th>...</th>\n",
       "      <td>...</td>\n",
       "      <td>...</td>\n",
       "      <td>...</td>\n",
       "      <td>...</td>\n",
       "      <td>...</td>\n",
       "      <td>...</td>\n",
       "      <td>...</td>\n",
       "    </tr>\n",
       "    <tr>\n",
       "      <th>377</th>\n",
       "      <td>2024-06-04</td>\n",
       "      <td>194.639999</td>\n",
       "      <td>195.320007</td>\n",
       "      <td>193.029999</td>\n",
       "      <td>194.350006</td>\n",
       "      <td>194.350006</td>\n",
       "      <td>47471400</td>\n",
       "    </tr>\n",
       "    <tr>\n",
       "      <th>378</th>\n",
       "      <td>2024-06-05</td>\n",
       "      <td>195.399994</td>\n",
       "      <td>196.899994</td>\n",
       "      <td>194.869995</td>\n",
       "      <td>195.869995</td>\n",
       "      <td>195.869995</td>\n",
       "      <td>54156800</td>\n",
       "    </tr>\n",
       "    <tr>\n",
       "      <th>379</th>\n",
       "      <td>2024-06-06</td>\n",
       "      <td>195.690002</td>\n",
       "      <td>196.500000</td>\n",
       "      <td>194.169998</td>\n",
       "      <td>194.479996</td>\n",
       "      <td>194.479996</td>\n",
       "      <td>41181800</td>\n",
       "    </tr>\n",
       "    <tr>\n",
       "      <th>380</th>\n",
       "      <td>2024-06-07</td>\n",
       "      <td>194.649994</td>\n",
       "      <td>196.940002</td>\n",
       "      <td>194.139999</td>\n",
       "      <td>196.889999</td>\n",
       "      <td>196.889999</td>\n",
       "      <td>53044700</td>\n",
       "    </tr>\n",
       "    <tr>\n",
       "      <th>381</th>\n",
       "      <td>2024-06-10</td>\n",
       "      <td>197.199997</td>\n",
       "      <td>197.280106</td>\n",
       "      <td>194.830002</td>\n",
       "      <td>195.500000</td>\n",
       "      <td>195.500000</td>\n",
       "      <td>17381225</td>\n",
       "    </tr>\n",
       "  </tbody>\n",
       "</table>\n",
       "<p>382 rows × 7 columns</p>\n",
       "</div>"
      ],
      "text/plain": [
       "           Date        Open        High         Low       Close   Adj Close  \\\n",
       "0    2022-12-01  148.210007  149.130005  146.610001  148.309998  147.098160   \n",
       "1    2022-12-02  145.960007  148.000000  145.649994  147.809998  146.602219   \n",
       "2    2022-12-05  147.770004  150.919998  145.770004  146.630005  145.431900   \n",
       "3    2022-12-06  147.070007  147.300003  141.919998  142.910004  141.742279   \n",
       "4    2022-12-07  142.190002  143.369995  140.000000  140.940002  139.788391   \n",
       "..          ...         ...         ...         ...         ...         ...   \n",
       "377  2024-06-04  194.639999  195.320007  193.029999  194.350006  194.350006   \n",
       "378  2024-06-05  195.399994  196.899994  194.869995  195.869995  195.869995   \n",
       "379  2024-06-06  195.690002  196.500000  194.169998  194.479996  194.479996   \n",
       "380  2024-06-07  194.649994  196.940002  194.139999  196.889999  196.889999   \n",
       "381  2024-06-10  197.199997  197.280106  194.830002  195.500000  195.500000   \n",
       "\n",
       "       Volume  \n",
       "0    71250400  \n",
       "1    65447400  \n",
       "2    68826400  \n",
       "3    64727200  \n",
       "4    69721100  \n",
       "..        ...  \n",
       "377  47471400  \n",
       "378  54156800  \n",
       "379  41181800  \n",
       "380  53044700  \n",
       "381  17381225  \n",
       "\n",
       "[382 rows x 7 columns]"
      ]
     },
     "execution_count": 6,
     "metadata": {},
     "output_type": "execute_result"
    }
   ],
   "source": [
    "date"
   ]
  },
  {
   "cell_type": "code",
   "execution_count": 7,
   "metadata": {},
   "outputs": [
    {
     "data": {
      "text/html": [
       "<div>\n",
       "<style scoped>\n",
       "    .dataframe tbody tr th:only-of-type {\n",
       "        vertical-align: middle;\n",
       "    }\n",
       "\n",
       "    .dataframe tbody tr th {\n",
       "        vertical-align: top;\n",
       "    }\n",
       "\n",
       "    .dataframe thead th {\n",
       "        text-align: right;\n",
       "    }\n",
       "</style>\n",
       "<table border=\"1\" class=\"dataframe\">\n",
       "  <thead>\n",
       "    <tr style=\"text-align: right;\">\n",
       "      <th></th>\n",
       "      <th>Date</th>\n",
       "      <th>Open</th>\n",
       "      <th>High</th>\n",
       "      <th>Low</th>\n",
       "      <th>Close</th>\n",
       "      <th>Adj Close</th>\n",
       "      <th>Volume</th>\n",
       "    </tr>\n",
       "  </thead>\n",
       "  <tbody>\n",
       "    <tr>\n",
       "      <th>0</th>\n",
       "      <td>2022-12-01</td>\n",
       "      <td>148.210007</td>\n",
       "      <td>149.130005</td>\n",
       "      <td>146.610001</td>\n",
       "      <td>148.309998</td>\n",
       "      <td>147.098160</td>\n",
       "      <td>71250400</td>\n",
       "    </tr>\n",
       "    <tr>\n",
       "      <th>1</th>\n",
       "      <td>2022-12-02</td>\n",
       "      <td>145.960007</td>\n",
       "      <td>148.000000</td>\n",
       "      <td>145.649994</td>\n",
       "      <td>147.809998</td>\n",
       "      <td>146.602219</td>\n",
       "      <td>65447400</td>\n",
       "    </tr>\n",
       "    <tr>\n",
       "      <th>2</th>\n",
       "      <td>2022-12-05</td>\n",
       "      <td>147.770004</td>\n",
       "      <td>150.919998</td>\n",
       "      <td>145.770004</td>\n",
       "      <td>146.630005</td>\n",
       "      <td>145.431900</td>\n",
       "      <td>68826400</td>\n",
       "    </tr>\n",
       "    <tr>\n",
       "      <th>3</th>\n",
       "      <td>2022-12-06</td>\n",
       "      <td>147.070007</td>\n",
       "      <td>147.300003</td>\n",
       "      <td>141.919998</td>\n",
       "      <td>142.910004</td>\n",
       "      <td>141.742279</td>\n",
       "      <td>64727200</td>\n",
       "    </tr>\n",
       "    <tr>\n",
       "      <th>4</th>\n",
       "      <td>2022-12-07</td>\n",
       "      <td>142.190002</td>\n",
       "      <td>143.369995</td>\n",
       "      <td>140.000000</td>\n",
       "      <td>140.940002</td>\n",
       "      <td>139.788391</td>\n",
       "      <td>69721100</td>\n",
       "    </tr>\n",
       "    <tr>\n",
       "      <th>...</th>\n",
       "      <td>...</td>\n",
       "      <td>...</td>\n",
       "      <td>...</td>\n",
       "      <td>...</td>\n",
       "      <td>...</td>\n",
       "      <td>...</td>\n",
       "      <td>...</td>\n",
       "    </tr>\n",
       "    <tr>\n",
       "      <th>377</th>\n",
       "      <td>2024-06-04</td>\n",
       "      <td>194.639999</td>\n",
       "      <td>195.320007</td>\n",
       "      <td>193.029999</td>\n",
       "      <td>194.350006</td>\n",
       "      <td>194.350006</td>\n",
       "      <td>47471400</td>\n",
       "    </tr>\n",
       "    <tr>\n",
       "      <th>378</th>\n",
       "      <td>2024-06-05</td>\n",
       "      <td>195.399994</td>\n",
       "      <td>196.899994</td>\n",
       "      <td>194.869995</td>\n",
       "      <td>195.869995</td>\n",
       "      <td>195.869995</td>\n",
       "      <td>54156800</td>\n",
       "    </tr>\n",
       "    <tr>\n",
       "      <th>379</th>\n",
       "      <td>2024-06-06</td>\n",
       "      <td>195.690002</td>\n",
       "      <td>196.500000</td>\n",
       "      <td>194.169998</td>\n",
       "      <td>194.479996</td>\n",
       "      <td>194.479996</td>\n",
       "      <td>41181800</td>\n",
       "    </tr>\n",
       "    <tr>\n",
       "      <th>380</th>\n",
       "      <td>2024-06-07</td>\n",
       "      <td>194.649994</td>\n",
       "      <td>196.940002</td>\n",
       "      <td>194.139999</td>\n",
       "      <td>196.889999</td>\n",
       "      <td>196.889999</td>\n",
       "      <td>53044700</td>\n",
       "    </tr>\n",
       "    <tr>\n",
       "      <th>381</th>\n",
       "      <td>2024-06-10</td>\n",
       "      <td>197.199997</td>\n",
       "      <td>197.280106</td>\n",
       "      <td>194.830002</td>\n",
       "      <td>195.500000</td>\n",
       "      <td>195.500000</td>\n",
       "      <td>17381225</td>\n",
       "    </tr>\n",
       "  </tbody>\n",
       "</table>\n",
       "<p>382 rows × 7 columns</p>\n",
       "</div>"
      ],
      "text/plain": [
       "           Date        Open        High         Low       Close   Adj Close  \\\n",
       "0    2022-12-01  148.210007  149.130005  146.610001  148.309998  147.098160   \n",
       "1    2022-12-02  145.960007  148.000000  145.649994  147.809998  146.602219   \n",
       "2    2022-12-05  147.770004  150.919998  145.770004  146.630005  145.431900   \n",
       "3    2022-12-06  147.070007  147.300003  141.919998  142.910004  141.742279   \n",
       "4    2022-12-07  142.190002  143.369995  140.000000  140.940002  139.788391   \n",
       "..          ...         ...         ...         ...         ...         ...   \n",
       "377  2024-06-04  194.639999  195.320007  193.029999  194.350006  194.350006   \n",
       "378  2024-06-05  195.399994  196.899994  194.869995  195.869995  195.869995   \n",
       "379  2024-06-06  195.690002  196.500000  194.169998  194.479996  194.479996   \n",
       "380  2024-06-07  194.649994  196.940002  194.139999  196.889999  196.889999   \n",
       "381  2024-06-10  197.199997  197.280106  194.830002  195.500000  195.500000   \n",
       "\n",
       "       Volume  \n",
       "0    71250400  \n",
       "1    65447400  \n",
       "2    68826400  \n",
       "3    64727200  \n",
       "4    69721100  \n",
       "..        ...  \n",
       "377  47471400  \n",
       "378  54156800  \n",
       "379  41181800  \n",
       "380  53044700  \n",
       "381  17381225  \n",
       "\n",
       "[382 rows x 7 columns]"
      ]
     },
     "execution_count": 7,
     "metadata": {},
     "output_type": "execute_result"
    }
   ],
   "source": [
    "df"
   ]
  },
  {
   "cell_type": "code",
   "execution_count": 8,
   "metadata": {},
   "outputs": [],
   "source": [
    "import matplotlib.pyplot as plt"
   ]
  },
  {
   "cell_type": "code",
   "execution_count": 9,
   "metadata": {},
   "outputs": [
    {
     "data": {
      "text/plain": [
       "[<matplotlib.lines.Line2D at 0x1b65f4227a0>]"
      ]
     },
     "execution_count": 9,
     "metadata": {},
     "output_type": "execute_result"
    },
    {
     "data": {
      "image/png": "[encoded data removed]",
      "text/plain": [
       "<Figure size 640x480 with 1 Axes>"
      ]
     },
     "metadata": {},
     "output_type": "display_data"
    }
   ],
   "source": [
    "plt.plot(df['Close'])"
   ]
  },
  {
   "cell_type": "code",
   "execution_count": 10,
   "metadata": {},
   "outputs": [],
   "source": [
    "df = df[['Date', 'Close']]"
   ]
  },
  {
   "cell_type": "code",
   "execution_count": 11,
   "metadata": {},
   "outputs": [
    {
     "data": {
      "text/html": [
       "<div>\n",
       "<style scoped>\n",
       "    .dataframe tbody tr th:only-of-type {\n",
       "        vertical-align: middle;\n",
       "    }\n",
       "\n",
       "    .dataframe tbody tr th {\n",
       "        vertical-align: top;\n",
       "    }\n",
       "\n",
       "    .dataframe thead th {\n",
       "        text-align: right;\n",
       "    }\n",
       "</style>\n",
       "<table border=\"1\" class=\"dataframe\">\n",
       "  <thead>\n",
       "    <tr style=\"text-align: right;\">\n",
       "      <th></th>\n",
       "      <th>Date</th>\n",
       "      <th>Close</th>\n",
       "    </tr>\n",
       "  </thead>\n",
       "  <tbody>\n",
       "    <tr>\n",
       "      <th>0</th>\n",
       "      <td>2022-12-01</td>\n",
       "      <td>148.309998</td>\n",
       "    </tr>\n",
       "    <tr>\n",
       "      <th>1</th>\n",
       "      <td>2022-12-02</td>\n",
       "      <td>147.809998</td>\n",
       "    </tr>\n",
       "    <tr>\n",
       "      <th>2</th>\n",
       "      <td>2022-12-05</td>\n",
       "      <td>146.630005</td>\n",
       "    </tr>\n",
       "    <tr>\n",
       "      <th>3</th>\n",
       "      <td>2022-12-06</td>\n",
       "      <td>142.910004</td>\n",
       "    </tr>\n",
       "    <tr>\n",
       "      <th>4</th>\n",
       "      <td>2022-12-07</td>\n",
       "      <td>140.940002</td>\n",
       "    </tr>\n",
       "    <tr>\n",
       "      <th>...</th>\n",
       "      <td>...</td>\n",
       "      <td>...</td>\n",
       "    </tr>\n",
       "    <tr>\n",
       "      <th>377</th>\n",
       "      <td>2024-06-04</td>\n",
       "      <td>194.350006</td>\n",
       "    </tr>\n",
       "    <tr>\n",
       "      <th>378</th>\n",
       "      <td>2024-06-05</td>\n",
       "      <td>195.869995</td>\n",
       "    </tr>\n",
       "    <tr>\n",
       "      <th>379</th>\n",
       "      <td>2024-06-06</td>\n",
       "      <td>194.479996</td>\n",
       "    </tr>\n",
       "    <tr>\n",
       "      <th>380</th>\n",
       "      <td>2024-06-07</td>\n",
       "      <td>196.889999</td>\n",
       "    </tr>\n",
       "    <tr>\n",
       "      <th>381</th>\n",
       "      <td>2024-06-10</td>\n",
       "      <td>195.500000</td>\n",
       "    </tr>\n",
       "  </tbody>\n",
       "</table>\n",
       "<p>382 rows × 2 columns</p>\n",
       "</div>"
      ],
      "text/plain": [
       "           Date       Close\n",
       "0    2022-12-01  148.309998\n",
       "1    2022-12-02  147.809998\n",
       "2    2022-12-05  146.630005\n",
       "3    2022-12-06  142.910004\n",
       "4    2022-12-07  140.940002\n",
       "..          ...         ...\n",
       "377  2024-06-04  194.350006\n",
       "378  2024-06-05  195.869995\n",
       "379  2024-06-06  194.479996\n",
       "380  2024-06-07  196.889999\n",
       "381  2024-06-10  195.500000\n",
       "\n",
       "[382 rows x 2 columns]"
      ]
     },
     "execution_count": 11,
     "metadata": {},
     "output_type": "execute_result"
    }
   ],
   "source": [
    "df"
   ]
  },
  {
   "cell_type": "code",
   "execution_count": 12,
   "metadata": {},
   "outputs": [],
   "source": [
    "def str_to_datetime(s):\n",
    "  split = s.split('-')\n",
    "  year, month, day = int(split[0]), int(split[1]), int(split[2])\n",
    "  return datetime.datetime(year=year, month=month, day=day)\n"
   ]
  },
  {
   "cell_type": "code",
   "execution_count": 13,
   "metadata": {},
   "outputs": [
    {
     "name": "stderr",
     "output_type": "stream",
     "text": [
      "C:\\Users\\acer\\AppData\\Local\\Temp\\ipykernel_4908\\2565755782.py:1: SettingWithCopyWarning: \n",
      "A value is trying to be set on a copy of a slice from a DataFrame.\n",
      "Try using .loc[row_indexer,col_indexer] = value instead\n",
      "\n",
      "See the caveats in the documentation: https://pandas.pydata.org/pandas-docs/stable/user_guide/indexing.html#returning-a-view-versus-a-copy\n",
      "  df['Date'] = df['Date'].apply(str_to_datetime)\n"
     ]
    },
    {
     "data": {
      "text/plain": [
       "0     2022-12-01\n",
       "1     2022-12-02\n",
       "2     2022-12-05\n",
       "3     2022-12-06\n",
       "4     2022-12-07\n",
       "         ...    \n",
       "377   2024-06-04\n",
       "378   2024-06-05\n",
       "379   2024-06-06\n",
       "380   2024-06-07\n",
       "381   2024-06-10\n",
       "Name: Date, Length: 382, dtype: datetime64[ns]"
      ]
     },
     "execution_count": 13,
     "metadata": {},
     "output_type": "execute_result"
    }
   ],
   "source": [
    "df['Date'] = df['Date'].apply(str_to_datetime)\n",
    "df['Date']"
   ]
  },
  {
   "cell_type": "code",
   "execution_count": 14,
   "metadata": {},
   "outputs": [
    {
     "data": {
      "text/html": [
       "<div>\n",
       "<style scoped>\n",
       "    .dataframe tbody tr th:only-of-type {\n",
       "        vertical-align: middle;\n",
       "    }\n",
       "\n",
       "    .dataframe tbody tr th {\n",
       "        vertical-align: top;\n",
       "    }\n",
       "\n",
       "    .dataframe thead th {\n",
       "        text-align: right;\n",
       "    }\n",
       "</style>\n",
       "<table border=\"1\" class=\"dataframe\">\n",
       "  <thead>\n",
       "    <tr style=\"text-align: right;\">\n",
       "      <th></th>\n",
       "      <th>Close</th>\n",
       "    </tr>\n",
       "    <tr>\n",
       "      <th>Date</th>\n",
       "      <th></th>\n",
       "    </tr>\n",
       "  </thead>\n",
       "  <tbody>\n",
       "    <tr>\n",
       "      <th>2022-12-01</th>\n",
       "      <td>148.309998</td>\n",
       "    </tr>\n",
       "    <tr>\n",
       "      <th>2022-12-02</th>\n",
       "      <td>147.809998</td>\n",
       "    </tr>\n",
       "    <tr>\n",
       "      <th>2022-12-05</th>\n",
       "      <td>146.630005</td>\n",
       "    </tr>\n",
       "    <tr>\n",
       "      <th>2022-12-06</th>\n",
       "      <td>142.910004</td>\n",
       "    </tr>\n",
       "    <tr>\n",
       "      <th>2022-12-07</th>\n",
       "      <td>140.940002</td>\n",
       "    </tr>\n",
       "    <tr>\n",
       "      <th>...</th>\n",
       "      <td>...</td>\n",
       "    </tr>\n",
       "    <tr>\n",
       "      <th>2024-06-04</th>\n",
       "      <td>194.350006</td>\n",
       "    </tr>\n",
       "    <tr>\n",
       "      <th>2024-06-05</th>\n",
       "      <td>195.869995</td>\n",
       "    </tr>\n",
       "    <tr>\n",
       "      <th>2024-06-06</th>\n",
       "      <td>194.479996</td>\n",
       "    </tr>\n",
       "    <tr>\n",
       "      <th>2024-06-07</th>\n",
       "      <td>196.889999</td>\n",
       "    </tr>\n",
       "    <tr>\n",
       "      <th>2024-06-10</th>\n",
       "      <td>195.500000</td>\n",
       "    </tr>\n",
       "  </tbody>\n",
       "</table>\n",
       "<p>382 rows × 1 columns</p>\n",
       "</div>"
      ],
      "text/plain": [
       "                 Close\n",
       "Date                  \n",
       "2022-12-01  148.309998\n",
       "2022-12-02  147.809998\n",
       "2022-12-05  146.630005\n",
       "2022-12-06  142.910004\n",
       "2022-12-07  140.940002\n",
       "...                ...\n",
       "2024-06-04  194.350006\n",
       "2024-06-05  195.869995\n",
       "2024-06-06  194.479996\n",
       "2024-06-07  196.889999\n",
       "2024-06-10  195.500000\n",
       "\n",
       "[382 rows x 1 columns]"
      ]
     },
     "execution_count": 14,
     "metadata": {},
     "output_type": "execute_result"
    }
   ],
   "source": [
    "df.index = df.pop('Date')\n",
    "df"
   ]
  },
  {
   "cell_type": "code",
   "execution_count": 15,
   "metadata": {},
   "outputs": [],
   "source": [
    "dt = date['Date'].iloc[3]"
   ]
  },
  {
   "cell_type": "code",
   "execution_count": 16,
   "metadata": {},
   "outputs": [
    {
     "data": {
      "text/plain": [
       "'2022-12-06'"
      ]
     },
     "execution_count": 16,
     "metadata": {},
     "output_type": "execute_result"
    }
   ],
   "source": [
    "dt"
   ]
  },
  {
   "cell_type": "code",
   "execution_count": 17,
   "metadata": {},
   "outputs": [],
   "source": [
    "curr = str(datetime.datetime.now()-datetime.timedelta(days=4))"
   ]
  },
  {
   "cell_type": "code",
   "execution_count": 18,
   "metadata": {},
   "outputs": [
    {
     "data": {
      "text/plain": [
       "'2024-06-06 20:15:19.080852'"
      ]
     },
     "execution_count": 18,
     "metadata": {},
     "output_type": "execute_result"
    }
   ],
   "source": [
    "curr"
   ]
  },
  {
   "cell_type": "code",
   "execution_count": 19,
   "metadata": {},
   "outputs": [],
   "source": [
    "curr = curr[0:10]"
   ]
  },
  {
   "cell_type": "code",
   "execution_count": 20,
   "metadata": {},
   "outputs": [
    {
     "data": {
      "text/html": [
       "<div>\n",
       "<style scoped>\n",
       "    .dataframe tbody tr th:only-of-type {\n",
       "        vertical-align: middle;\n",
       "    }\n",
       "\n",
       "    .dataframe tbody tr th {\n",
       "        vertical-align: top;\n",
       "    }\n",
       "\n",
       "    .dataframe thead th {\n",
       "        text-align: right;\n",
       "    }\n",
       "</style>\n",
       "<table border=\"1\" class=\"dataframe\">\n",
       "  <thead>\n",
       "    <tr style=\"text-align: right;\">\n",
       "      <th></th>\n",
       "      <th>Target Date</th>\n",
       "      <th>Target-3</th>\n",
       "      <th>Target-2</th>\n",
       "      <th>Target-1</th>\n",
       "      <th>Target</th>\n",
       "    </tr>\n",
       "  </thead>\n",
       "  <tbody>\n",
       "    <tr>\n",
       "      <th>0</th>\n",
       "      <td>2022-12-06</td>\n",
       "      <td>148.309998</td>\n",
       "      <td>147.809998</td>\n",
       "      <td>146.630005</td>\n",
       "      <td>142.910004</td>\n",
       "    </tr>\n",
       "    <tr>\n",
       "      <th>1</th>\n",
       "      <td>2022-12-07</td>\n",
       "      <td>147.809998</td>\n",
       "      <td>146.630005</td>\n",
       "      <td>142.910004</td>\n",
       "      <td>140.940002</td>\n",
       "    </tr>\n",
       "    <tr>\n",
       "      <th>2</th>\n",
       "      <td>2022-12-08</td>\n",
       "      <td>146.630005</td>\n",
       "      <td>142.910004</td>\n",
       "      <td>140.940002</td>\n",
       "      <td>142.649994</td>\n",
       "    </tr>\n",
       "    <tr>\n",
       "      <th>3</th>\n",
       "      <td>2022-12-09</td>\n",
       "      <td>142.910004</td>\n",
       "      <td>140.940002</td>\n",
       "      <td>142.649994</td>\n",
       "      <td>142.160004</td>\n",
       "    </tr>\n",
       "    <tr>\n",
       "      <th>4</th>\n",
       "      <td>2022-12-12</td>\n",
       "      <td>140.940002</td>\n",
       "      <td>142.649994</td>\n",
       "      <td>142.160004</td>\n",
       "      <td>144.490005</td>\n",
       "    </tr>\n",
       "    <tr>\n",
       "      <th>...</th>\n",
       "      <td>...</td>\n",
       "      <td>...</td>\n",
       "      <td>...</td>\n",
       "      <td>...</td>\n",
       "      <td>...</td>\n",
       "    </tr>\n",
       "    <tr>\n",
       "      <th>372</th>\n",
       "      <td>2024-05-31</td>\n",
       "      <td>189.990005</td>\n",
       "      <td>190.289993</td>\n",
       "      <td>191.289993</td>\n",
       "      <td>192.250000</td>\n",
       "    </tr>\n",
       "    <tr>\n",
       "      <th>373</th>\n",
       "      <td>2024-06-03</td>\n",
       "      <td>190.289993</td>\n",
       "      <td>191.289993</td>\n",
       "      <td>192.250000</td>\n",
       "      <td>194.029999</td>\n",
       "    </tr>\n",
       "    <tr>\n",
       "      <th>374</th>\n",
       "      <td>2024-06-04</td>\n",
       "      <td>191.289993</td>\n",
       "      <td>192.250000</td>\n",
       "      <td>194.029999</td>\n",
       "      <td>194.350006</td>\n",
       "    </tr>\n",
       "    <tr>\n",
       "      <th>375</th>\n",
       "      <td>2024-06-05</td>\n",
       "      <td>192.250000</td>\n",
       "      <td>194.029999</td>\n",
       "      <td>194.350006</td>\n",
       "      <td>195.869995</td>\n",
       "    </tr>\n",
       "    <tr>\n",
       "      <th>376</th>\n",
       "      <td>2024-06-06</td>\n",
       "      <td>194.029999</td>\n",
       "      <td>194.350006</td>\n",
       "      <td>195.869995</td>\n",
       "      <td>194.479996</td>\n",
       "    </tr>\n",
       "  </tbody>\n",
       "</table>\n",
       "<p>377 rows × 5 columns</p>\n",
       "</div>"
      ],
      "text/plain": [
       "    Target Date    Target-3    Target-2    Target-1      Target\n",
       "0    2022-12-06  148.309998  147.809998  146.630005  142.910004\n",
       "1    2022-12-07  147.809998  146.630005  142.910004  140.940002\n",
       "2    2022-12-08  146.630005  142.910004  140.940002  142.649994\n",
       "3    2022-12-09  142.910004  140.940002  142.649994  142.160004\n",
       "4    2022-12-12  140.940002  142.649994  142.160004  144.490005\n",
       "..          ...         ...         ...         ...         ...\n",
       "372  2024-05-31  189.990005  190.289993  191.289993  192.250000\n",
       "373  2024-06-03  190.289993  191.289993  192.250000  194.029999\n",
       "374  2024-06-04  191.289993  192.250000  194.029999  194.350006\n",
       "375  2024-06-05  192.250000  194.029999  194.350006  195.869995\n",
       "376  2024-06-06  194.029999  194.350006  195.869995  194.479996\n",
       "\n",
       "[377 rows x 5 columns]"
      ]
     },
     "execution_count": 20,
     "metadata": {},
     "output_type": "execute_result"
    }
   ],
   "source": [
    "import numpy as np\n",
    "\n",
    "def df_to_windowed_df(dataframe, first_date_str, last_date_str, n=3):\n",
    "  first_date = str_to_datetime(first_date_str)\n",
    "  last_date  = str_to_datetime(last_date_str)\n",
    "\n",
    "  target_date = first_date\n",
    "  \n",
    "  dates = []\n",
    "  X, Y = [], []\n",
    "\n",
    "  last_time = False\n",
    "  while True:\n",
    "    df_subset = dataframe.loc[:target_date].tail(n+1)\n",
    "    \n",
    "    if len(df_subset) != n+1:\n",
    "      print(f'Error: Window of size {n} is too large for date {target_date}')\n",
    "      return\n",
    "\n",
    "    values = df_subset['Close'].to_numpy()\n",
    "    x, y = values[:-1], values[-1]\n",
    "\n",
    "    dates.append(target_date)\n",
    "    X.append(x)\n",
    "    Y.append(y)\n",
    "\n",
    "    next_week = dataframe.loc[target_date:target_date+datetime.timedelta(days=7)]\n",
    "    next_datetime_str = str(next_week.head(2).tail(1).index.values[0])\n",
    "    next_date_str = next_datetime_str.split('T')[0]\n",
    "    year_month_day = next_date_str.split('-')\n",
    "    year, month, day = year_month_day\n",
    "    next_date = datetime.datetime(day=int(day), month=int(month), year=int(year))\n",
    "    \n",
    "    if last_time:\n",
    "      break\n",
    "    \n",
    "    target_date = next_date\n",
    "\n",
    "    if target_date == last_date:\n",
    "      last_time = True\n",
    "    \n",
    "  ret_df = pd.DataFrame({})\n",
    "  ret_df['Target Date'] = dates\n",
    "  \n",
    "  X = np.array(X)\n",
    "  for i in range(0, n):\n",
    "    X[:, i]\n",
    "    ret_df[f'Target-{n-i}'] = X[:, i]\n",
    "  \n",
    "  ret_df['Target'] = Y\n",
    "\n",
    "  return ret_df\n",
    "\n",
    "windowed_df = df_to_windowed_df(df, \n",
    "                                dt, \n",
    "                                curr, \n",
    "                                n=3)\n",
    "windowed_df"
   ]
  },
  {
   "cell_type": "code",
   "execution_count": 21,
   "metadata": {},
   "outputs": [
    {
     "data": {
      "text/plain": [
       "((377,), (377, 3), (377,))"
      ]
     },
     "execution_count": 21,
     "metadata": {},
     "output_type": "execute_result"
    }
   ],
   "source": [
    "def windowed_df_to_date_X_y(windowed_dataframe):\n",
    "  df_as_np = windowed_dataframe.to_numpy()\n",
    "\n",
    "  dates = df_as_np[:, 0]\n",
    "\n",
    "  middle_matrix = df_as_np[:, 1:-1]\n",
    "  X = middle_matrix.reshape((len(dates), middle_matrix.shape[1]))\n",
    "\n",
    "  Y = df_as_np[:, -1]\n",
    "\n",
    "  return dates, X.astype(np.float32), Y.astype(np.float32)\n",
    "\n",
    "dates, X, y = windowed_df_to_date_X_y(windowed_df)\n",
    "\n",
    "dates.shape, X.shape, y.shape"
   ]
  },
  {
   "cell_type": "code",
   "execution_count": 22,
   "metadata": {},
   "outputs": [
    {
     "data": {
      "text/plain": [
       "<matplotlib.legend.Legend at 0x1b65f38f100>"
      ]
     },
     "execution_count": 22,
     "metadata": {},
     "output_type": "execute_result"
    },
    {
     "data": {
      "image/png": "[encoded data removed]",
      "text/plain": [
       "<Figure size 640x480 with 1 Axes>"
      ]
     },
     "metadata": {},
     "output_type": "display_data"
    }
   ],
   "source": [
    "q_80 = int(len(dates) * .8)\n",
    "q_90 = int(len(dates) * .9)\n",
    "\n",
    "dates_train, X_train, y_train = dates[:q_80], X[:q_80], y[:q_80]\n",
    "\n",
    "dates_val, X_val, y_val = dates[q_80:q_90], X[q_80:q_90], y[q_80:q_90]\n",
    "dates_test, X_test, y_test = dates[q_90:], X[q_90:], y[q_90:]\n",
    "\n",
    "plt.plot(dates_train, y_train)\n",
    "plt.plot(dates_val, y_val)\n",
    "plt.plot(dates_test, y_test)\n",
    "\n",
    "plt.legend(['Train', 'Validation', 'Test'])"
   ]
  },
  {
   "cell_type": "code",
   "execution_count": 23,
   "metadata": {},
   "outputs": [
    {
     "name": "stdout",
     "output_type": "stream",
     "text": [
      "WARNING:tensorflow:From c:\\Users\\acer\\anaconda3\\lib\\site-packages\\keras\\src\\losses.py:2976: The name tf.losses.sparse_softmax_cross_entropy is deprecated. Please use tf.compat.v1.losses.sparse_softmax_cross_entropy instead.\n",
      "\n"
     ]
    }
   ],
   "source": [
    "import tensorflow as tf\n",
    "from tensorflow import keras\n"
   ]
  },
  {
   "cell_type": "code",
   "execution_count": 24,
   "metadata": {},
   "outputs": [
    {
     "name": "stdout",
     "output_type": "stream",
     "text": [
      "WARNING:tensorflow:From c:\\Users\\acer\\anaconda3\\lib\\site-packages\\keras\\src\\backend.py:1398: The name tf.executing_eagerly_outside_functions is deprecated. Please use tf.compat.v1.executing_eagerly_outside_functions instead.\n",
      "\n",
      "Epoch 1/100\n",
      "WARNING:tensorflow:From c:\\Users\\acer\\anaconda3\\lib\\site-packages\\keras\\src\\utils\\tf_utils.py:492: The name tf.ragged.RaggedTensorValue is deprecated. Please use tf.compat.v1.ragged.RaggedTensorValue instead.\n",
      "\n",
      "WARNING:tensorflow:From c:\\Users\\acer\\anaconda3\\lib\\site-packages\\keras\\src\\engine\\base_layer_utils.py:384: The name tf.executing_eagerly_outside_functions is deprecated. Please use tf.compat.v1.executing_eagerly_outside_functions instead.\n",
      "\n",
      "10/10 [==============================] - 9s 209ms/step - loss: 29923.4824 - mean_absolute_error: 171.9569 - val_loss: 30168.0098 - val_mean_absolute_error: 173.6191\n",
      "Epoch 2/100\n",
      "10/10 [==============================] - 0s 14ms/step - loss: 29685.6680 - mean_absolute_error: 171.2652 - val_loss: 29944.1738 - val_mean_absolute_error: 172.9733\n",
      "Epoch 3/100\n",
      "10/10 [==============================] - 0s 12ms/step - loss: 29442.8730 - mean_absolute_error: 170.5542 - val_loss: 29644.7969 - val_mean_absolute_error: 172.1056\n",
      "Epoch 4/100\n",
      "10/10 [==============================] - 0s 24ms/step - loss: 29076.6250 - mean_absolute_error: 169.4729 - val_loss: 29135.1191 - val_mean_absolute_error: 170.6182\n",
      "Epoch 5/100\n",
      "10/10 [==============================] - 0s 11ms/step - loss: 28402.6074 - mean_absolute_error: 167.4657 - val_loss: 28207.9219 - val_mean_absolute_error: 167.8789\n",
      "Epoch 6/100\n",
      "10/10 [==============================] - 0s 11ms/step - loss: 27219.2090 - mean_absolute_error: 163.8795 - val_loss: 26523.2500 - val_mean_absolute_error: 162.7841\n",
      "Epoch 7/100\n",
      "10/10 [==============================] - 0s 14ms/step - loss: 25257.3594 - mean_absolute_error: 157.7756 - val_loss: 24160.4434 - val_mean_absolute_error: 155.3567\n",
      "Epoch 8/100\n",
      "10/10 [==============================] - 0s 11ms/step - loss: 22524.5938 - mean_absolute_error: 148.8710 - val_loss: 20725.2227 - val_mean_absolute_error: 143.8754\n",
      "Epoch 9/100\n",
      "10/10 [==============================] - 0s 16ms/step - loss: 18590.4863 - mean_absolute_error: 134.9285 - val_loss: 16144.4707 - val_mean_absolute_error: 126.9621\n",
      "Epoch 10/100\n",
      "10/10 [==============================] - 0s 15ms/step - loss: 13909.7061 - mean_absolute_error: 116.1119 - val_loss: 10967.7637 - val_mean_absolute_error: 104.6042\n",
      "Epoch 11/100\n",
      "10/10 [==============================] - 0s 18ms/step - loss: 8592.0547 - mean_absolute_error: 90.1956 - val_loss: 5725.3931 - val_mean_absolute_error: 75.5010\n",
      "Epoch 12/100\n",
      "10/10 [==============================] - 0s 15ms/step - loss: 4100.8208 - mean_absolute_error: 60.2515 - val_loss: 1904.8964 - val_mean_absolute_error: 43.3519\n",
      "Epoch 13/100\n",
      "10/10 [==============================] - 0s 12ms/step - loss: 1155.8385 - mean_absolute_error: 29.9807 - val_loss: 123.2065 - val_mean_absolute_error: 9.9068\n",
      "Epoch 14/100\n",
      "10/10 [==============================] - 0s 13ms/step - loss: 369.5131 - mean_absolute_error: 15.5171 - val_loss: 66.4929 - val_mean_absolute_error: 7.1328\n",
      "Epoch 15/100\n",
      "10/10 [==============================] - 0s 11ms/step - loss: 444.8043 - mean_absolute_error: 15.5922 - val_loss: 59.9505 - val_mean_absolute_error: 6.8225\n",
      "Epoch 16/100\n",
      "10/10 [==============================] - 0s 9ms/step - loss: 388.0115 - mean_absolute_error: 15.0095 - val_loss: 25.2880 - val_mean_absolute_error: 3.9633\n",
      "Epoch 17/100\n",
      "10/10 [==============================] - 0s 11ms/step - loss: 337.0999 - mean_absolute_error: 15.2328 - val_loss: 39.5759 - val_mean_absolute_error: 4.4952\n",
      "Epoch 18/100\n",
      "10/10 [==============================] - 0s 14ms/step - loss: 335.2630 - mean_absolute_error: 15.4272 - val_loss: 33.7353 - val_mean_absolute_error: 4.1957\n",
      "Epoch 19/100\n",
      "10/10 [==============================] - 0s 14ms/step - loss: 327.7777 - mean_absolute_error: 15.0373 - val_loss: 30.9239 - val_mean_absolute_error: 4.0556\n",
      "Epoch 20/100\n",
      "10/10 [==============================] - 0s 24ms/step - loss: 311.4620 - mean_absolute_error: 14.7984 - val_loss: 24.1035 - val_mean_absolute_error: 3.8637\n",
      "Epoch 21/100\n",
      "10/10 [==============================] - 0s 11ms/step - loss: 302.4028 - mean_absolute_error: 14.2787 - val_loss: 22.1549 - val_mean_absolute_error: 3.8261\n",
      "Epoch 22/100\n",
      "10/10 [==============================] - 0s 11ms/step - loss: 291.7422 - mean_absolute_error: 13.8375 - val_loss: 30.9152 - val_mean_absolute_error: 4.0433\n",
      "Epoch 23/100\n",
      "10/10 [==============================] - 0s 14ms/step - loss: 264.3737 - mean_absolute_error: 13.4906 - val_loss: 36.1296 - val_mean_absolute_error: 4.4588\n",
      "Epoch 24/100\n",
      "10/10 [==============================] - 0s 12ms/step - loss: 218.5208 - mean_absolute_error: 12.4970 - val_loss: 44.6360 - val_mean_absolute_error: 5.4170\n",
      "Epoch 25/100\n",
      "10/10 [==============================] - 0s 15ms/step - loss: 177.2762 - mean_absolute_error: 11.3280 - val_loss: 24.0483 - val_mean_absolute_error: 3.6855\n",
      "Epoch 26/100\n",
      "10/10 [==============================] - 0s 16ms/step - loss: 132.5004 - mean_absolute_error: 9.6723 - val_loss: 19.1861 - val_mean_absolute_error: 3.3628\n",
      "Epoch 27/100\n",
      "10/10 [==============================] - 0s 14ms/step - loss: 88.8932 - mean_absolute_error: 7.8756 - val_loss: 10.0108 - val_mean_absolute_error: 2.7841\n",
      "Epoch 28/100\n",
      "10/10 [==============================] - 0s 12ms/step - loss: 55.4799 - mean_absolute_error: 6.1790 - val_loss: 9.4906 - val_mean_absolute_error: 2.5658\n",
      "Epoch 29/100\n",
      "10/10 [==============================] - 0s 10ms/step - loss: 32.8867 - mean_absolute_error: 4.6872 - val_loss: 16.5674 - val_mean_absolute_error: 3.3249\n",
      "Epoch 30/100\n",
      "10/10 [==============================] - 0s 11ms/step - loss: 21.1466 - mean_absolute_error: 3.7394 - val_loss: 9.5302 - val_mean_absolute_error: 2.4109\n",
      "Epoch 31/100\n",
      "10/10 [==============================] - 0s 10ms/step - loss: 14.8169 - mean_absolute_error: 3.2067 - val_loss: 11.9545 - val_mean_absolute_error: 2.7567\n",
      "Epoch 32/100\n",
      "10/10 [==============================] - 0s 9ms/step - loss: 12.2367 - mean_absolute_error: 2.8787 - val_loss: 8.8317 - val_mean_absolute_error: 2.2744\n",
      "Epoch 33/100\n",
      "10/10 [==============================] - 0s 10ms/step - loss: 10.0266 - mean_absolute_error: 2.6118 - val_loss: 9.0628 - val_mean_absolute_error: 2.3193\n",
      "Epoch 34/100\n",
      "10/10 [==============================] - 0s 11ms/step - loss: 10.0884 - mean_absolute_error: 2.5859 - val_loss: 13.7607 - val_mean_absolute_error: 3.0382\n",
      "Epoch 35/100\n",
      "10/10 [==============================] - 0s 18ms/step - loss: 9.5885 - mean_absolute_error: 2.5266 - val_loss: 12.0552 - val_mean_absolute_error: 2.8119\n",
      "Epoch 36/100\n",
      "10/10 [==============================] - 0s 14ms/step - loss: 10.9739 - mean_absolute_error: 2.6348 - val_loss: 12.1020 - val_mean_absolute_error: 2.8155\n",
      "Epoch 37/100\n",
      "10/10 [==============================] - 0s 10ms/step - loss: 12.3006 - mean_absolute_error: 2.9005 - val_loss: 11.7654 - val_mean_absolute_error: 2.7747\n",
      "Epoch 38/100\n",
      "10/10 [==============================] - 0s 10ms/step - loss: 10.0880 - mean_absolute_error: 2.5719 - val_loss: 8.5442 - val_mean_absolute_error: 2.2499\n",
      "Epoch 39/100\n",
      "10/10 [==============================] - 0s 10ms/step - loss: 10.5482 - mean_absolute_error: 2.6254 - val_loss: 12.3704 - val_mean_absolute_error: 2.8614\n",
      "Epoch 40/100\n",
      "10/10 [==============================] - 0s 10ms/step - loss: 10.9120 - mean_absolute_error: 2.7045 - val_loss: 19.7879 - val_mean_absolute_error: 3.7963\n",
      "Epoch 41/100\n",
      "10/10 [==============================] - 0s 10ms/step - loss: 10.0704 - mean_absolute_error: 2.6378 - val_loss: 7.5547 - val_mean_absolute_error: 2.0450\n",
      "Epoch 42/100\n",
      "10/10 [==============================] - 0s 9ms/step - loss: 9.1553 - mean_absolute_error: 2.4795 - val_loss: 21.1453 - val_mean_absolute_error: 3.9506\n",
      "Epoch 43/100\n",
      "10/10 [==============================] - 0s 10ms/step - loss: 9.6588 - mean_absolute_error: 2.4787 - val_loss: 9.7857 - val_mean_absolute_error: 2.4727\n",
      "Epoch 44/100\n",
      "10/10 [==============================] - 0s 11ms/step - loss: 8.3439 - mean_absolute_error: 2.3335 - val_loss: 7.7839 - val_mean_absolute_error: 2.1322\n",
      "Epoch 45/100\n",
      "10/10 [==============================] - 0s 9ms/step - loss: 8.1200 - mean_absolute_error: 2.3012 - val_loss: 14.5213 - val_mean_absolute_error: 3.1459\n",
      "Epoch 46/100\n",
      "10/10 [==============================] - 0s 24ms/step - loss: 8.0374 - mean_absolute_error: 2.2628 - val_loss: 7.5723 - val_mean_absolute_error: 2.0935\n",
      "Epoch 47/100\n",
      "10/10 [==============================] - 0s 17ms/step - loss: 8.7949 - mean_absolute_error: 2.3966 - val_loss: 17.1596 - val_mean_absolute_error: 3.4633\n",
      "Epoch 48/100\n",
      "10/10 [==============================] - 0s 18ms/step - loss: 8.1361 - mean_absolute_error: 2.2408 - val_loss: 11.3080 - val_mean_absolute_error: 2.7146\n",
      "Epoch 49/100\n",
      "10/10 [==============================] - 0s 11ms/step - loss: 8.0288 - mean_absolute_error: 2.2676 - val_loss: 8.0543 - val_mean_absolute_error: 2.1952\n",
      "Epoch 50/100\n",
      "10/10 [==============================] - 0s 13ms/step - loss: 7.5450 - mean_absolute_error: 2.1919 - val_loss: 7.6063 - val_mean_absolute_error: 2.1053\n",
      "Epoch 51/100\n",
      "10/10 [==============================] - 0s 12ms/step - loss: 7.3431 - mean_absolute_error: 2.1509 - val_loss: 8.7084 - val_mean_absolute_error: 2.3026\n",
      "Epoch 52/100\n",
      "10/10 [==============================] - 0s 10ms/step - loss: 7.7197 - mean_absolute_error: 2.1809 - val_loss: 10.1434 - val_mean_absolute_error: 2.5403\n",
      "Epoch 53/100\n",
      "10/10 [==============================] - 0s 11ms/step - loss: 7.3987 - mean_absolute_error: 2.1755 - val_loss: 10.6120 - val_mean_absolute_error: 2.6048\n",
      "Epoch 54/100\n",
      "10/10 [==============================] - 0s 25ms/step - loss: 7.6511 - mean_absolute_error: 2.2315 - val_loss: 7.6632 - val_mean_absolute_error: 2.1327\n",
      "Epoch 55/100\n",
      "10/10 [==============================] - 0s 13ms/step - loss: 8.5396 - mean_absolute_error: 2.2490 - val_loss: 9.7988 - val_mean_absolute_error: 2.4866\n",
      "Epoch 56/100\n",
      "10/10 [==============================] - 0s 10ms/step - loss: 7.5498 - mean_absolute_error: 2.1465 - val_loss: 8.6026 - val_mean_absolute_error: 2.2921\n",
      "Epoch 57/100\n",
      "10/10 [==============================] - 0s 13ms/step - loss: 6.9265 - mean_absolute_error: 2.0716 - val_loss: 7.1657 - val_mean_absolute_error: 2.0291\n",
      "Epoch 58/100\n",
      "10/10 [==============================] - 0s 11ms/step - loss: 7.9042 - mean_absolute_error: 2.2217 - val_loss: 9.1524 - val_mean_absolute_error: 2.3775\n",
      "Epoch 59/100\n",
      "10/10 [==============================] - 0s 11ms/step - loss: 7.0780 - mean_absolute_error: 2.0844 - val_loss: 8.7379 - val_mean_absolute_error: 2.3160\n",
      "Epoch 60/100\n",
      "10/10 [==============================] - 0s 10ms/step - loss: 6.9506 - mean_absolute_error: 2.0705 - val_loss: 9.1274 - val_mean_absolute_error: 2.3741\n",
      "Epoch 61/100\n",
      "10/10 [==============================] - 0s 15ms/step - loss: 7.0006 - mean_absolute_error: 2.0568 - val_loss: 8.2859 - val_mean_absolute_error: 2.2459\n",
      "Epoch 62/100\n",
      "10/10 [==============================] - 0s 19ms/step - loss: 8.5393 - mean_absolute_error: 2.2936 - val_loss: 8.8184 - val_mean_absolute_error: 2.3280\n",
      "Epoch 63/100\n",
      "10/10 [==============================] - 0s 10ms/step - loss: 8.0794 - mean_absolute_error: 2.2461 - val_loss: 9.4174 - val_mean_absolute_error: 2.4305\n",
      "Epoch 64/100\n",
      "10/10 [==============================] - 0s 12ms/step - loss: 7.3414 - mean_absolute_error: 2.1067 - val_loss: 13.4815 - val_mean_absolute_error: 3.0112\n",
      "Epoch 65/100\n",
      "10/10 [==============================] - 0s 15ms/step - loss: 7.4056 - mean_absolute_error: 2.1228 - val_loss: 8.3965 - val_mean_absolute_error: 2.2621\n",
      "Epoch 66/100\n",
      "10/10 [==============================] - 0s 17ms/step - loss: 7.2298 - mean_absolute_error: 2.1265 - val_loss: 9.0112 - val_mean_absolute_error: 2.3566\n",
      "Epoch 67/100\n",
      "10/10 [==============================] - 0s 13ms/step - loss: 7.1179 - mean_absolute_error: 2.1201 - val_loss: 17.7907 - val_mean_absolute_error: 3.5581\n",
      "Epoch 68/100\n",
      "10/10 [==============================] - 0s 10ms/step - loss: 8.2208 - mean_absolute_error: 2.2951 - val_loss: 7.0621 - val_mean_absolute_error: 1.9643\n",
      "Epoch 69/100\n",
      "10/10 [==============================] - 0s 23ms/step - loss: 6.6085 - mean_absolute_error: 2.0248 - val_loss: 7.1847 - val_mean_absolute_error: 2.0552\n",
      "Epoch 70/100\n",
      "10/10 [==============================] - 0s 13ms/step - loss: 6.9648 - mean_absolute_error: 2.1138 - val_loss: 10.1081 - val_mean_absolute_error: 2.5355\n",
      "Epoch 71/100\n",
      "10/10 [==============================] - 0s 12ms/step - loss: 6.5933 - mean_absolute_error: 2.0261 - val_loss: 11.0784 - val_mean_absolute_error: 2.6863\n",
      "Epoch 72/100\n",
      "10/10 [==============================] - 0s 12ms/step - loss: 6.9642 - mean_absolute_error: 2.0354 - val_loss: 7.3762 - val_mean_absolute_error: 1.9843\n",
      "Epoch 73/100\n",
      "10/10 [==============================] - 0s 14ms/step - loss: 7.3806 - mean_absolute_error: 2.1141 - val_loss: 9.0306 - val_mean_absolute_error: 2.3609\n",
      "Epoch 74/100\n",
      "10/10 [==============================] - 0s 15ms/step - loss: 6.6256 - mean_absolute_error: 2.0060 - val_loss: 8.5355 - val_mean_absolute_error: 2.2876\n",
      "Epoch 75/100\n",
      "10/10 [==============================] - 0s 23ms/step - loss: 6.7257 - mean_absolute_error: 2.0283 - val_loss: 7.4701 - val_mean_absolute_error: 2.1202\n",
      "Epoch 76/100\n",
      "10/10 [==============================] - 0s 12ms/step - loss: 6.6536 - mean_absolute_error: 2.0122 - val_loss: 7.7184 - val_mean_absolute_error: 2.1620\n",
      "Epoch 77/100\n",
      "10/10 [==============================] - 0s 10ms/step - loss: 6.5861 - mean_absolute_error: 2.0111 - val_loss: 7.9840 - val_mean_absolute_error: 2.2026\n",
      "Epoch 78/100\n",
      "10/10 [==============================] - 0s 10ms/step - loss: 6.8928 - mean_absolute_error: 2.0368 - val_loss: 7.6376 - val_mean_absolute_error: 2.1502\n",
      "Epoch 79/100\n",
      "10/10 [==============================] - 0s 11ms/step - loss: 6.8846 - mean_absolute_error: 2.0526 - val_loss: 7.8146 - val_mean_absolute_error: 2.1764\n",
      "Epoch 80/100\n",
      "10/10 [==============================] - 0s 10ms/step - loss: 6.8332 - mean_absolute_error: 2.0272 - val_loss: 6.7885 - val_mean_absolute_error: 2.0026\n",
      "Epoch 81/100\n",
      "10/10 [==============================] - 0s 14ms/step - loss: 6.7330 - mean_absolute_error: 1.9886 - val_loss: 11.9905 - val_mean_absolute_error: 2.8006\n",
      "Epoch 82/100\n",
      "10/10 [==============================] - 0s 13ms/step - loss: 7.1812 - mean_absolute_error: 2.0664 - val_loss: 6.7868 - val_mean_absolute_error: 1.9764\n",
      "Epoch 83/100\n",
      "10/10 [==============================] - 0s 14ms/step - loss: 7.3889 - mean_absolute_error: 2.1062 - val_loss: 9.9741 - val_mean_absolute_error: 2.5183\n",
      "Epoch 84/100\n",
      "10/10 [==============================] - 0s 25ms/step - loss: 6.2148 - mean_absolute_error: 1.9496 - val_loss: 6.8654 - val_mean_absolute_error: 1.9900\n",
      "Epoch 85/100\n",
      "10/10 [==============================] - 0s 19ms/step - loss: 6.8978 - mean_absolute_error: 2.0219 - val_loss: 9.0230 - val_mean_absolute_error: 2.3595\n",
      "Epoch 86/100\n",
      "10/10 [==============================] - 0s 13ms/step - loss: 6.2890 - mean_absolute_error: 1.9496 - val_loss: 7.6181 - val_mean_absolute_error: 2.1469\n",
      "Epoch 87/100\n",
      "10/10 [==============================] - 0s 13ms/step - loss: 6.8563 - mean_absolute_error: 2.0525 - val_loss: 6.8171 - val_mean_absolute_error: 1.9963\n",
      "Epoch 88/100\n",
      "10/10 [==============================] - 0s 13ms/step - loss: 6.6005 - mean_absolute_error: 1.9914 - val_loss: 6.7746 - val_mean_absolute_error: 2.0033\n",
      "Epoch 89/100\n",
      "10/10 [==============================] - 0s 9ms/step - loss: 7.2051 - mean_absolute_error: 2.0772 - val_loss: 9.1090 - val_mean_absolute_error: 2.3723\n",
      "Epoch 90/100\n",
      "10/10 [==============================] - 0s 9ms/step - loss: 8.9421 - mean_absolute_error: 2.3847 - val_loss: 7.1694 - val_mean_absolute_error: 1.9151\n",
      "Epoch 91/100\n",
      "10/10 [==============================] - 0s 21ms/step - loss: 7.6580 - mean_absolute_error: 2.2337 - val_loss: 7.7446 - val_mean_absolute_error: 2.1643\n",
      "Epoch 92/100\n",
      "10/10 [==============================] - 0s 12ms/step - loss: 6.2044 - mean_absolute_error: 1.9329 - val_loss: 7.8402 - val_mean_absolute_error: 2.1777\n",
      "Epoch 93/100\n",
      "10/10 [==============================] - 0s 11ms/step - loss: 6.2960 - mean_absolute_error: 1.9433 - val_loss: 6.6208 - val_mean_absolute_error: 1.9228\n",
      "Epoch 94/100\n",
      "10/10 [==============================] - 0s 10ms/step - loss: 6.4152 - mean_absolute_error: 1.9494 - val_loss: 7.4710 - val_mean_absolute_error: 2.1225\n",
      "Epoch 95/100\n",
      "10/10 [==============================] - 0s 14ms/step - loss: 6.1411 - mean_absolute_error: 1.9266 - val_loss: 6.5035 - val_mean_absolute_error: 1.8974\n",
      "Epoch 96/100\n",
      "10/10 [==============================] - 0s 9ms/step - loss: 7.0856 - mean_absolute_error: 2.1050 - val_loss: 11.8434 - val_mean_absolute_error: 2.7954\n",
      "Epoch 97/100\n",
      "10/10 [==============================] - 0s 15ms/step - loss: 9.2787 - mean_absolute_error: 2.4674 - val_loss: 7.1790 - val_mean_absolute_error: 1.9202\n",
      "Epoch 98/100\n",
      "10/10 [==============================] - 0s 15ms/step - loss: 7.4297 - mean_absolute_error: 2.1661 - val_loss: 8.0120 - val_mean_absolute_error: 2.1984\n",
      "Epoch 99/100\n",
      "10/10 [==============================] - 0s 17ms/step - loss: 6.8708 - mean_absolute_error: 2.0428 - val_loss: 9.0951 - val_mean_absolute_error: 2.3673\n",
      "Epoch 100/100\n",
      "10/10 [==============================] - 0s 16ms/step - loss: 6.5592 - mean_absolute_error: 1.9733 - val_loss: 6.6269 - val_mean_absolute_error: 1.9129\n"
     ]
    },
    {
     "data": {
      "text/plain": [
       "<keras.src.callbacks.History at 0x1b66a2ae560>"
      ]
     },
     "execution_count": 24,
     "metadata": {},
     "output_type": "execute_result"
    }
   ],
   "source": [
    "model = keras.Sequential([keras.layers.Input((3, 1)),\n",
    "                    tf.keras.layers.Bidirectional(keras.layers.LSTM(64)),\n",
    "                    keras.layers.Dense(32, activation='relu'),\n",
    "                    keras.layers.Dense(32, activation='relu'),\n",
    "                    keras.layers.Dense(1)])\n",
    "\n",
    "model.compile(loss='mse', \n",
    "              optimizer=tf.keras.optimizers.Adam(learning_rate=0.001),\n",
    "              metrics=['mean_absolute_error'])\n",
    "\n",
    "model.fit(X_train, y_train, validation_data=(X_val, y_val), epochs=100)"
   ]
  },
  {
   "cell_type": "code",
   "execution_count": 25,
   "metadata": {},
   "outputs": [
    {
     "name": "stdout",
     "output_type": "stream",
     "text": [
      "10/10 [==============================] - 1s 4ms/step\n"
     ]
    },
    {
     "data": {
      "text/plain": [
       "<matplotlib.legend.Legend at 0x1b66a3351e0>"
      ]
     },
     "execution_count": 25,
     "metadata": {},
     "output_type": "execute_result"
    },
    {
     "data": {
      "image/png": "[encoded data removed]",
      "text/plain": [
       "<Figure size 640x480 with 1 Axes>"
      ]
     },
     "metadata": {},
     "output_type": "display_data"
    }
   ],
   "source": [
    "train_predictions = model.predict(X_train).flatten()\n",
    "\n",
    "plt.plot(dates_train, train_predictions)\n",
    "plt.plot(dates_train, y_train)\n",
    "plt.legend(['Training Predictions', 'Training Observations'])"
   ]
  },
  {
   "cell_type": "code",
   "execution_count": 26,
   "metadata": {},
   "outputs": [
    {
     "name": "stdout",
     "output_type": "stream",
     "text": [
      "2/2 [==============================] - 0s 6ms/step\n"
     ]
    },
    {
     "data": {
      "text/plain": [
       "<matplotlib.legend.Legend at 0x1b671572a10>"
      ]
     },
     "execution_count": 26,
     "metadata": {},
     "output_type": "execute_result"
    },
    {
     "data": {
      "image/png": "[encoded data removed]",
      "text/plain": [
       "<Figure size 640x480 with 1 Axes>"
      ]
     },
     "metadata": {},
     "output_type": "display_data"
    }
   ],
   "source": [
    "val_predictions = model.predict(X_val).flatten()\n",
    "\n",
    "plt.plot(dates_val, val_predictions)\n",
    "plt.plot(dates_val, y_val)\n",
    "plt.legend(['Validation Predictions', 'Validation Observations'])"
   ]
  },
  {
   "cell_type": "code",
   "execution_count": 27,
   "metadata": {},
   "outputs": [
    {
     "name": "stdout",
     "output_type": "stream",
     "text": [
      "2/2 [==============================] - 0s 2ms/step\n"
     ]
    },
    {
     "data": {
      "text/plain": [
       "<matplotlib.legend.Legend at 0x1b65f4d53c0>"
      ]
     },
     "execution_count": 27,
     "metadata": {},
     "output_type": "execute_result"
    },
    {
     "data": {
      "image/png": "[encoded data removed]",
      "text/plain": [
       "<Figure size 640x480 with 1 Axes>"
      ]
     },
     "metadata": {},
     "output_type": "display_data"
    }
   ],
   "source": [
    "test_predictions = model.predict(X_test).flatten()\n",
    "\n",
    "plt.plot(dates_test, test_predictions)\n",
    "plt.plot(dates_test, y_test)\n",
    "plt.legend(['Testing Predictions', 'Testing Observations'])"
   ]
  },
  {
   "cell_type": "code",
   "execution_count": 28,
   "metadata": {},
   "outputs": [
    {
     "data": {
      "text/plain": [
       "array([Timestamp('2024-04-15 00:00:00'), Timestamp('2024-04-16 00:00:00'),\n",
       "       Timestamp('2024-04-17 00:00:00'), Timestamp('2024-04-18 00:00:00'),\n",
       "       Timestamp('2024-04-19 00:00:00'), Timestamp('2024-04-22 00:00:00'),\n",
       "       Timestamp('2024-04-23 00:00:00'), Timestamp('2024-04-24 00:00:00'),\n",
       "       Timestamp('2024-04-25 00:00:00'), Timestamp('2024-04-26 00:00:00'),\n",
       "       Timestamp('2024-04-29 00:00:00'), Timestamp('2024-04-30 00:00:00'),\n",
       "       Timestamp('2024-05-01 00:00:00'), Timestamp('2024-05-02 00:00:00'),\n",
       "       Timestamp('2024-05-03 00:00:00'), Timestamp('2024-05-06 00:00:00'),\n",
       "       Timestamp('2024-05-07 00:00:00'), Timestamp('2024-05-08 00:00:00'),\n",
       "       Timestamp('2024-05-09 00:00:00'), Timestamp('2024-05-10 00:00:00'),\n",
       "       Timestamp('2024-05-13 00:00:00'), Timestamp('2024-05-14 00:00:00'),\n",
       "       Timestamp('2024-05-15 00:00:00'), Timestamp('2024-05-16 00:00:00'),\n",
       "       Timestamp('2024-05-17 00:00:00'), Timestamp('2024-05-20 00:00:00'),\n",
       "       Timestamp('2024-05-21 00:00:00'), Timestamp('2024-05-22 00:00:00'),\n",
       "       Timestamp('2024-05-23 00:00:00'), Timestamp('2024-05-24 00:00:00'),\n",
       "       Timestamp('2024-05-28 00:00:00'), Timestamp('2024-05-29 00:00:00'),\n",
       "       Timestamp('2024-05-30 00:00:00'), Timestamp('2024-05-31 00:00:00'),\n",
       "       Timestamp('2024-06-03 00:00:00'), Timestamp('2024-06-04 00:00:00'),\n",
       "       Timestamp('2024-06-05 00:00:00'), Timestamp('2024-06-06 00:00:00')],\n",
       "      dtype=object)"
      ]
     },
     "execution_count": 28,
     "metadata": {},
     "output_type": "execute_result"
    }
   ],
   "source": [
    "dates_test"
   ]
  },
  {
   "cell_type": "code",
   "execution_count": 29,
   "metadata": {},
   "outputs": [
    {
     "data": {
      "text/plain": [
       "array([174.7905 , 173.01974, 170.17642, 168.21469, 166.86404, 165.01862,\n",
       "       165.24228, 165.83525, 167.6945 , 168.7915 , 168.76572, 171.98227,\n",
       "       170.07321, 169.42517, 171.68764, 179.72697, 180.46486, 181.8893 ,\n",
       "       182.05301, 183.47177, 182.65791, 184.91794, 185.95695, 187.91492,\n",
       "       188.36116, 188.59174, 189.34935, 190.2905 , 189.62656, 186.94073,\n",
       "       188.42697, 188.43832, 188.8995 , 189.56479, 190.29114, 191.53847,\n",
       "       191.98093, 193.01031], dtype=float32)"
      ]
     },
     "execution_count": 29,
     "metadata": {},
     "output_type": "execute_result"
    }
   ],
   "source": [
    "test_predictions"
   ]
  },
  {
   "cell_type": "code",
   "execution_count": 30,
   "metadata": {},
   "outputs": [
    {
     "data": {
      "text/html": [
       "<div>\n",
       "<style scoped>\n",
       "    .dataframe tbody tr th:only-of-type {\n",
       "        vertical-align: middle;\n",
       "    }\n",
       "\n",
       "    .dataframe tbody tr th {\n",
       "        vertical-align: top;\n",
       "    }\n",
       "\n",
       "    .dataframe thead th {\n",
       "        text-align: right;\n",
       "    }\n",
       "</style>\n",
       "<table border=\"1\" class=\"dataframe\">\n",
       "  <thead>\n",
       "    <tr style=\"text-align: right;\">\n",
       "      <th></th>\n",
       "      <th>Close</th>\n",
       "    </tr>\n",
       "    <tr>\n",
       "      <th>Date</th>\n",
       "      <th></th>\n",
       "    </tr>\n",
       "  </thead>\n",
       "  <tbody>\n",
       "    <tr>\n",
       "      <th>2022-12-01</th>\n",
       "      <td>148.309998</td>\n",
       "    </tr>\n",
       "    <tr>\n",
       "      <th>2022-12-02</th>\n",
       "      <td>147.809998</td>\n",
       "    </tr>\n",
       "    <tr>\n",
       "      <th>2022-12-05</th>\n",
       "      <td>146.630005</td>\n",
       "    </tr>\n",
       "    <tr>\n",
       "      <th>2022-12-06</th>\n",
       "      <td>142.910004</td>\n",
       "    </tr>\n",
       "    <tr>\n",
       "      <th>2022-12-07</th>\n",
       "      <td>140.940002</td>\n",
       "    </tr>\n",
       "    <tr>\n",
       "      <th>...</th>\n",
       "      <td>...</td>\n",
       "    </tr>\n",
       "    <tr>\n",
       "      <th>2024-06-04</th>\n",
       "      <td>194.350006</td>\n",
       "    </tr>\n",
       "    <tr>\n",
       "      <th>2024-06-05</th>\n",
       "      <td>195.869995</td>\n",
       "    </tr>\n",
       "    <tr>\n",
       "      <th>2024-06-06</th>\n",
       "      <td>194.479996</td>\n",
       "    </tr>\n",
       "    <tr>\n",
       "      <th>2024-06-07</th>\n",
       "      <td>196.889999</td>\n",
       "    </tr>\n",
       "    <tr>\n",
       "      <th>2024-06-10</th>\n",
       "      <td>195.500000</td>\n",
       "    </tr>\n",
       "  </tbody>\n",
       "</table>\n",
       "<p>382 rows × 1 columns</p>\n",
       "</div>"
      ],
      "text/plain": [
       "                 Close\n",
       "Date                  \n",
       "2022-12-01  148.309998\n",
       "2022-12-02  147.809998\n",
       "2022-12-05  146.630005\n",
       "2022-12-06  142.910004\n",
       "2022-12-07  140.940002\n",
       "...                ...\n",
       "2024-06-04  194.350006\n",
       "2024-06-05  195.869995\n",
       "2024-06-06  194.479996\n",
       "2024-06-07  196.889999\n",
       "2024-06-10  195.500000\n",
       "\n",
       "[382 rows x 1 columns]"
      ]
     },
     "execution_count": 30,
     "metadata": {},
     "output_type": "execute_result"
    }
   ],
   "source": [
    "df"
   ]
  },
  {
   "cell_type": "code",
   "execution_count": 31,
   "metadata": {},
   "outputs": [
    {
     "data": {
      "text/plain": [
       "374    194.350006\n",
       "375    195.869995\n",
       "376    194.479996\n",
       "Name: Target, dtype: float64"
      ]
     },
     "execution_count": 31,
     "metadata": {},
     "output_type": "execute_result"
    }
   ],
   "source": [
    "req = windowed_df.tail(3)\n",
    "req['Target']"
   ]
  },
  {
   "cell_type": "code",
   "execution_count": 32,
   "metadata": {},
   "outputs": [],
   "source": [
    "inp = tuple(req['Target'])"
   ]
  },
  {
   "cell_type": "code",
   "execution_count": 33,
   "metadata": {},
   "outputs": [
    {
     "data": {
      "text/plain": [
       "(194.350006, 195.869995, 194.479996)"
      ]
     },
     "execution_count": 33,
     "metadata": {},
     "output_type": "execute_result"
    }
   ],
   "source": [
    "inp"
   ]
  },
  {
   "cell_type": "code",
   "execution_count": 34,
   "metadata": {},
   "outputs": [
    {
     "name": "stdout",
     "output_type": "stream",
     "text": [
      "1/1 [==============================] - 0s 42ms/step\n"
     ]
    }
   ],
   "source": [
    "npin = np.asarray(inp)\n",
    "rs = npin.reshape(1, -1)\n",
    "stk_pred = model.predict(rs)"
   ]
  },
  {
   "cell_type": "code",
   "execution_count": 35,
   "metadata": {},
   "outputs": [
    {
     "data": {
      "text/plain": [
       "array([[192.39044]], dtype=float32)"
      ]
     },
     "execution_count": 35,
     "metadata": {},
     "output_type": "execute_result"
    }
   ],
   "source": [
    "stk_pred"
   ]
  },
  {
   "cell_type": "code",
   "execution_count": 36,
   "metadata": {},
   "outputs": [],
   "source": [
    "today = float(stk_pred)"
   ]
  },
  {
   "cell_type": "code",
   "execution_count": 37,
   "metadata": {},
   "outputs": [
    {
     "data": {
      "text/plain": [
       "192.39044189453125"
      ]
     },
     "execution_count": 37,
     "metadata": {},
     "output_type": "execute_result"
    }
   ],
   "source": [
    "today"
   ]
  },
  {
   "cell_type": "code",
   "execution_count": 38,
   "metadata": {},
   "outputs": [],
   "source": [
    "req1 = windowed_df.tail(2)\n",
    "tom = list(req1['Target'])"
   ]
  },
  {
   "cell_type": "code",
   "execution_count": 39,
   "metadata": {},
   "outputs": [],
   "source": [
    "tom = tom + [today,]"
   ]
  },
  {
   "cell_type": "code",
   "execution_count": 40,
   "metadata": {},
   "outputs": [
    {
     "data": {
      "text/plain": [
       "[195.869995, 194.479996, 192.39044189453125]"
      ]
     },
     "execution_count": 40,
     "metadata": {},
     "output_type": "execute_result"
    }
   ],
   "source": [
    "tom"
   ]
  },
  {
   "cell_type": "code",
   "execution_count": 41,
   "metadata": {},
   "outputs": [],
   "source": [
    "tom1 = tuple(tom)"
   ]
  },
  {
   "cell_type": "code",
   "execution_count": 42,
   "metadata": {},
   "outputs": [
    {
     "data": {
      "text/plain": [
       "(195.869995, 194.479996, 192.39044189453125)"
      ]
     },
     "execution_count": 42,
     "metadata": {},
     "output_type": "execute_result"
    }
   ],
   "source": [
    "tom1"
   ]
  },
  {
   "cell_type": "code",
   "execution_count": 43,
   "metadata": {},
   "outputs": [
    {
     "name": "stdout",
     "output_type": "stream",
     "text": [
      "1/1 [==============================] - 0s 22ms/step\n"
     ]
    }
   ],
   "source": [
    "npin = np.asarray(tom1)\n",
    "rs = npin.reshape(1, -1)\n",
    "tom_pred = model.predict(rs)"
   ]
  },
  {
   "cell_type": "code",
   "execution_count": 44,
   "metadata": {},
   "outputs": [
    {
     "data": {
      "text/plain": [
       "array([[191.13011]], dtype=float32)"
      ]
     },
     "execution_count": 44,
     "metadata": {},
     "output_type": "execute_result"
    }
   ],
   "source": [
    "tom_pred"
   ]
  }
 ],
 "metadata": {
  "kernelspec": {
   "display_name": "Python 3",
   "language": "python",
   "name": "python3"
  },
  "language_info": {
   "codemirror_mode": {
    "name": "ipython",
    "version": 3
   },
   "file_extension": ".py",
   "mimetype": "text/x-python",
   "name": "python",
   "nbconvert_exporter": "python",
   "pygments_lexer": "ipython3",
   "version": "3.10.9"
  },
  "orig_nbformat": 4
 },
 "nbformat": 4,
 "nbformat_minor": 2
}
