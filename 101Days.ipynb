{
 "cells": [
  {
   "cell_type": "code",
   "execution_count": 31,
   "metadata": {},
   "outputs": [],
   "source": [
    "import time\n",
    "import datetime\n",
    "import pandas as pd\n",
    "import matplotlib.pyplot as plt\n",
    "import numpy as np\n",
    "import tensorflow as tf\n",
    "from tensorflow import keras\n",
    "from sklearn.metrics import mean_squared_error, mean_absolute_error"
   ]
  },
  {
   "cell_type": "code",
   "execution_count": 32,
   "metadata": {},
   "outputs": [],
   "source": [
    "# Set the ticker and period\n",
    "ticker = 'AMZN'\n",
    "period1 = int(time.mktime(datetime.datetime(2022, 1, 1, 23, 59).timetuple()))\n",
    "period2 = int(time.mktime(datetime.datetime.now().timetuple()))\n",
    "interval = '1d'"
   ]
  },
  {
   "cell_type": "code",
   "execution_count": 33,
   "metadata": {},
   "outputs": [],
   "source": [
    "# Fetch the data\n",
    "query_string = f'https://query1.finance.yahoo.com/v7/finance/download/{ticker}?period1={period1}&period2={period2}&interval={interval}&events=history&includeAdjustedClose=true'\n",
    "df = pd.read_csv(query_string)"
   ]
  },
  {
   "cell_type": "code",
   "execution_count": 34,
   "metadata": {},
   "outputs": [],
   "source": [
    "# Convert Date column to datetime\n",
    "def str_to_datetime(s):\n",
    "    split = s.split('-')\n",
    "    year, month, day = int(split[0]), int(split[1]), int(split[2])\n",
    "    return datetime.datetime(year=year, month=month, day=day)"
   ]
  },
  {
   "cell_type": "code",
   "execution_count": 35,
   "metadata": {},
   "outputs": [],
   "source": [
    "df['Date'] = df['Date'].apply(str_to_datetime)\n",
    "df.index = df.pop('Date')"
   ]
  },
  {
   "cell_type": "code",
   "execution_count": 36,
   "metadata": {},
   "outputs": [],
   "source": [
    "# Adjust the initial date to be 101 days after the first date\n",
    "dt = df.index[101]\n",
    "curr = (datetime.datetime.now() - datetime.timedelta(days=4)).strftime('%Y-%m-%d')"
   ]
  },
  {
   "cell_type": "code",
   "execution_count": 37,
   "metadata": {},
   "outputs": [
    {
     "name": "stderr",
     "output_type": "stream",
     "text": [
      "C:\\Users\\acer\\AppData\\Local\\Temp\\ipykernel_19508\\3385289352.py:47: PerformanceWarning: DataFrame is highly fragmented.  This is usually the result of calling `frame.insert` many times, which has poor performance.  Consider joining all columns at once using pd.concat(axis=1) instead. To get a de-fragmented frame, use `newframe = frame.copy()`\n",
      "  ret_df[f'Target-{n-i}'] = X[:, i]\n",
      "C:\\Users\\acer\\AppData\\Local\\Temp\\ipykernel_19508\\3385289352.py:49: PerformanceWarning: DataFrame is highly fragmented.  This is usually the result of calling `frame.insert` many times, which has poor performance.  Consider joining all columns at once using pd.concat(axis=1) instead. To get a de-fragmented frame, use `newframe = frame.copy()`\n",
      "  ret_df['Target'] = Y\n"
     ]
    },
    {
     "data": {
      "text/html": [
       "<div>\n",
       "<style scoped>\n",
       "    .dataframe tbody tr th:only-of-type {\n",
       "        vertical-align: middle;\n",
       "    }\n",
       "\n",
       "    .dataframe tbody tr th {\n",
       "        vertical-align: top;\n",
       "    }\n",
       "\n",
       "    .dataframe thead th {\n",
       "        text-align: right;\n",
       "    }\n",
       "</style>\n",
       "<table border=\"1\" class=\"dataframe\">\n",
       "  <thead>\n",
       "    <tr style=\"text-align: right;\">\n",
       "      <th></th>\n",
       "      <th>Target Date</th>\n",
       "      <th>Target-100</th>\n",
       "      <th>Target-99</th>\n",
       "      <th>Target-98</th>\n",
       "      <th>Target-97</th>\n",
       "      <th>Target-96</th>\n",
       "      <th>Target-95</th>\n",
       "      <th>Target-94</th>\n",
       "      <th>Target-93</th>\n",
       "      <th>Target-92</th>\n",
       "      <th>...</th>\n",
       "      <th>Target-9</th>\n",
       "      <th>Target-8</th>\n",
       "      <th>Target-7</th>\n",
       "      <th>Target-6</th>\n",
       "      <th>Target-5</th>\n",
       "      <th>Target-4</th>\n",
       "      <th>Target-3</th>\n",
       "      <th>Target-2</th>\n",
       "      <th>Target-1</th>\n",
       "      <th>Target</th>\n",
       "    </tr>\n",
       "  </thead>\n",
       "  <tbody>\n",
       "    <tr>\n",
       "      <th>0</th>\n",
       "      <td>2022-05-27</td>\n",
       "      <td>167.522003</td>\n",
       "      <td>164.356995</td>\n",
       "      <td>163.253998</td>\n",
       "      <td>162.554001</td>\n",
       "      <td>161.485992</td>\n",
       "      <td>165.362000</td>\n",
       "      <td>165.207001</td>\n",
       "      <td>161.214005</td>\n",
       "      <td>162.138000</td>\n",
       "      <td>...</td>\n",
       "      <td>110.810501</td>\n",
       "      <td>115.368500</td>\n",
       "      <td>107.112503</td>\n",
       "      <td>107.319000</td>\n",
       "      <td>107.591003</td>\n",
       "      <td>107.556999</td>\n",
       "      <td>104.099998</td>\n",
       "      <td>106.775002</td>\n",
       "      <td>111.077499</td>\n",
       "      <td>115.146500</td>\n",
       "    </tr>\n",
       "    <tr>\n",
       "      <th>1</th>\n",
       "      <td>2022-05-31</td>\n",
       "      <td>164.356995</td>\n",
       "      <td>163.253998</td>\n",
       "      <td>162.554001</td>\n",
       "      <td>161.485992</td>\n",
       "      <td>165.362000</td>\n",
       "      <td>165.207001</td>\n",
       "      <td>161.214005</td>\n",
       "      <td>162.138000</td>\n",
       "      <td>158.917496</td>\n",
       "      <td>...</td>\n",
       "      <td>115.368500</td>\n",
       "      <td>107.112503</td>\n",
       "      <td>107.319000</td>\n",
       "      <td>107.591003</td>\n",
       "      <td>107.556999</td>\n",
       "      <td>104.099998</td>\n",
       "      <td>106.775002</td>\n",
       "      <td>111.077499</td>\n",
       "      <td>115.146500</td>\n",
       "      <td>120.209503</td>\n",
       "    </tr>\n",
       "    <tr>\n",
       "      <th>2</th>\n",
       "      <td>2022-06-01</td>\n",
       "      <td>163.253998</td>\n",
       "      <td>162.554001</td>\n",
       "      <td>161.485992</td>\n",
       "      <td>165.362000</td>\n",
       "      <td>165.207001</td>\n",
       "      <td>161.214005</td>\n",
       "      <td>162.138000</td>\n",
       "      <td>158.917496</td>\n",
       "      <td>156.298996</td>\n",
       "      <td>...</td>\n",
       "      <td>107.112503</td>\n",
       "      <td>107.319000</td>\n",
       "      <td>107.591003</td>\n",
       "      <td>107.556999</td>\n",
       "      <td>104.099998</td>\n",
       "      <td>106.775002</td>\n",
       "      <td>111.077499</td>\n",
       "      <td>115.146500</td>\n",
       "      <td>120.209503</td>\n",
       "      <td>121.683998</td>\n",
       "    </tr>\n",
       "    <tr>\n",
       "      <th>3</th>\n",
       "      <td>2022-06-02</td>\n",
       "      <td>162.554001</td>\n",
       "      <td>161.485992</td>\n",
       "      <td>165.362000</td>\n",
       "      <td>165.207001</td>\n",
       "      <td>161.214005</td>\n",
       "      <td>162.138000</td>\n",
       "      <td>158.917496</td>\n",
       "      <td>156.298996</td>\n",
       "      <td>151.667496</td>\n",
       "      <td>...</td>\n",
       "      <td>107.319000</td>\n",
       "      <td>107.591003</td>\n",
       "      <td>107.556999</td>\n",
       "      <td>104.099998</td>\n",
       "      <td>106.775002</td>\n",
       "      <td>111.077499</td>\n",
       "      <td>115.146500</td>\n",
       "      <td>120.209503</td>\n",
       "      <td>121.683998</td>\n",
       "      <td>125.511002</td>\n",
       "    </tr>\n",
       "    <tr>\n",
       "      <th>4</th>\n",
       "      <td>2022-06-03</td>\n",
       "      <td>161.485992</td>\n",
       "      <td>165.362000</td>\n",
       "      <td>165.207001</td>\n",
       "      <td>161.214005</td>\n",
       "      <td>162.138000</td>\n",
       "      <td>158.917496</td>\n",
       "      <td>156.298996</td>\n",
       "      <td>151.667496</td>\n",
       "      <td>142.643005</td>\n",
       "      <td>...</td>\n",
       "      <td>107.591003</td>\n",
       "      <td>107.556999</td>\n",
       "      <td>104.099998</td>\n",
       "      <td>106.775002</td>\n",
       "      <td>111.077499</td>\n",
       "      <td>115.146500</td>\n",
       "      <td>120.209503</td>\n",
       "      <td>121.683998</td>\n",
       "      <td>125.511002</td>\n",
       "      <td>122.349998</td>\n",
       "    </tr>\n",
       "    <tr>\n",
       "      <th>...</th>\n",
       "      <td>...</td>\n",
       "      <td>...</td>\n",
       "      <td>...</td>\n",
       "      <td>...</td>\n",
       "      <td>...</td>\n",
       "      <td>...</td>\n",
       "      <td>...</td>\n",
       "      <td>...</td>\n",
       "      <td>...</td>\n",
       "      <td>...</td>\n",
       "      <td>...</td>\n",
       "      <td>...</td>\n",
       "      <td>...</td>\n",
       "      <td>...</td>\n",
       "      <td>...</td>\n",
       "      <td>...</td>\n",
       "      <td>...</td>\n",
       "      <td>...</td>\n",
       "      <td>...</td>\n",
       "      <td>...</td>\n",
       "      <td>...</td>\n",
       "    </tr>\n",
       "    <tr>\n",
       "      <th>496</th>\n",
       "      <td>2024-05-20</td>\n",
       "      <td>153.410004</td>\n",
       "      <td>153.339996</td>\n",
       "      <td>153.380005</td>\n",
       "      <td>151.940002</td>\n",
       "      <td>149.929993</td>\n",
       "      <td>148.470001</td>\n",
       "      <td>144.570007</td>\n",
       "      <td>145.240005</td>\n",
       "      <td>149.100006</td>\n",
       "      <td>...</td>\n",
       "      <td>188.759995</td>\n",
       "      <td>188.000000</td>\n",
       "      <td>189.500000</td>\n",
       "      <td>187.479996</td>\n",
       "      <td>186.570007</td>\n",
       "      <td>187.070007</td>\n",
       "      <td>185.990005</td>\n",
       "      <td>183.630005</td>\n",
       "      <td>184.699997</td>\n",
       "      <td>183.539993</td>\n",
       "    </tr>\n",
       "    <tr>\n",
       "      <th>497</th>\n",
       "      <td>2024-05-21</td>\n",
       "      <td>153.339996</td>\n",
       "      <td>153.380005</td>\n",
       "      <td>151.940002</td>\n",
       "      <td>149.929993</td>\n",
       "      <td>148.470001</td>\n",
       "      <td>144.570007</td>\n",
       "      <td>145.240005</td>\n",
       "      <td>149.100006</td>\n",
       "      <td>151.369995</td>\n",
       "      <td>...</td>\n",
       "      <td>188.000000</td>\n",
       "      <td>189.500000</td>\n",
       "      <td>187.479996</td>\n",
       "      <td>186.570007</td>\n",
       "      <td>187.070007</td>\n",
       "      <td>185.990005</td>\n",
       "      <td>183.630005</td>\n",
       "      <td>184.699997</td>\n",
       "      <td>183.539993</td>\n",
       "      <td>183.149994</td>\n",
       "    </tr>\n",
       "    <tr>\n",
       "      <th>498</th>\n",
       "      <td>2024-05-22</td>\n",
       "      <td>153.380005</td>\n",
       "      <td>151.940002</td>\n",
       "      <td>149.929993</td>\n",
       "      <td>148.470001</td>\n",
       "      <td>144.570007</td>\n",
       "      <td>145.240005</td>\n",
       "      <td>149.100006</td>\n",
       "      <td>151.369995</td>\n",
       "      <td>153.729996</td>\n",
       "      <td>...</td>\n",
       "      <td>189.500000</td>\n",
       "      <td>187.479996</td>\n",
       "      <td>186.570007</td>\n",
       "      <td>187.070007</td>\n",
       "      <td>185.990005</td>\n",
       "      <td>183.630005</td>\n",
       "      <td>184.699997</td>\n",
       "      <td>183.539993</td>\n",
       "      <td>183.149994</td>\n",
       "      <td>183.130005</td>\n",
       "    </tr>\n",
       "    <tr>\n",
       "      <th>499</th>\n",
       "      <td>2024-05-23</td>\n",
       "      <td>151.940002</td>\n",
       "      <td>149.929993</td>\n",
       "      <td>148.470001</td>\n",
       "      <td>144.570007</td>\n",
       "      <td>145.240005</td>\n",
       "      <td>149.100006</td>\n",
       "      <td>151.369995</td>\n",
       "      <td>153.729996</td>\n",
       "      <td>155.179993</td>\n",
       "      <td>...</td>\n",
       "      <td>187.479996</td>\n",
       "      <td>186.570007</td>\n",
       "      <td>187.070007</td>\n",
       "      <td>185.990005</td>\n",
       "      <td>183.630005</td>\n",
       "      <td>184.699997</td>\n",
       "      <td>183.539993</td>\n",
       "      <td>183.149994</td>\n",
       "      <td>183.130005</td>\n",
       "      <td>181.050003</td>\n",
       "    </tr>\n",
       "    <tr>\n",
       "      <th>500</th>\n",
       "      <td>2024-05-24</td>\n",
       "      <td>149.929993</td>\n",
       "      <td>148.470001</td>\n",
       "      <td>144.570007</td>\n",
       "      <td>145.240005</td>\n",
       "      <td>149.100006</td>\n",
       "      <td>151.369995</td>\n",
       "      <td>153.729996</td>\n",
       "      <td>155.179993</td>\n",
       "      <td>154.619995</td>\n",
       "      <td>...</td>\n",
       "      <td>186.570007</td>\n",
       "      <td>187.070007</td>\n",
       "      <td>185.990005</td>\n",
       "      <td>183.630005</td>\n",
       "      <td>184.699997</td>\n",
       "      <td>183.539993</td>\n",
       "      <td>183.149994</td>\n",
       "      <td>183.130005</td>\n",
       "      <td>181.050003</td>\n",
       "      <td>180.750000</td>\n",
       "    </tr>\n",
       "  </tbody>\n",
       "</table>\n",
       "<p>501 rows × 102 columns</p>\n",
       "</div>"
      ],
      "text/plain": [
       "    Target Date  Target-100   Target-99   Target-98   Target-97   Target-96  \\\n",
       "0    2022-05-27  167.522003  164.356995  163.253998  162.554001  161.485992   \n",
       "1    2022-05-31  164.356995  163.253998  162.554001  161.485992  165.362000   \n",
       "2    2022-06-01  163.253998  162.554001  161.485992  165.362000  165.207001   \n",
       "3    2022-06-02  162.554001  161.485992  165.362000  165.207001  161.214005   \n",
       "4    2022-06-03  161.485992  165.362000  165.207001  161.214005  162.138000   \n",
       "..          ...         ...         ...         ...         ...         ...   \n",
       "496  2024-05-20  153.410004  153.339996  153.380005  151.940002  149.929993   \n",
       "497  2024-05-21  153.339996  153.380005  151.940002  149.929993  148.470001   \n",
       "498  2024-05-22  153.380005  151.940002  149.929993  148.470001  144.570007   \n",
       "499  2024-05-23  151.940002  149.929993  148.470001  144.570007  145.240005   \n",
       "500  2024-05-24  149.929993  148.470001  144.570007  145.240005  149.100006   \n",
       "\n",
       "      Target-95   Target-94   Target-93   Target-92  ...    Target-9  \\\n",
       "0    165.362000  165.207001  161.214005  162.138000  ...  110.810501   \n",
       "1    165.207001  161.214005  162.138000  158.917496  ...  115.368500   \n",
       "2    161.214005  162.138000  158.917496  156.298996  ...  107.112503   \n",
       "3    162.138000  158.917496  156.298996  151.667496  ...  107.319000   \n",
       "4    158.917496  156.298996  151.667496  142.643005  ...  107.591003   \n",
       "..          ...         ...         ...         ...  ...         ...   \n",
       "496  148.470001  144.570007  145.240005  149.100006  ...  188.759995   \n",
       "497  144.570007  145.240005  149.100006  151.369995  ...  188.000000   \n",
       "498  145.240005  149.100006  151.369995  153.729996  ...  189.500000   \n",
       "499  149.100006  151.369995  153.729996  155.179993  ...  187.479996   \n",
       "500  151.369995  153.729996  155.179993  154.619995  ...  186.570007   \n",
       "\n",
       "       Target-8    Target-7    Target-6    Target-5    Target-4    Target-3  \\\n",
       "0    115.368500  107.112503  107.319000  107.591003  107.556999  104.099998   \n",
       "1    107.112503  107.319000  107.591003  107.556999  104.099998  106.775002   \n",
       "2    107.319000  107.591003  107.556999  104.099998  106.775002  111.077499   \n",
       "3    107.591003  107.556999  104.099998  106.775002  111.077499  115.146500   \n",
       "4    107.556999  104.099998  106.775002  111.077499  115.146500  120.209503   \n",
       "..          ...         ...         ...         ...         ...         ...   \n",
       "496  188.000000  189.500000  187.479996  186.570007  187.070007  185.990005   \n",
       "497  189.500000  187.479996  186.570007  187.070007  185.990005  183.630005   \n",
       "498  187.479996  186.570007  187.070007  185.990005  183.630005  184.699997   \n",
       "499  186.570007  187.070007  185.990005  183.630005  184.699997  183.539993   \n",
       "500  187.070007  185.990005  183.630005  184.699997  183.539993  183.149994   \n",
       "\n",
       "       Target-2    Target-1      Target  \n",
       "0    106.775002  111.077499  115.146500  \n",
       "1    111.077499  115.146500  120.209503  \n",
       "2    115.146500  120.209503  121.683998  \n",
       "3    120.209503  121.683998  125.511002  \n",
       "4    121.683998  125.511002  122.349998  \n",
       "..          ...         ...         ...  \n",
       "496  183.630005  184.699997  183.539993  \n",
       "497  184.699997  183.539993  183.149994  \n",
       "498  183.539993  183.149994  183.130005  \n",
       "499  183.149994  183.130005  181.050003  \n",
       "500  183.130005  181.050003  180.750000  \n",
       "\n",
       "[501 rows x 102 columns]"
      ]
     },
     "execution_count": 37,
     "metadata": {},
     "output_type": "execute_result"
    }
   ],
   "source": [
    "# Adjust the window size to 100 days\n",
    "def df_to_windowed_df(dataframe, first_date_str, last_date_str, n=100):\n",
    "    first_date = str_to_datetime(first_date_str)\n",
    "    last_date  = str_to_datetime(last_date_str)\n",
    "\n",
    "    target_date = first_date\n",
    "\n",
    "    dates = []\n",
    "    X, Y = [], []\n",
    "\n",
    "    last_time = False\n",
    "    while True:\n",
    "        df_subset = dataframe.loc[:target_date].tail(n+1)\n",
    "\n",
    "        if len(df_subset) != n+1:\n",
    "            print(f'Error: Window of size {n} is too large for date {target_date}')\n",
    "            return\n",
    "\n",
    "        values = df_subset['Close'].to_numpy()\n",
    "        x, y = values[:-1], values[-1]\n",
    "\n",
    "        dates.append(target_date)\n",
    "        X.append(x)\n",
    "        Y.append(y)\n",
    "\n",
    "        next_week = dataframe.loc[target_date:target_date+datetime.timedelta(days=7)]\n",
    "        next_datetime_str = str(next_week.head(2).tail(1).index.values[0])\n",
    "        next_date_str = next_datetime_str.split('T')[0]\n",
    "        year_month_day = next_date_str.split('-')\n",
    "        year, month, day = year_month_day\n",
    "        next_date = datetime.datetime(day=int(day), month=int(month), year=int(year))\n",
    "\n",
    "        if last_time:\n",
    "            break\n",
    "\n",
    "        target_date = next_date\n",
    "\n",
    "        if target_date == last_date:\n",
    "            last_time = True\n",
    "\n",
    "    ret_df = pd.DataFrame({})\n",
    "    ret_df['Target Date'] = dates\n",
    "\n",
    "    X = np.array(X)\n",
    "    for i in range(0, n):\n",
    "        X[:, i]\n",
    "        ret_df[f'Target-{n-i}'] = X[:, i]\n",
    "\n",
    "    ret_df['Target'] = Y\n",
    "\n",
    "    return ret_df\n",
    "\n",
    "# Get the windowed dataframe\n",
    "windowed_df = df_to_windowed_df(df, dt.strftime('%Y-%m-%d'), curr, n=100)\n",
    "windowed_df"
   ]
  },
  {
   "cell_type": "code",
   "execution_count": 38,
   "metadata": {},
   "outputs": [
    {
     "data": {
      "text/plain": [
       "((501,), (501, 100), (501,))"
      ]
     },
     "execution_count": 38,
     "metadata": {},
     "output_type": "execute_result"
    }
   ],
   "source": [
    "# Convert windowed dataframe to dates, X, and y\n",
    "def windowed_df_to_date_X_y(windowed_dataframe):\n",
    "    df_as_np = windowed_dataframe.to_numpy()\n",
    "\n",
    "    dates = df_as_np[:, 0]\n",
    "\n",
    "    middle_matrix = df_as_np[:, 1:-1]\n",
    "    X = middle_matrix.reshape((len(dates), middle_matrix.shape[1]))\n",
    "\n",
    "    Y = df_as_np[:, -1]\n",
    "\n",
    "    return dates, X.astype(np.float32), Y.astype(np.float32)\n",
    "\n",
    "dates, X, y = windowed_df_to_date_X_y(windowed_df)\n",
    "dates.shape, X.shape, y.shape"
   ]
  },
  {
   "cell_type": "code",
   "execution_count": 39,
   "metadata": {},
   "outputs": [],
   "source": [
    "# Split the data into train, validation, and test sets\n",
    "q_80 = int(len(dates) * .8)\n",
    "q_90 = int(len(dates) * .9)\n",
    "\n",
    "dates_train, X_train, y_train = dates[:q_80], X[:q_80], y[:q_80]\n",
    "dates_val, X_val, y_val = dates[q_80:q_90], X[q_80:q_90], y[q_80:q_90]\n",
    "dates_test, X_test, y_test = dates[q_90:], X[q_90:], y[q_90:]"
   ]
  },
  {
   "cell_type": "code",
   "execution_count": 40,
   "metadata": {},
   "outputs": [
    {
     "name": "stdout",
     "output_type": "stream",
     "text": [
      "Epoch 1/100\n",
      "13/13 [==============================] - 15s 414ms/step - loss: 14242.4883 - mean_absolute_error: 117.8924 - val_loss: 26868.3906 - val_mean_absolute_error: 163.6032\n",
      "Epoch 2/100\n",
      "13/13 [==============================] - 1s 91ms/step - loss: 13915.2002 - mean_absolute_error: 116.4939 - val_loss: 26295.3379 - val_mean_absolute_error: 161.8423\n",
      "Epoch 3/100\n",
      "13/13 [==============================] - 1s 86ms/step - loss: 13313.1299 - mean_absolute_error: 113.8631 - val_loss: 25049.3008 - val_mean_absolute_error: 157.9448\n",
      "Epoch 4/100\n",
      "13/13 [==============================] - 2s 161ms/step - loss: 11965.8203 - mean_absolute_error: 107.7669 - val_loss: 22347.1133 - val_mean_absolute_error: 149.1454\n",
      "Epoch 5/100\n",
      "13/13 [==============================] - 2s 121ms/step - loss: 9534.2559 - mean_absolute_error: 95.6813 - val_loss: 18015.4023 - val_mean_absolute_error: 133.8279\n",
      "Epoch 6/100\n",
      "13/13 [==============================] - 1s 116ms/step - loss: 6019.6064 - mean_absolute_error: 74.8195 - val_loss: 11590.7500 - val_mean_absolute_error: 107.1723\n",
      "Epoch 7/100\n",
      "13/13 [==============================] - 1s 93ms/step - loss: 2352.6348 - mean_absolute_error: 43.5457 - val_loss: 5277.4287 - val_mean_absolute_error: 71.9134\n",
      "Epoch 8/100\n",
      "13/13 [==============================] - 1s 67ms/step - loss: 531.8981 - mean_absolute_error: 19.2603 - val_loss: 1787.2990 - val_mean_absolute_error: 41.0374\n",
      "Epoch 9/100\n",
      "13/13 [==============================] - 1s 56ms/step - loss: 396.5796 - mean_absolute_error: 16.5251 - val_loss: 1880.2991 - val_mean_absolute_error: 42.1684\n",
      "Epoch 10/100\n",
      "13/13 [==============================] - 1s 54ms/step - loss: 348.4278 - mean_absolute_error: 16.0574 - val_loss: 2381.4331 - val_mean_absolute_error: 47.7539\n",
      "Epoch 11/100\n",
      "13/13 [==============================] - 1s 58ms/step - loss: 340.3552 - mean_absolute_error: 16.0346 - val_loss: 2339.5923 - val_mean_absolute_error: 47.3079\n",
      "Epoch 12/100\n",
      "13/13 [==============================] - 1s 55ms/step - loss: 333.0517 - mean_absolute_error: 15.8582 - val_loss: 2150.4768 - val_mean_absolute_error: 45.2691\n",
      "Epoch 13/100\n",
      "13/13 [==============================] - 1s 84ms/step - loss: 326.3693 - mean_absolute_error: 15.6184 - val_loss: 2150.2944 - val_mean_absolute_error: 45.2736\n",
      "Epoch 14/100\n",
      "13/13 [==============================] - 1s 91ms/step - loss: 312.2285 - mean_absolute_error: 15.3308 - val_loss: 2177.5535 - val_mean_absolute_error: 45.5720\n",
      "Epoch 15/100\n",
      "13/13 [==============================] - 1s 86ms/step - loss: 268.5049 - mean_absolute_error: 14.2152 - val_loss: 1986.3799 - val_mean_absolute_error: 43.4937\n",
      "Epoch 16/100\n",
      "13/13 [==============================] - 1s 84ms/step - loss: 214.5014 - mean_absolute_error: 12.5893 - val_loss: 1631.1697 - val_mean_absolute_error: 39.2232\n",
      "Epoch 17/100\n",
      "13/13 [==============================] - 1s 98ms/step - loss: 163.6429 - mean_absolute_error: 10.9333 - val_loss: 1367.1572 - val_mean_absolute_error: 35.7562\n",
      "Epoch 18/100\n",
      "13/13 [==============================] - 1s 62ms/step - loss: 117.8631 - mean_absolute_error: 9.0709 - val_loss: 1150.1436 - val_mean_absolute_error: 32.5928\n",
      "Epoch 19/100\n",
      "13/13 [==============================] - 1s 66ms/step - loss: 80.1695 - mean_absolute_error: 7.3827 - val_loss: 1012.5314 - val_mean_absolute_error: 30.4681\n",
      "Epoch 20/100\n",
      "13/13 [==============================] - 1s 84ms/step - loss: 50.5779 - mean_absolute_error: 5.6495 - val_loss: 816.3781 - val_mean_absolute_error: 27.0039\n",
      "Epoch 21/100\n",
      "13/13 [==============================] - 1s 70ms/step - loss: 31.9846 - mean_absolute_error: 4.3799 - val_loss: 676.3275 - val_mean_absolute_error: 24.3021\n",
      "Epoch 22/100\n",
      "13/13 [==============================] - 1s 86ms/step - loss: 22.1520 - mean_absolute_error: 3.6940 - val_loss: 594.1656 - val_mean_absolute_error: 22.5534\n",
      "Epoch 23/100\n",
      "13/13 [==============================] - 1s 63ms/step - loss: 17.8034 - mean_absolute_error: 3.2954 - val_loss: 514.2833 - val_mean_absolute_error: 20.7351\n",
      "Epoch 24/100\n",
      "13/13 [==============================] - 1s 46ms/step - loss: 13.7821 - mean_absolute_error: 2.8891 - val_loss: 454.3253 - val_mean_absolute_error: 19.1802\n",
      "Epoch 25/100\n",
      "13/13 [==============================] - 1s 50ms/step - loss: 13.5735 - mean_absolute_error: 2.8308 - val_loss: 418.4796 - val_mean_absolute_error: 18.3113\n",
      "Epoch 26/100\n",
      "13/13 [==============================] - 1s 54ms/step - loss: 11.9474 - mean_absolute_error: 2.7075 - val_loss: 397.7413 - val_mean_absolute_error: 17.8920\n",
      "Epoch 27/100\n",
      "13/13 [==============================] - 1s 49ms/step - loss: 11.4989 - mean_absolute_error: 2.6776 - val_loss: 355.6608 - val_mean_absolute_error: 16.5809\n",
      "Epoch 28/100\n",
      "13/13 [==============================] - 1s 48ms/step - loss: 11.2072 - mean_absolute_error: 2.5655 - val_loss: 337.5268 - val_mean_absolute_error: 16.1034\n",
      "Epoch 29/100\n",
      "13/13 [==============================] - 1s 53ms/step - loss: 10.4323 - mean_absolute_error: 2.4889 - val_loss: 318.2342 - val_mean_absolute_error: 15.5043\n",
      "Epoch 30/100\n",
      "13/13 [==============================] - 1s 53ms/step - loss: 10.2887 - mean_absolute_error: 2.4505 - val_loss: 315.1126 - val_mean_absolute_error: 15.5335\n",
      "Epoch 31/100\n",
      "13/13 [==============================] - 1s 58ms/step - loss: 9.9636 - mean_absolute_error: 2.4473 - val_loss: 293.0249 - val_mean_absolute_error: 14.7934\n",
      "Epoch 32/100\n",
      "13/13 [==============================] - 1s 47ms/step - loss: 12.2778 - mean_absolute_error: 2.7131 - val_loss: 304.6459 - val_mean_absolute_error: 15.3501\n",
      "Epoch 33/100\n",
      "13/13 [==============================] - 1s 44ms/step - loss: 13.2937 - mean_absolute_error: 2.9050 - val_loss: 285.3197 - val_mean_absolute_error: 14.6540\n",
      "Epoch 34/100\n",
      "13/13 [==============================] - 1s 47ms/step - loss: 9.5819 - mean_absolute_error: 2.3557 - val_loss: 277.7765 - val_mean_absolute_error: 14.3852\n",
      "Epoch 35/100\n",
      "13/13 [==============================] - 1s 43ms/step - loss: 8.9952 - mean_absolute_error: 2.2911 - val_loss: 264.3485 - val_mean_absolute_error: 13.9600\n",
      "Epoch 36/100\n",
      "13/13 [==============================] - 1s 52ms/step - loss: 8.9406 - mean_absolute_error: 2.2986 - val_loss: 253.2600 - val_mean_absolute_error: 13.5738\n",
      "Epoch 37/100\n",
      "13/13 [==============================] - 1s 70ms/step - loss: 8.9740 - mean_absolute_error: 2.3003 - val_loss: 251.2122 - val_mean_absolute_error: 13.5818\n",
      "Epoch 38/100\n",
      "13/13 [==============================] - 1s 82ms/step - loss: 9.2289 - mean_absolute_error: 2.3410 - val_loss: 240.6387 - val_mean_absolute_error: 13.1919\n",
      "Epoch 39/100\n",
      "13/13 [==============================] - 1s 79ms/step - loss: 8.7961 - mean_absolute_error: 2.2700 - val_loss: 235.0006 - val_mean_absolute_error: 12.9958\n",
      "Epoch 40/100\n",
      "13/13 [==============================] - 1s 60ms/step - loss: 9.0557 - mean_absolute_error: 2.2940 - val_loss: 232.7232 - val_mean_absolute_error: 12.9744\n",
      "Epoch 41/100\n",
      "13/13 [==============================] - 1s 73ms/step - loss: 8.9004 - mean_absolute_error: 2.2567 - val_loss: 221.3225 - val_mean_absolute_error: 12.5533\n",
      "Epoch 42/100\n",
      "13/13 [==============================] - 1s 57ms/step - loss: 9.2102 - mean_absolute_error: 2.3200 - val_loss: 221.4290 - val_mean_absolute_error: 12.5780\n",
      "Epoch 43/100\n",
      "13/13 [==============================] - 1s 75ms/step - loss: 8.7595 - mean_absolute_error: 2.2448 - val_loss: 212.7823 - val_mean_absolute_error: 12.2608\n",
      "Epoch 44/100\n",
      "13/13 [==============================] - 1s 90ms/step - loss: 9.0875 - mean_absolute_error: 2.2932 - val_loss: 214.6328 - val_mean_absolute_error: 12.3767\n",
      "Epoch 45/100\n",
      "13/13 [==============================] - 1s 64ms/step - loss: 9.2170 - mean_absolute_error: 2.3424 - val_loss: 208.0073 - val_mean_absolute_error: 12.1656\n",
      "Epoch 46/100\n",
      "13/13 [==============================] - 1s 50ms/step - loss: 10.3616 - mean_absolute_error: 2.4211 - val_loss: 211.5543 - val_mean_absolute_error: 12.3151\n",
      "Epoch 47/100\n",
      "13/13 [==============================] - 1s 49ms/step - loss: 9.0924 - mean_absolute_error: 2.2994 - val_loss: 205.7036 - val_mean_absolute_error: 12.0889\n",
      "Epoch 48/100\n",
      "13/13 [==============================] - 1s 52ms/step - loss: 9.3453 - mean_absolute_error: 2.3617 - val_loss: 203.2359 - val_mean_absolute_error: 11.9956\n",
      "Epoch 49/100\n",
      "13/13 [==============================] - 1s 52ms/step - loss: 8.7799 - mean_absolute_error: 2.2626 - val_loss: 198.4566 - val_mean_absolute_error: 11.8236\n",
      "Epoch 50/100\n",
      "13/13 [==============================] - 1s 54ms/step - loss: 8.9138 - mean_absolute_error: 2.2676 - val_loss: 200.2302 - val_mean_absolute_error: 11.9393\n",
      "Epoch 51/100\n",
      "13/13 [==============================] - 1s 44ms/step - loss: 11.0664 - mean_absolute_error: 2.6034 - val_loss: 199.2197 - val_mean_absolute_error: 11.8970\n",
      "Epoch 52/100\n",
      "13/13 [==============================] - 1s 48ms/step - loss: 9.6456 - mean_absolute_error: 2.3534 - val_loss: 196.2237 - val_mean_absolute_error: 11.7570\n",
      "Epoch 53/100\n",
      "13/13 [==============================] - 1s 45ms/step - loss: 8.6561 - mean_absolute_error: 2.2503 - val_loss: 196.7869 - val_mean_absolute_error: 11.8067\n",
      "Epoch 54/100\n",
      "13/13 [==============================] - 1s 47ms/step - loss: 8.7972 - mean_absolute_error: 2.2784 - val_loss: 195.5312 - val_mean_absolute_error: 11.7498\n",
      "Epoch 55/100\n",
      "13/13 [==============================] - 1s 47ms/step - loss: 8.6256 - mean_absolute_error: 2.2385 - val_loss: 182.3179 - val_mean_absolute_error: 11.2157\n",
      "Epoch 56/100\n",
      "13/13 [==============================] - 1s 51ms/step - loss: 8.8022 - mean_absolute_error: 2.2491 - val_loss: 188.4014 - val_mean_absolute_error: 11.5336\n",
      "Epoch 57/100\n",
      "13/13 [==============================] - 1s 72ms/step - loss: 9.0776 - mean_absolute_error: 2.2888 - val_loss: 181.6546 - val_mean_absolute_error: 11.2340\n",
      "Epoch 58/100\n",
      "13/13 [==============================] - 1s 73ms/step - loss: 8.2744 - mean_absolute_error: 2.1725 - val_loss: 183.4325 - val_mean_absolute_error: 11.3622\n",
      "Epoch 59/100\n",
      "13/13 [==============================] - 1s 73ms/step - loss: 8.3162 - mean_absolute_error: 2.1796 - val_loss: 183.5794 - val_mean_absolute_error: 11.3991\n",
      "Epoch 60/100\n",
      "13/13 [==============================] - 1s 60ms/step - loss: 9.3328 - mean_absolute_error: 2.3188 - val_loss: 173.3719 - val_mean_absolute_error: 10.9582\n",
      "Epoch 61/100\n",
      "13/13 [==============================] - 1s 69ms/step - loss: 8.7061 - mean_absolute_error: 2.2709 - val_loss: 170.2070 - val_mean_absolute_error: 10.7670\n",
      "Epoch 62/100\n",
      "13/13 [==============================] - 1s 76ms/step - loss: 8.3952 - mean_absolute_error: 2.1915 - val_loss: 174.5808 - val_mean_absolute_error: 10.9790\n",
      "Epoch 63/100\n",
      "13/13 [==============================] - 1s 67ms/step - loss: 8.5526 - mean_absolute_error: 2.1998 - val_loss: 170.0490 - val_mean_absolute_error: 10.8327\n",
      "Epoch 64/100\n",
      "13/13 [==============================] - 1s 63ms/step - loss: 8.5563 - mean_absolute_error: 2.2099 - val_loss: 172.0624 - val_mean_absolute_error: 10.9475\n",
      "Epoch 65/100\n",
      "13/13 [==============================] - 1s 67ms/step - loss: 8.2328 - mean_absolute_error: 2.1697 - val_loss: 169.9575 - val_mean_absolute_error: 10.8517\n",
      "Epoch 66/100\n",
      "13/13 [==============================] - 1s 68ms/step - loss: 8.2623 - mean_absolute_error: 2.1819 - val_loss: 173.2381 - val_mean_absolute_error: 11.0530\n",
      "Epoch 67/100\n",
      "13/13 [==============================] - 1s 43ms/step - loss: 8.6381 - mean_absolute_error: 2.2071 - val_loss: 167.3706 - val_mean_absolute_error: 10.7616\n",
      "Epoch 68/100\n",
      "13/13 [==============================] - 1s 53ms/step - loss: 8.8051 - mean_absolute_error: 2.2273 - val_loss: 165.0750 - val_mean_absolute_error: 10.6908\n",
      "Epoch 69/100\n",
      "13/13 [==============================] - 1s 42ms/step - loss: 8.3441 - mean_absolute_error: 2.1886 - val_loss: 167.3671 - val_mean_absolute_error: 10.8132\n",
      "Epoch 70/100\n",
      "13/13 [==============================] - 1s 54ms/step - loss: 8.4211 - mean_absolute_error: 2.1881 - val_loss: 154.8037 - val_mean_absolute_error: 10.1737\n",
      "Epoch 71/100\n",
      "13/13 [==============================] - 1s 43ms/step - loss: 10.1157 - mean_absolute_error: 2.4619 - val_loss: 161.9546 - val_mean_absolute_error: 10.5635\n",
      "Epoch 72/100\n",
      "13/13 [==============================] - 1s 47ms/step - loss: 9.0201 - mean_absolute_error: 2.3277 - val_loss: 164.2063 - val_mean_absolute_error: 10.7176\n",
      "Epoch 73/100\n",
      "13/13 [==============================] - 1s 43ms/step - loss: 8.5692 - mean_absolute_error: 2.2040 - val_loss: 165.8169 - val_mean_absolute_error: 10.7613\n",
      "Epoch 74/100\n",
      "13/13 [==============================] - 1s 46ms/step - loss: 9.1677 - mean_absolute_error: 2.3121 - val_loss: 155.6397 - val_mean_absolute_error: 10.2616\n",
      "Epoch 75/100\n",
      "13/13 [==============================] - 1s 52ms/step - loss: 8.3701 - mean_absolute_error: 2.1839 - val_loss: 160.6802 - val_mean_absolute_error: 10.5198\n",
      "Epoch 76/100\n",
      "13/13 [==============================] - 1s 44ms/step - loss: 8.3325 - mean_absolute_error: 2.1876 - val_loss: 164.9758 - val_mean_absolute_error: 10.7900\n",
      "Epoch 77/100\n",
      "13/13 [==============================] - 1s 44ms/step - loss: 8.4282 - mean_absolute_error: 2.2412 - val_loss: 152.3624 - val_mean_absolute_error: 10.1563\n",
      "Epoch 78/100\n",
      "13/13 [==============================] - 1s 47ms/step - loss: 9.3335 - mean_absolute_error: 2.3815 - val_loss: 163.2956 - val_mean_absolute_error: 10.7307\n",
      "Epoch 79/100\n",
      "13/13 [==============================] - 1s 46ms/step - loss: 10.2657 - mean_absolute_error: 2.5398 - val_loss: 147.7529 - val_mean_absolute_error: 9.9066\n",
      "Epoch 80/100\n",
      "13/13 [==============================] - 1s 48ms/step - loss: 8.9129 - mean_absolute_error: 2.2478 - val_loss: 160.2058 - val_mean_absolute_error: 10.6027\n",
      "Epoch 81/100\n",
      "13/13 [==============================] - 1s 45ms/step - loss: 8.2470 - mean_absolute_error: 2.1526 - val_loss: 156.4842 - val_mean_absolute_error: 10.3998\n",
      "Epoch 82/100\n",
      "13/13 [==============================] - 1s 51ms/step - loss: 8.1540 - mean_absolute_error: 2.1650 - val_loss: 157.8484 - val_mean_absolute_error: 10.4956\n",
      "Epoch 83/100\n",
      "13/13 [==============================] - 1s 45ms/step - loss: 8.3280 - mean_absolute_error: 2.2048 - val_loss: 146.9875 - val_mean_absolute_error: 9.9248\n",
      "Epoch 84/100\n",
      "13/13 [==============================] - 1s 46ms/step - loss: 9.1068 - mean_absolute_error: 2.2547 - val_loss: 154.3816 - val_mean_absolute_error: 10.3467\n",
      "Epoch 85/100\n",
      "13/13 [==============================] - 1s 43ms/step - loss: 8.6165 - mean_absolute_error: 2.2372 - val_loss: 154.8596 - val_mean_absolute_error: 10.3752\n",
      "Epoch 86/100\n",
      "13/13 [==============================] - 1s 47ms/step - loss: 8.3673 - mean_absolute_error: 2.1877 - val_loss: 148.8926 - val_mean_absolute_error: 10.0349\n",
      "Epoch 87/100\n",
      "13/13 [==============================] - 1s 48ms/step - loss: 8.2085 - mean_absolute_error: 2.1679 - val_loss: 156.4389 - val_mean_absolute_error: 10.4573\n",
      "Epoch 88/100\n",
      "13/13 [==============================] - 1s 45ms/step - loss: 8.2798 - mean_absolute_error: 2.1708 - val_loss: 157.7699 - val_mean_absolute_error: 10.5093\n",
      "Epoch 89/100\n",
      "13/13 [==============================] - 1s 49ms/step - loss: 9.0578 - mean_absolute_error: 2.2814 - val_loss: 141.8092 - val_mean_absolute_error: 9.6944\n",
      "Epoch 90/100\n",
      "13/13 [==============================] - 1s 49ms/step - loss: 9.8930 - mean_absolute_error: 2.4663 - val_loss: 152.1923 - val_mean_absolute_error: 10.2508\n",
      "Epoch 91/100\n",
      "13/13 [==============================] - 1s 48ms/step - loss: 8.3655 - mean_absolute_error: 2.2002 - val_loss: 152.3185 - val_mean_absolute_error: 10.2648\n",
      "Epoch 92/100\n",
      "13/13 [==============================] - 1s 45ms/step - loss: 8.3785 - mean_absolute_error: 2.1891 - val_loss: 145.2300 - val_mean_absolute_error: 9.9088\n",
      "Epoch 93/100\n",
      "13/13 [==============================] - 1s 43ms/step - loss: 8.1238 - mean_absolute_error: 2.1460 - val_loss: 150.0981 - val_mean_absolute_error: 10.1566\n",
      "Epoch 94/100\n",
      "13/13 [==============================] - 1s 47ms/step - loss: 8.5155 - mean_absolute_error: 2.2351 - val_loss: 145.1408 - val_mean_absolute_error: 9.9401\n",
      "Epoch 95/100\n",
      "13/13 [==============================] - 1s 51ms/step - loss: 8.3718 - mean_absolute_error: 2.2339 - val_loss: 145.8250 - val_mean_absolute_error: 9.9287\n",
      "Epoch 96/100\n",
      "13/13 [==============================] - 1s 50ms/step - loss: 8.7715 - mean_absolute_error: 2.2288 - val_loss: 145.7930 - val_mean_absolute_error: 9.9652\n",
      "Epoch 97/100\n",
      "13/13 [==============================] - 1s 53ms/step - loss: 8.5504 - mean_absolute_error: 2.2023 - val_loss: 149.0032 - val_mean_absolute_error: 10.1491\n",
      "Epoch 98/100\n",
      "13/13 [==============================] - 1s 59ms/step - loss: 8.6705 - mean_absolute_error: 2.2176 - val_loss: 148.2589 - val_mean_absolute_error: 10.0708\n",
      "Epoch 99/100\n",
      "13/13 [==============================] - 1s 47ms/step - loss: 8.5929 - mean_absolute_error: 2.2211 - val_loss: 143.9342 - val_mean_absolute_error: 9.8521\n",
      "Epoch 100/100\n",
      "13/13 [==============================] - 1s 49ms/step - loss: 8.7355 - mean_absolute_error: 2.2515 - val_loss: 146.8707 - val_mean_absolute_error: 10.0537\n"
     ]
    }
   ],
   "source": [
    "# Define and train the model\n",
    "model = keras.Sequential([\n",
    "    keras.layers.Input((100, 1)),\n",
    "    tf.keras.layers.Bidirectional(keras.layers.LSTM(64)),\n",
    "    keras.layers.Dense(32, activation='relu'),\n",
    "    keras.layers.Dense(32, activation='relu'),\n",
    "    keras.layers.Dense(1)\n",
    "])\n",
    "\n",
    "model.compile(loss='mse',\n",
    "              optimizer=tf.keras.optimizers.Adam(learning_rate=0.001),\n",
    "              metrics=['mean_absolute_error'])\n",
    "\n",
    "history = model.fit(X_train, y_train, validation_data=(X_val, y_val), epochs=100)"
   ]
  },
  {
   "cell_type": "code",
   "execution_count": 41,
   "metadata": {},
   "outputs": [
    {
     "name": "stdout",
     "output_type": "stream",
     "text": [
      "13/13 [==============================] - 1s 17ms/step\n"
     ]
    },
    {
     "data": {
      "text/plain": [
       "<matplotlib.legend.Legend at 0x2b289410e80>"
      ]
     },
     "execution_count": 41,
     "metadata": {},
     "output_type": "execute_result"
    },
    {
     "data": {
      "image/png": "[encoded data removed]",
      "text/plain": [
       "<Figure size 640x480 with 1 Axes>"
      ]
     },
     "metadata": {},
     "output_type": "display_data"
    }
   ],
   "source": [
    "train_predictions = model.predict(X_train).flatten()\n",
    "\n",
    "plt.plot(dates_train, train_predictions)\n",
    "plt.plot(dates_train, y_train)\n",
    "plt.legend(['Training Predictions', 'Training Observations'])"
   ]
  },
  {
   "cell_type": "code",
   "execution_count": 42,
   "metadata": {},
   "outputs": [
    {
     "name": "stdout",
     "output_type": "stream",
     "text": [
      "2/2 [==============================] - 0s 26ms/step\n"
     ]
    },
    {
     "data": {
      "text/plain": [
       "<matplotlib.legend.Legend at 0x2b2829cf010>"
      ]
     },
     "execution_count": 42,
     "metadata": {},
     "output_type": "execute_result"
    },
    {
     "data": {
      "image/png": "[encoded data removed]",
      "text/plain": [
       "<Figure size 640x480 with 1 Axes>"
      ]
     },
     "metadata": {},
     "output_type": "display_data"
    }
   ],
   "source": [
    "val_predictions = model.predict(X_val).flatten()\n",
    "\n",
    "plt.plot(dates_val, val_predictions)\n",
    "plt.plot(dates_val, y_val)\n",
    "plt.legend(['Validation Predictions', 'Validation Observations'])"
   ]
  },
  {
   "cell_type": "code",
   "execution_count": 43,
   "metadata": {},
   "outputs": [
    {
     "name": "stdout",
     "output_type": "stream",
     "text": [
      "2/2 [==============================] - 0s 20ms/step\n"
     ]
    },
    {
     "data": {
      "text/plain": [
       "<matplotlib.legend.Legend at 0x2b2ffd6f430>"
      ]
     },
     "execution_count": 43,
     "metadata": {},
     "output_type": "execute_result"
    },
    {
     "data": {
      "image/png": "[encoded data removed]",
      "text/plain": [
       "<Figure size 640x480 with 1 Axes>"
      ]
     },
     "metadata": {},
     "output_type": "display_data"
    }
   ],
   "source": [
    "test_predictions = model.predict(X_test).flatten()\n",
    "\n",
    "plt.plot(dates_test, test_predictions)\n",
    "plt.plot(dates_test, y_test)\n",
    "plt.legend(['Testing Predictions', 'Testing Observations'])"
   ]
  },
  {
   "cell_type": "code",
   "execution_count": 44,
   "metadata": {},
   "outputs": [
    {
     "data": {
      "text/plain": [
       "array([Timestamp('2024-03-14 00:00:00'), Timestamp('2024-03-15 00:00:00'),\n",
       "       Timestamp('2024-03-18 00:00:00'), Timestamp('2024-03-19 00:00:00'),\n",
       "       Timestamp('2024-03-20 00:00:00'), Timestamp('2024-03-21 00:00:00'),\n",
       "       Timestamp('2024-03-22 00:00:00'), Timestamp('2024-03-25 00:00:00'),\n",
       "       Timestamp('2024-03-26 00:00:00'), Timestamp('2024-03-27 00:00:00'),\n",
       "       Timestamp('2024-03-28 00:00:00'), Timestamp('2024-04-01 00:00:00'),\n",
       "       Timestamp('2024-04-02 00:00:00'), Timestamp('2024-04-03 00:00:00'),\n",
       "       Timestamp('2024-04-04 00:00:00'), Timestamp('2024-04-05 00:00:00'),\n",
       "       Timestamp('2024-04-08 00:00:00'), Timestamp('2024-04-09 00:00:00'),\n",
       "       Timestamp('2024-04-10 00:00:00'), Timestamp('2024-04-11 00:00:00'),\n",
       "       Timestamp('2024-04-12 00:00:00'), Timestamp('2024-04-15 00:00:00'),\n",
       "       Timestamp('2024-04-16 00:00:00'), Timestamp('2024-04-17 00:00:00'),\n",
       "       Timestamp('2024-04-18 00:00:00'), Timestamp('2024-04-19 00:00:00'),\n",
       "       Timestamp('2024-04-22 00:00:00'), Timestamp('2024-04-23 00:00:00'),\n",
       "       Timestamp('2024-04-24 00:00:00'), Timestamp('2024-04-25 00:00:00'),\n",
       "       Timestamp('2024-04-26 00:00:00'), Timestamp('2024-04-29 00:00:00'),\n",
       "       Timestamp('2024-04-30 00:00:00'), Timestamp('2024-05-01 00:00:00'),\n",
       "       Timestamp('2024-05-02 00:00:00'), Timestamp('2024-05-03 00:00:00'),\n",
       "       Timestamp('2024-05-06 00:00:00'), Timestamp('2024-05-07 00:00:00'),\n",
       "       Timestamp('2024-05-08 00:00:00'), Timestamp('2024-05-09 00:00:00'),\n",
       "       Timestamp('2024-05-10 00:00:00'), Timestamp('2024-05-13 00:00:00'),\n",
       "       Timestamp('2024-05-14 00:00:00'), Timestamp('2024-05-15 00:00:00'),\n",
       "       Timestamp('2024-05-16 00:00:00'), Timestamp('2024-05-17 00:00:00'),\n",
       "       Timestamp('2024-05-20 00:00:00'), Timestamp('2024-05-21 00:00:00'),\n",
       "       Timestamp('2024-05-22 00:00:00'), Timestamp('2024-05-23 00:00:00'),\n",
       "       Timestamp('2024-05-24 00:00:00')], dtype=object)"
      ]
     },
     "execution_count": 44,
     "metadata": {},
     "output_type": "execute_result"
    }
   ],
   "source": [
    "dates_test"
   ]
  },
  {
   "cell_type": "code",
   "execution_count": 45,
   "metadata": {},
   "outputs": [
    {
     "data": {
      "text/plain": [
       "array([157.90686, 158.0932 , 157.84457, 157.83948, 158.01295, 158.18814,\n",
       "       158.14478, 158.15665, 158.20886, 158.1165 , 158.19125, 158.22519,\n",
       "       158.25298, 158.22551, 158.31186, 158.2237 , 158.41516, 158.44159,\n",
       "       158.44034, 158.47464, 158.5799 , 158.48058, 158.38313, 158.38742,\n",
       "       158.28494, 158.18773, 157.91714, 158.06621, 158.20508, 158.06259,\n",
       "       157.86682, 158.22165, 158.2911 , 158.00266, 158.19496, 158.44925,\n",
       "       158.52725, 158.59827, 158.59616, 158.58798, 158.61386, 158.53046,\n",
       "       158.50414, 158.53316, 158.48946, 158.41124, 158.44868, 158.41159,\n",
       "       158.39755, 158.40947, 158.34314], dtype=float32)"
      ]
     },
     "execution_count": 45,
     "metadata": {},
     "output_type": "execute_result"
    }
   ],
   "source": [
    "test_predictions"
   ]
  },
  {
   "cell_type": "code",
   "execution_count": 46,
   "metadata": {},
   "outputs": [
    {
     "data": {
      "text/html": [
       "<div>\n",
       "<style scoped>\n",
       "    .dataframe tbody tr th:only-of-type {\n",
       "        vertical-align: middle;\n",
       "    }\n",
       "\n",
       "    .dataframe tbody tr th {\n",
       "        vertical-align: top;\n",
       "    }\n",
       "\n",
       "    .dataframe thead th {\n",
       "        text-align: right;\n",
       "    }\n",
       "</style>\n",
       "<table border=\"1\" class=\"dataframe\">\n",
       "  <thead>\n",
       "    <tr style=\"text-align: right;\">\n",
       "      <th></th>\n",
       "      <th>Open</th>\n",
       "      <th>High</th>\n",
       "      <th>Low</th>\n",
       "      <th>Close</th>\n",
       "      <th>Adj Close</th>\n",
       "      <th>Volume</th>\n",
       "    </tr>\n",
       "    <tr>\n",
       "      <th>Date</th>\n",
       "      <th></th>\n",
       "      <th></th>\n",
       "      <th></th>\n",
       "      <th></th>\n",
       "      <th></th>\n",
       "      <th></th>\n",
       "    </tr>\n",
       "  </thead>\n",
       "  <tbody>\n",
       "    <tr>\n",
       "      <th>2022-01-03</th>\n",
       "      <td>167.550003</td>\n",
       "      <td>170.703506</td>\n",
       "      <td>166.160507</td>\n",
       "      <td>170.404495</td>\n",
       "      <td>170.404495</td>\n",
       "      <td>63520000</td>\n",
       "    </tr>\n",
       "    <tr>\n",
       "      <th>2022-01-04</th>\n",
       "      <td>170.438004</td>\n",
       "      <td>171.399994</td>\n",
       "      <td>166.349503</td>\n",
       "      <td>167.522003</td>\n",
       "      <td>167.522003</td>\n",
       "      <td>70726000</td>\n",
       "    </tr>\n",
       "    <tr>\n",
       "      <th>2022-01-05</th>\n",
       "      <td>166.882996</td>\n",
       "      <td>167.126495</td>\n",
       "      <td>164.356995</td>\n",
       "      <td>164.356995</td>\n",
       "      <td>164.356995</td>\n",
       "      <td>64302000</td>\n",
       "    </tr>\n",
       "    <tr>\n",
       "      <th>2022-01-06</th>\n",
       "      <td>163.450500</td>\n",
       "      <td>164.800003</td>\n",
       "      <td>161.936996</td>\n",
       "      <td>163.253998</td>\n",
       "      <td>163.253998</td>\n",
       "      <td>51958000</td>\n",
       "    </tr>\n",
       "    <tr>\n",
       "      <th>2022-01-07</th>\n",
       "      <td>163.839005</td>\n",
       "      <td>165.243500</td>\n",
       "      <td>162.031006</td>\n",
       "      <td>162.554001</td>\n",
       "      <td>162.554001</td>\n",
       "      <td>46606000</td>\n",
       "    </tr>\n",
       "    <tr>\n",
       "      <th>...</th>\n",
       "      <td>...</td>\n",
       "      <td>...</td>\n",
       "      <td>...</td>\n",
       "      <td>...</td>\n",
       "      <td>...</td>\n",
       "      <td>...</td>\n",
       "    </tr>\n",
       "    <tr>\n",
       "      <th>2024-05-21</th>\n",
       "      <td>182.300003</td>\n",
       "      <td>183.259995</td>\n",
       "      <td>180.750000</td>\n",
       "      <td>183.149994</td>\n",
       "      <td>183.149994</td>\n",
       "      <td>50839100</td>\n",
       "    </tr>\n",
       "    <tr>\n",
       "      <th>2024-05-22</th>\n",
       "      <td>183.880005</td>\n",
       "      <td>185.220001</td>\n",
       "      <td>181.970001</td>\n",
       "      <td>183.130005</td>\n",
       "      <td>183.130005</td>\n",
       "      <td>28148800</td>\n",
       "    </tr>\n",
       "    <tr>\n",
       "      <th>2024-05-23</th>\n",
       "      <td>183.660004</td>\n",
       "      <td>184.759995</td>\n",
       "      <td>180.080002</td>\n",
       "      <td>181.050003</td>\n",
       "      <td>181.050003</td>\n",
       "      <td>33670200</td>\n",
       "    </tr>\n",
       "    <tr>\n",
       "      <th>2024-05-24</th>\n",
       "      <td>181.649994</td>\n",
       "      <td>182.440002</td>\n",
       "      <td>180.300003</td>\n",
       "      <td>180.750000</td>\n",
       "      <td>180.750000</td>\n",
       "      <td>27434100</td>\n",
       "    </tr>\n",
       "    <tr>\n",
       "      <th>2024-05-28</th>\n",
       "      <td>179.850006</td>\n",
       "      <td>181.850006</td>\n",
       "      <td>179.490005</td>\n",
       "      <td>180.919998</td>\n",
       "      <td>180.919998</td>\n",
       "      <td>14436416</td>\n",
       "    </tr>\n",
       "  </tbody>\n",
       "</table>\n",
       "<p>603 rows × 6 columns</p>\n",
       "</div>"
      ],
      "text/plain": [
       "                  Open        High         Low       Close   Adj Close  \\\n",
       "Date                                                                     \n",
       "2022-01-03  167.550003  170.703506  166.160507  170.404495  170.404495   \n",
       "2022-01-04  170.438004  171.399994  166.349503  167.522003  167.522003   \n",
       "2022-01-05  166.882996  167.126495  164.356995  164.356995  164.356995   \n",
       "2022-01-06  163.450500  164.800003  161.936996  163.253998  163.253998   \n",
       "2022-01-07  163.839005  165.243500  162.031006  162.554001  162.554001   \n",
       "...                ...         ...         ...         ...         ...   \n",
       "2024-05-21  182.300003  183.259995  180.750000  183.149994  183.149994   \n",
       "2024-05-22  183.880005  185.220001  181.970001  183.130005  183.130005   \n",
       "2024-05-23  183.660004  184.759995  180.080002  181.050003  181.050003   \n",
       "2024-05-24  181.649994  182.440002  180.300003  180.750000  180.750000   \n",
       "2024-05-28  179.850006  181.850006  179.490005  180.919998  180.919998   \n",
       "\n",
       "              Volume  \n",
       "Date                  \n",
       "2022-01-03  63520000  \n",
       "2022-01-04  70726000  \n",
       "2022-01-05  64302000  \n",
       "2022-01-06  51958000  \n",
       "2022-01-07  46606000  \n",
       "...              ...  \n",
       "2024-05-21  50839100  \n",
       "2024-05-22  28148800  \n",
       "2024-05-23  33670200  \n",
       "2024-05-24  27434100  \n",
       "2024-05-28  14436416  \n",
       "\n",
       "[603 rows x 6 columns]"
      ]
     },
     "execution_count": 46,
     "metadata": {},
     "output_type": "execute_result"
    }
   ],
   "source": [
    "df"
   ]
  },
  {
   "cell_type": "code",
   "execution_count": 47,
   "metadata": {},
   "outputs": [
    {
     "data": {
      "text/plain": [
       "498    183.130005\n",
       "499    181.050003\n",
       "500    180.750000\n",
       "Name: Target, dtype: float64"
      ]
     },
     "execution_count": 47,
     "metadata": {},
     "output_type": "execute_result"
    }
   ],
   "source": [
    "req = windowed_df.tail(3)\n",
    "req['Target']"
   ]
  },
  {
   "cell_type": "code",
   "execution_count": 48,
   "metadata": {},
   "outputs": [],
   "source": [
    "inp = tuple(req['Target'])"
   ]
  },
  {
   "cell_type": "code",
   "execution_count": 49,
   "metadata": {},
   "outputs": [
    {
     "data": {
      "text/plain": [
       "(183.130005, 181.050003, 180.75)"
      ]
     },
     "execution_count": 49,
     "metadata": {},
     "output_type": "execute_result"
    }
   ],
   "source": [
    "inp"
   ]
  },
  {
   "cell_type": "code",
   "execution_count": 50,
   "metadata": {},
   "outputs": [
    {
     "name": "stdout",
     "output_type": "stream",
     "text": [
      "1/1 [==============================] - 2s 2s/step\n"
     ]
    }
   ],
   "source": [
    "npin = np.asarray(inp)\n",
    "rs = npin.reshape(1, -1)\n",
    "stk_pred = model.predict(rs)"
   ]
  },
  {
   "cell_type": "code",
   "execution_count": 51,
   "metadata": {},
   "outputs": [
    {
     "data": {
      "text/plain": [
       "array([[132.28189]], dtype=float32)"
      ]
     },
     "execution_count": 51,
     "metadata": {},
     "output_type": "execute_result"
    }
   ],
   "source": [
    "stk_pred"
   ]
  },
  {
   "cell_type": "code",
   "execution_count": 52,
   "metadata": {},
   "outputs": [],
   "source": [
    "today = float(stk_pred)"
   ]
  },
  {
   "cell_type": "code",
   "execution_count": 53,
   "metadata": {},
   "outputs": [
    {
     "data": {
      "text/plain": [
       "132.28189086914062"
      ]
     },
     "execution_count": 53,
     "metadata": {},
     "output_type": "execute_result"
    }
   ],
   "source": [
    "today"
   ]
  },
  {
   "cell_type": "code",
   "execution_count": 54,
   "metadata": {},
   "outputs": [],
   "source": [
    "req1 = windowed_df.tail(2)\n",
    "tom = list(req1['Target'])"
   ]
  },
  {
   "cell_type": "code",
   "execution_count": 55,
   "metadata": {},
   "outputs": [],
   "source": [
    "tom = tom + [today,]"
   ]
  },
  {
   "cell_type": "code",
   "execution_count": 56,
   "metadata": {},
   "outputs": [
    {
     "data": {
      "text/plain": [
       "[181.050003, 180.75, 132.28189086914062]"
      ]
     },
     "execution_count": 56,
     "metadata": {},
     "output_type": "execute_result"
    }
   ],
   "source": [
    "tom"
   ]
  },
  {
   "cell_type": "code",
   "execution_count": 57,
   "metadata": {},
   "outputs": [],
   "source": [
    "tom1 = tuple(tom)"
   ]
  },
  {
   "cell_type": "code",
   "execution_count": 58,
   "metadata": {},
   "outputs": [
    {
     "data": {
      "text/plain": [
       "(181.050003, 180.75, 132.28189086914062)"
      ]
     },
     "execution_count": 58,
     "metadata": {},
     "output_type": "execute_result"
    }
   ],
   "source": [
    "tom1\n"
   ]
  },
  {
   "cell_type": "code",
   "execution_count": 59,
   "metadata": {},
   "outputs": [
    {
     "name": "stdout",
     "output_type": "stream",
     "text": [
      "1/1 [==============================] - 0s 88ms/step\n"
     ]
    }
   ],
   "source": [
    "npin = np.asarray(tom1)\n",
    "rs = npin.reshape(1, -1)\n",
    "tom_pred = model.predict(rs)"
   ]
  },
  {
   "cell_type": "code",
   "execution_count": 60,
   "metadata": {},
   "outputs": [
    {
     "data": {
      "text/plain": [
       "array([[133.40898]], dtype=float32)"
      ]
     },
     "execution_count": 60,
     "metadata": {},
     "output_type": "execute_result"
    }
   ],
   "source": [
    "tom_pred"
   ]
  }
 ],
 "metadata": {
  "kernelspec": {
   "display_name": "base",
   "language": "python",
   "name": "python3"
  },
  "language_info": {
   "codemirror_mode": {
    "name": "ipython",
    "version": 3
   },
   "file_extension": ".py",
   "mimetype": "text/x-python",
   "name": "python",
   "nbconvert_exporter": "python",
   "pygments_lexer": "ipython3",
   "version": "3.10.9"
  }
 },
 "nbformat": 4,
 "nbformat_minor": 2
}
