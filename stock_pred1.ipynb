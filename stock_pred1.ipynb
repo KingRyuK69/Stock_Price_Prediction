{
 "cells": [
  {
   "cell_type": "code",
   "execution_count": 16,
   "metadata": {},
   "outputs": [],
   "source": [
    "import time  # import time module\n",
    "import datetime  # import datetime module (functions)\n",
    "import pandas as pd\n",
    "import matplotlib.pyplot as plt\n",
    "import numpy as np\n",
    "import os"
   ]
  },
  {
   "cell_type": "code",
   "execution_count": 17,
   "metadata": {},
   "outputs": [],
   "source": [
    "# Define the ticker, periods, and interval\n",
    "ticker = 'AMZN'\n",
    "period1 = int(time.mktime(datetime.datetime(2022, 12, 1, 23, 59).timetuple()))\n",
    "period2 = int(time.mktime(datetime.datetime.now().timetuple()))\n",
    "interval = '1d'"
   ]
  },
  {
   "cell_type": "code",
   "execution_count": 18,
   "metadata": {},
   "outputs": [],
   "source": [
    "# Fetch historical stock data from Yahoo Finance\n",
    "query_string = f'https://query1.finance.yahoo.com/v7/finance/download/{ticker}?period1={period1}&period2={period2}&interval={interval}&events=history&includeAdjustedClose=true'\n",
    "df = pd.read_csv(query_string)"
   ]
  },
  {
   "cell_type": "code",
   "execution_count": 19,
   "metadata": {},
   "outputs": [],
   "source": [
    "# Function to convert string date to datetime object\n",
    "def str_to_datetime(s):\n",
    "    split = s.split('-')\n",
    "    year, month, day = int(split[0]), int(split[1]), int(split[2])\n",
    "    return datetime.datetime(year=year, month=month, day=day)"
   ]
  },
  {
   "cell_type": "code",
   "execution_count": 20,
   "metadata": {},
   "outputs": [],
   "source": [
    "# Preprocess the data\n",
    "df['Date'] = df['Date'].apply(str_to_datetime)\n",
    "df.index = df.pop('Date')\n",
    "df = df[['Close']]"
   ]
  },
  {
   "cell_type": "code",
   "execution_count": 21,
   "metadata": {},
   "outputs": [],
   "source": [
    "# Convert dataframe into a supervised learning problem\n",
    "def df_to_windowed_df(dataframe, first_date_str, last_date_str, n=3):\n",
    "    first_date = str_to_datetime(first_date_str)\n",
    "    last_date = str_to_datetime(last_date_str)\n",
    "\n",
    "    target_date = first_date\n",
    "    dates = []\n",
    "    X, Y = [], []\n",
    "\n",
    "    last_time = False\n",
    "    while True:\n",
    "        df_subset = dataframe.loc[:target_date].tail(n + 1)\n",
    "        if len(df_subset) != n + 1:\n",
    "            print(f'Error: Window of size {n} is too large for date {target_date}')\n",
    "            return\n",
    "\n",
    "        values = df_subset['Close'].to_numpy()\n",
    "        x, y = values[:-1], values[-1]\n",
    "\n",
    "        dates.append(target_date)\n",
    "        X.append(x)\n",
    "        Y.append(y)\n",
    "\n",
    "        next_week = dataframe.loc[target_date:target_date + datetime.timedelta(days=7)]\n",
    "        next_datetime_str = str(next_week.head(2).tail(1).index.values[0])\n",
    "        next_date_str = next_datetime_str.split('T')[0]\n",
    "        year, month, day = next_date_str.split('-')\n",
    "        next_date = datetime.datetime(day=int(day), month=int(month), year=int(year))\n",
    "\n",
    "        if last_time:\n",
    "            break\n",
    "\n",
    "        target_date = next_date\n",
    "\n",
    "        if target_date == last_date:\n",
    "            last_time = True\n",
    "\n",
    "    ret_df = pd.DataFrame({})\n",
    "    ret_df['Target Date'] = dates\n",
    "    X = np.array(X)\n",
    "    for i in range(0, n):\n",
    "        ret_df[f'Target-{n - i}'] = X[:, i]\n",
    "\n",
    "    ret_df['Target'] = Y\n",
    "    return ret_df"
   ]
  },
  {
   "cell_type": "code",
   "execution_count": 22,
   "metadata": {},
   "outputs": [
    {
     "ename": "AttributeError",
     "evalue": "'Timestamp' object has no attribute 'split'",
     "output_type": "error",
     "traceback": [
      "\u001b[1;31m---------------------------------------------------------------------------\u001b[0m",
      "\u001b[1;31mAttributeError\u001b[0m                            Traceback (most recent call last)",
      "Cell \u001b[1;32mIn[22], line 4\u001b[0m\n\u001b[0;32m      2\u001b[0m dt \u001b[38;5;241m=\u001b[39m df\u001b[38;5;241m.\u001b[39mindex[\u001b[38;5;241m3\u001b[39m]  \u001b[38;5;66;03m# get the 4th date\u001b[39;00m\n\u001b[0;32m      3\u001b[0m curr \u001b[38;5;241m=\u001b[39m \u001b[38;5;28mstr\u001b[39m(datetime\u001b[38;5;241m.\u001b[39mdatetime\u001b[38;5;241m.\u001b[39mnow() \u001b[38;5;241m-\u001b[39m datetime\u001b[38;5;241m.\u001b[39mtimedelta(days\u001b[38;5;241m=\u001b[39m\u001b[38;5;241m2\u001b[39m))[:\u001b[38;5;241m10\u001b[39m]  \u001b[38;5;66;03m# trimmed the current variable to date\u001b[39;00m\n\u001b[1;32m----> 4\u001b[0m windowed_df \u001b[38;5;241m=\u001b[39m \u001b[43mdf_to_windowed_df\u001b[49m\u001b[43m(\u001b[49m\u001b[43mdf\u001b[49m\u001b[43m,\u001b[49m\u001b[43m \u001b[49m\u001b[43mdt\u001b[49m\u001b[43m,\u001b[49m\u001b[43m \u001b[49m\u001b[43mcurr\u001b[49m\u001b[43m,\u001b[49m\u001b[43m \u001b[49m\u001b[43mn\u001b[49m\u001b[38;5;241;43m=\u001b[39;49m\u001b[38;5;241;43m3\u001b[39;49m\u001b[43m)\u001b[49m\n",
      "Cell \u001b[1;32mIn[21], line 3\u001b[0m, in \u001b[0;36mdf_to_windowed_df\u001b[1;34m(dataframe, first_date_str, last_date_str, n)\u001b[0m\n\u001b[0;32m      2\u001b[0m \u001b[38;5;28;01mdef\u001b[39;00m \u001b[38;5;21mdf_to_windowed_df\u001b[39m(dataframe, first_date_str, last_date_str, n\u001b[38;5;241m=\u001b[39m\u001b[38;5;241m3\u001b[39m):\n\u001b[1;32m----> 3\u001b[0m     first_date \u001b[38;5;241m=\u001b[39m \u001b[43mstr_to_datetime\u001b[49m\u001b[43m(\u001b[49m\u001b[43mfirst_date_str\u001b[49m\u001b[43m)\u001b[49m\n\u001b[0;32m      4\u001b[0m     last_date \u001b[38;5;241m=\u001b[39m str_to_datetime(last_date_str)\n\u001b[0;32m      6\u001b[0m     target_date \u001b[38;5;241m=\u001b[39m first_date\n",
      "Cell \u001b[1;32mIn[19], line 3\u001b[0m, in \u001b[0;36mstr_to_datetime\u001b[1;34m(s)\u001b[0m\n\u001b[0;32m      2\u001b[0m \u001b[38;5;28;01mdef\u001b[39;00m \u001b[38;5;21mstr_to_datetime\u001b[39m(s):\n\u001b[1;32m----> 3\u001b[0m     split \u001b[38;5;241m=\u001b[39m \u001b[43ms\u001b[49m\u001b[38;5;241;43m.\u001b[39;49m\u001b[43msplit\u001b[49m(\u001b[38;5;124m'\u001b[39m\u001b[38;5;124m-\u001b[39m\u001b[38;5;124m'\u001b[39m)\n\u001b[0;32m      4\u001b[0m     year, month, day \u001b[38;5;241m=\u001b[39m \u001b[38;5;28mint\u001b[39m(split[\u001b[38;5;241m0\u001b[39m]), \u001b[38;5;28mint\u001b[39m(split[\u001b[38;5;241m1\u001b[39m]), \u001b[38;5;28mint\u001b[39m(split[\u001b[38;5;241m2\u001b[39m])\n\u001b[0;32m      5\u001b[0m     \u001b[38;5;28;01mreturn\u001b[39;00m datetime\u001b[38;5;241m.\u001b[39mdatetime(year\u001b[38;5;241m=\u001b[39myear, month\u001b[38;5;241m=\u001b[39mmonth, day\u001b[38;5;241m=\u001b[39mday)\n",
      "\u001b[1;31mAttributeError\u001b[0m: 'Timestamp' object has no attribute 'split'"
     ]
    }
   ],
   "source": [
    "# Generate windowed dataframe\n",
    "dt = df.index[3]  # get the 4th date\n",
    "curr = str(datetime.datetime.now() - datetime.timedelta(days=2))[:10]  # trimmed the current variable to date\n",
    "windowed_df = df_to_windowed_df(df, dt, curr, n=3)"
   ]
  },
  {
   "cell_type": "code",
   "execution_count": null,
   "metadata": {},
   "outputs": [],
   "source": [
    "# Split dataset into features and target\n",
    "def windowed_df_to_date_X_y(windowed_dataframe):\n",
    "    df_as_np = windowed_dataframe.to_numpy()\n",
    "    dates = df_as_np[:, 0]\n",
    "    middle_matrix = df_as_np[:, 1:-1]\n",
    "    X = middle_matrix.reshape((len(dates), middle_matrix.shape[1]))\n",
    "    Y = df_as_np[:, -1]\n",
    "    return dates, X.astype(np.float32), Y.astype(np.float32)\n",
    "\n",
    "dates, X, y = windowed_df_to_date_X_y(windowed_df)"
   ]
  },
  {
   "cell_type": "code",
   "execution_count": null,
   "metadata": {},
   "outputs": [],
   "source": [
    "# Split dataset into training, validation, and test sets\n",
    "q_80 = int(len(dates) * .8)\n",
    "q_90 = int(len(dates) * .9)\n",
    "dates_train, X_train, y_train = dates[:q_80], X[:q_80], y[:q_80]\n",
    "dates_val, X_val, y_val = dates[q_80:q_90], X[q_80:q_90], y[q_80:q_90]\n",
    "dates_test, X_test, y_test = dates[q_90:], X[q_90:], y[q_90:]"
   ]
  },
  {
   "cell_type": "code",
   "execution_count": null,
   "metadata": {},
   "outputs": [],
   "source": [
    "# Plot the train, validation, and test sets\n",
    "plt.plot(dates_train, y_train)\n",
    "plt.plot(dates_val, y_val)\n",
    "plt.plot(dates_test, y_test)\n",
    "plt.legend(['Train', 'Validation', 'Test'])\n",
    "plt.show()"
   ]
  },
  {
   "cell_type": "code",
   "execution_count": null,
   "metadata": {},
   "outputs": [],
   "source": [
    "import tensorflow as tf\n",
    "from tensorflow import keras\n",
    "from tensorflow.keras.callbacks import TensorBoard"
   ]
  },
  {
   "cell_type": "code",
   "execution_count": null,
   "metadata": {},
   "outputs": [],
   "source": [
    "# Setup TensorBoard logging directory\n",
    "log_dir = os.path.join(\"logs\", datetime.datetime.now().strftime(\"%Y%m%d-%H%M%S\"))\n",
    "tensorboard_callback = TensorBoard(log_dir=log_dir, histogram_freq=1)"
   ]
  },
  {
   "cell_type": "code",
   "execution_count": null,
   "metadata": {},
   "outputs": [],
   "source": [
    "# Build the model\n",
    "model = keras.Sequential([\n",
    "    keras.layers.Input((3, 1)),\n",
    "    tf.keras.layers.Bidirectional(keras.layers.LSTM(64)),\n",
    "    keras.layers.Dense(32, activation='relu'),\n",
    "    keras.layers.Dense(32, activation='relu'),\n",
    "    keras.layers.Dense(1)\n",
    "])\n",
    "\n",
    "model.compile(loss='mse',\n",
    "              optimizer=tf.keras.optimizers.Adam(learning_rate=0.001),\n",
    "              metrics=['mean_absolute_error'])\n",
    "\n",
    "# Train the model with TensorBoard callback\n",
    "model.fit(X_train, y_train, validation_data=(X_val, y_val), epochs=100, callbacks=[tensorboard_callback])"
   ]
  },
  {
   "cell_type": "code",
   "execution_count": null,
   "metadata": {},
   "outputs": [],
   "source": [
    "# Make predictions and plot\n",
    "train_predictions = model.predict(X_train).flatten()\n",
    "plt.plot(dates_train, train_predictions)\n",
    "plt.plot(dates_train, y_train)\n",
    "plt.legend(['Training Predictions', 'Training Observations'])\n",
    "plt.show()\n",
    "\n",
    "val_predictions = model.predict(X_val).flatten()\n",
    "plt.plot(dates_val, val_predictions)\n",
    "plt.plot(dates_val, y_val)\n",
    "plt.legend(['Validation Predictions', 'Validation Observations'])\n",
    "plt.show()\n",
    "\n",
    "test_predictions = model.predict(X_test).flatten()\n",
    "plt.plot(dates_test, test_predictions)\n",
    "plt.plot(dates_test, y_test)\n",
    "plt.legend(['Testing Predictions', 'Testing Observations'])\n",
    "plt.show()"
   ]
  },
  {
   "cell_type": "code",
   "execution_count": null,
   "metadata": {},
   "outputs": [],
   "source": [
    "# Launch TensorBoard to visualize the model architecture and training process\n",
    "%load_ext tensorboard\n",
    "%tensorboard --logdir logs"
   ]
  },
  {
   "cell_type": "code",
   "execution_count": null,
   "metadata": {},
   "outputs": [],
   "source": [
    "\n",
    "# Make predictions for future dates\n",
    "req = windowed_df.tail(3)\n",
    "inp = tuple(req['Target'])\n",
    "npin = np.asarray(inp).reshape(1, -1)\n",
    "stk_pred = model.predict(npin)\n",
    "today = float(stk_pred)\n",
    "\n",
    "req1 = windowed_df.tail(2)\n",
    "tom = list(req1['Target']) + [today]\n",
    "npin = np.asarray(tuple(tom)).reshape(1, -1)\n",
    "tom_pred = model.predict(npin)\n",
    "tomorrow = float(tom_pred)"
   ]
  },
  {
   "cell_type": "code",
   "execution_count": null,
   "metadata": {},
   "outputs": [],
   "source": [
    "print(f\"Predicted closing price for tomorrow: {tomorrow}\")"
   ]
  }
 ],
 "metadata": {
  "kernelspec": {
   "display_name": "base",
   "language": "python",
   "name": "python3"
  },
  "language_info": {
   "codemirror_mode": {
    "name": "ipython",
    "version": 3
   },
   "file_extension": ".py",
   "mimetype": "text/x-python",
   "name": "python",
   "nbconvert_exporter": "python",
   "pygments_lexer": "ipython3",
   "version": "3.10.9"
  }
 },
 "nbformat": 4,
 "nbformat_minor": 2
}
